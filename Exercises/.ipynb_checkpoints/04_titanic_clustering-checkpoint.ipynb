{
 "cells": [
  {
   "cell_type": "code",
   "execution_count": 1,
   "metadata": {},
   "outputs": [],
   "source": [
    "%matplotlib inline\n",
    "import math\n",
    "import numpy as np\n",
    "import pandas as pd\n",
    "import scipy.stats as stats\n",
    "import matplotlib.pyplot as plt\n",
    "from collections import defaultdict\n",
    "from scipy.stats.stats import pearsonr"
   ]
  },
  {
   "cell_type": "code",
   "execution_count": 3,
   "metadata": {},
   "outputs": [],
   "source": [
    "df = pd.read_csv(\"/home/daniele/dm-group-1/Dataset/titanic_train.csv\")"
   ]
  },
  {
   "cell_type": "code",
   "execution_count": 4,
   "metadata": {},
   "outputs": [],
   "source": [
    "sexes = sorted(df['Sex'].unique())\n",
    "genders_mapping = dict(zip(sexes, range(0, len(sexes) + 1)))\n",
    "df['Sex_Val'] = df['Sex'].map(genders_mapping).astype(int)"
   ]
  },
  {
   "cell_type": "code",
   "execution_count": 5,
   "metadata": {},
   "outputs": [
    {
     "ename": "TypeError",
     "evalue": "'<' not supported between instances of 'float' and 'str'",
     "output_type": "error",
     "traceback": [
      "\u001b[0;31m---------------------------------------------------------------------------\u001b[0m",
      "\u001b[0;31mTypeError\u001b[0m                                 Traceback (most recent call last)",
      "\u001b[0;32m<ipython-input-5-7744290605ef>\u001b[0m in \u001b[0;36m<module>\u001b[0;34m()\u001b[0m\n\u001b[0;32m----> 1\u001b[0;31m \u001b[0membarked_locs\u001b[0m \u001b[0;34m=\u001b[0m \u001b[0msorted\u001b[0m\u001b[0;34m(\u001b[0m\u001b[0mdf\u001b[0m\u001b[0;34m[\u001b[0m\u001b[0;34m'Embarked'\u001b[0m\u001b[0;34m]\u001b[0m\u001b[0;34m.\u001b[0m\u001b[0munique\u001b[0m\u001b[0;34m(\u001b[0m\u001b[0;34m)\u001b[0m\u001b[0;34m)\u001b[0m\u001b[0;34m\u001b[0m\u001b[0m\n\u001b[0m\u001b[1;32m      2\u001b[0m \u001b[0membarked_locs_mapping\u001b[0m \u001b[0;34m=\u001b[0m \u001b[0mdict\u001b[0m\u001b[0;34m(\u001b[0m\u001b[0mzip\u001b[0m\u001b[0;34m(\u001b[0m\u001b[0membarked_locs\u001b[0m\u001b[0;34m,\u001b[0m \u001b[0mrange\u001b[0m\u001b[0;34m(\u001b[0m\u001b[0;36m0\u001b[0m\u001b[0;34m,\u001b[0m \u001b[0mlen\u001b[0m\u001b[0;34m(\u001b[0m\u001b[0membarked_locs\u001b[0m\u001b[0;34m)\u001b[0m \u001b[0;34m+\u001b[0m \u001b[0;36m1\u001b[0m\u001b[0;34m)\u001b[0m\u001b[0;34m)\u001b[0m\u001b[0;34m)\u001b[0m\u001b[0;34m\u001b[0m\u001b[0m\n\u001b[1;32m      3\u001b[0m \u001b[0mdf\u001b[0m\u001b[0;34m[\u001b[0m\u001b[0;34m'Embarked_Val'\u001b[0m\u001b[0;34m]\u001b[0m \u001b[0;34m=\u001b[0m \u001b[0mdf\u001b[0m\u001b[0;34m[\u001b[0m\u001b[0;34m'Embarked'\u001b[0m\u001b[0;34m]\u001b[0m\u001b[0;34m.\u001b[0m\u001b[0mmap\u001b[0m\u001b[0;34m(\u001b[0m\u001b[0membarked_locs_mapping\u001b[0m\u001b[0;34m)\u001b[0m\u001b[0;34m.\u001b[0m\u001b[0mastype\u001b[0m\u001b[0;34m(\u001b[0m\u001b[0mint\u001b[0m\u001b[0;34m)\u001b[0m\u001b[0;34m\u001b[0m\u001b[0m\n",
      "\u001b[0;31mTypeError\u001b[0m: '<' not supported between instances of 'float' and 'str'"
     ]
    }
   ],
   "source": [
    "embarked_locs = sorted(df['Embarked'].unique())\n",
    "embarked_locs_mapping = dict(zip(embarked_locs, range(0, len(embarked_locs) + 1)))\n",
    "df['Embarked_Val'] = df['Embarked'].map(embarked_locs_mapping).astype(int)"
   ]
  },
  {
   "cell_type": "code",
   "execution_count": 6,
   "metadata": {},
   "outputs": [
    {
     "ename": "NameError",
     "evalue": "name 'embarked_locs_mapping' is not defined",
     "output_type": "error",
     "traceback": [
      "\u001b[0;31m---------------------------------------------------------------------------\u001b[0m",
      "\u001b[0;31mNameError\u001b[0m                                 Traceback (most recent call last)",
      "\u001b[0;32m<ipython-input-6-dbd056fbbc8c>\u001b[0m in \u001b[0;36m<module>\u001b[0;34m()\u001b[0m\n\u001b[1;32m      1\u001b[0m \u001b[0;32mif\u001b[0m \u001b[0mlen\u001b[0m\u001b[0;34m(\u001b[0m\u001b[0mdf\u001b[0m\u001b[0;34m[\u001b[0m\u001b[0mdf\u001b[0m\u001b[0;34m[\u001b[0m\u001b[0;34m'Embarked'\u001b[0m\u001b[0;34m]\u001b[0m\u001b[0;34m.\u001b[0m\u001b[0misnull\u001b[0m\u001b[0;34m(\u001b[0m\u001b[0;34m)\u001b[0m\u001b[0;34m]\u001b[0m \u001b[0;34m>\u001b[0m \u001b[0;36m0\u001b[0m\u001b[0;34m)\u001b[0m\u001b[0;34m:\u001b[0m\u001b[0;34m\u001b[0m\u001b[0m\n\u001b[0;32m----> 2\u001b[0;31m     df.replace({'Embarked_Val' : { embarked_locs_mapping[np.nan] : embarked_locs_mapping['S']}}, \n\u001b[0m\u001b[1;32m      3\u001b[0m                inplace=True)\n",
      "\u001b[0;31mNameError\u001b[0m: name 'embarked_locs_mapping' is not defined"
     ]
    }
   ],
   "source": [
    "if len(df[df['Embarked'].isnull()] > 0):\n",
    "    df.replace({'Embarked_Val' : { embarked_locs_mapping[np.nan] : embarked_locs_mapping['S']}}, \n",
    "               inplace=True)"
   ]
  },
  {
   "cell_type": "code",
   "execution_count": 7,
   "metadata": {},
   "outputs": [],
   "source": [
    "df['AgeFill'] = df['Age']\n",
    "df['AgeFill'] = df['AgeFill'].groupby([df['Sex_Val'], df['Pclass']]) \\\n",
    "                        .apply(lambda x: x.fillna(x.median()))"
   ]
  },
  {
   "cell_type": "code",
   "execution_count": 8,
   "metadata": {},
   "outputs": [],
   "source": [
    "df['FamilySize'] = df['SibSp'] + df['Parch']"
   ]
  },
  {
   "cell_type": "code",
   "execution_count": 9,
   "metadata": {},
   "outputs": [
    {
     "data": {
      "text/plain": [
       "Name        object\n",
       "Sex         object\n",
       "Ticket      object\n",
       "Cabin       object\n",
       "Embarked    object\n",
       "dtype: object"
      ]
     },
     "execution_count": 9,
     "metadata": {},
     "output_type": "execute_result"
    }
   ],
   "source": [
    "df.dtypes[df.dtypes.map(lambda x: x == 'object')]"
   ]
  },
  {
   "cell_type": "code",
   "execution_count": 10,
   "metadata": {},
   "outputs": [
    {
     "ename": "KeyError",
     "evalue": "\"labels ['Embarked_Val'] not contained in axis\"",
     "output_type": "error",
     "traceback": [
      "\u001b[0;31m---------------------------------------------------------------------------\u001b[0m",
      "\u001b[0;31mKeyError\u001b[0m                                  Traceback (most recent call last)",
      "\u001b[0;32m<ipython-input-10-97040cbef9b0>\u001b[0m in \u001b[0;36m<module>\u001b[0;34m()\u001b[0m\n\u001b[1;32m      1\u001b[0m \u001b[0mdf_train\u001b[0m \u001b[0;34m=\u001b[0m \u001b[0mdf\u001b[0m\u001b[0;34m.\u001b[0m\u001b[0mdrop\u001b[0m\u001b[0;34m(\u001b[0m\u001b[0;34m[\u001b[0m\u001b[0;34m'Name'\u001b[0m\u001b[0;34m,\u001b[0m \u001b[0;34m'Sex'\u001b[0m\u001b[0;34m,\u001b[0m \u001b[0;34m'Ticket'\u001b[0m\u001b[0;34m,\u001b[0m \u001b[0;34m'Cabin'\u001b[0m\u001b[0;34m,\u001b[0m \u001b[0;34m'Embarked'\u001b[0m\u001b[0;34m]\u001b[0m\u001b[0;34m,\u001b[0m \u001b[0maxis\u001b[0m\u001b[0;34m=\u001b[0m\u001b[0;36m1\u001b[0m\u001b[0;34m)\u001b[0m\u001b[0;34m\u001b[0m\u001b[0m\n\u001b[0;32m----> 2\u001b[0;31m \u001b[0mdf_train\u001b[0m \u001b[0;34m=\u001b[0m \u001b[0mdf_train\u001b[0m\u001b[0;34m.\u001b[0m\u001b[0mdrop\u001b[0m\u001b[0;34m(\u001b[0m\u001b[0;34m[\u001b[0m\u001b[0;34m'Survived'\u001b[0m\u001b[0;34m,\u001b[0m \u001b[0;34m'Age'\u001b[0m\u001b[0;34m,\u001b[0m \u001b[0;34m'SibSp'\u001b[0m\u001b[0;34m,\u001b[0m \u001b[0;34m'Parch'\u001b[0m\u001b[0;34m,\u001b[0m \u001b[0;34m'PassengerId'\u001b[0m\u001b[0;34m,\u001b[0m \u001b[0;34m'Embarked_Val'\u001b[0m\u001b[0;34m,\u001b[0m \u001b[0;34m'Sex_Val'\u001b[0m\u001b[0;34m]\u001b[0m\u001b[0;34m,\u001b[0m \u001b[0maxis\u001b[0m\u001b[0;34m=\u001b[0m\u001b[0;36m1\u001b[0m\u001b[0;34m)\u001b[0m\u001b[0;34m\u001b[0m\u001b[0m\n\u001b[0m\u001b[1;32m      3\u001b[0m \u001b[0mdf_train\u001b[0m\u001b[0;34m.\u001b[0m\u001b[0mdtypes\u001b[0m\u001b[0;34m\u001b[0m\u001b[0m\n",
      "\u001b[0;32m~/anaconda3/lib/python3.6/site-packages/pandas/core/frame.py\u001b[0m in \u001b[0;36mdrop\u001b[0;34m(self, labels, axis, index, columns, level, inplace, errors)\u001b[0m\n\u001b[1;32m   3692\u001b[0m                                            \u001b[0mindex\u001b[0m\u001b[0;34m=\u001b[0m\u001b[0mindex\u001b[0m\u001b[0;34m,\u001b[0m \u001b[0mcolumns\u001b[0m\u001b[0;34m=\u001b[0m\u001b[0mcolumns\u001b[0m\u001b[0;34m,\u001b[0m\u001b[0;34m\u001b[0m\u001b[0m\n\u001b[1;32m   3693\u001b[0m                                            \u001b[0mlevel\u001b[0m\u001b[0;34m=\u001b[0m\u001b[0mlevel\u001b[0m\u001b[0;34m,\u001b[0m \u001b[0minplace\u001b[0m\u001b[0;34m=\u001b[0m\u001b[0minplace\u001b[0m\u001b[0;34m,\u001b[0m\u001b[0;34m\u001b[0m\u001b[0m\n\u001b[0;32m-> 3694\u001b[0;31m                                            errors=errors)\n\u001b[0m\u001b[1;32m   3695\u001b[0m \u001b[0;34m\u001b[0m\u001b[0m\n\u001b[1;32m   3696\u001b[0m     @rewrite_axis_style_signature('mapper', [('copy', True),\n",
      "\u001b[0;32m~/anaconda3/lib/python3.6/site-packages/pandas/core/generic.py\u001b[0m in \u001b[0;36mdrop\u001b[0;34m(self, labels, axis, index, columns, level, inplace, errors)\u001b[0m\n\u001b[1;32m   3106\u001b[0m         \u001b[0;32mfor\u001b[0m \u001b[0maxis\u001b[0m\u001b[0;34m,\u001b[0m \u001b[0mlabels\u001b[0m \u001b[0;32min\u001b[0m \u001b[0maxes\u001b[0m\u001b[0;34m.\u001b[0m\u001b[0mitems\u001b[0m\u001b[0;34m(\u001b[0m\u001b[0;34m)\u001b[0m\u001b[0;34m:\u001b[0m\u001b[0;34m\u001b[0m\u001b[0m\n\u001b[1;32m   3107\u001b[0m             \u001b[0;32mif\u001b[0m \u001b[0mlabels\u001b[0m \u001b[0;32mis\u001b[0m \u001b[0;32mnot\u001b[0m \u001b[0;32mNone\u001b[0m\u001b[0;34m:\u001b[0m\u001b[0;34m\u001b[0m\u001b[0m\n\u001b[0;32m-> 3108\u001b[0;31m                 \u001b[0mobj\u001b[0m \u001b[0;34m=\u001b[0m \u001b[0mobj\u001b[0m\u001b[0;34m.\u001b[0m\u001b[0m_drop_axis\u001b[0m\u001b[0;34m(\u001b[0m\u001b[0mlabels\u001b[0m\u001b[0;34m,\u001b[0m \u001b[0maxis\u001b[0m\u001b[0;34m,\u001b[0m \u001b[0mlevel\u001b[0m\u001b[0;34m=\u001b[0m\u001b[0mlevel\u001b[0m\u001b[0;34m,\u001b[0m \u001b[0merrors\u001b[0m\u001b[0;34m=\u001b[0m\u001b[0merrors\u001b[0m\u001b[0;34m)\u001b[0m\u001b[0;34m\u001b[0m\u001b[0m\n\u001b[0m\u001b[1;32m   3109\u001b[0m \u001b[0;34m\u001b[0m\u001b[0m\n\u001b[1;32m   3110\u001b[0m         \u001b[0;32mif\u001b[0m \u001b[0minplace\u001b[0m\u001b[0;34m:\u001b[0m\u001b[0;34m\u001b[0m\u001b[0m\n",
      "\u001b[0;32m~/anaconda3/lib/python3.6/site-packages/pandas/core/generic.py\u001b[0m in \u001b[0;36m_drop_axis\u001b[0;34m(self, labels, axis, level, errors)\u001b[0m\n\u001b[1;32m   3138\u001b[0m                 \u001b[0mnew_axis\u001b[0m \u001b[0;34m=\u001b[0m \u001b[0maxis\u001b[0m\u001b[0;34m.\u001b[0m\u001b[0mdrop\u001b[0m\u001b[0;34m(\u001b[0m\u001b[0mlabels\u001b[0m\u001b[0;34m,\u001b[0m \u001b[0mlevel\u001b[0m\u001b[0;34m=\u001b[0m\u001b[0mlevel\u001b[0m\u001b[0;34m,\u001b[0m \u001b[0merrors\u001b[0m\u001b[0;34m=\u001b[0m\u001b[0merrors\u001b[0m\u001b[0;34m)\u001b[0m\u001b[0;34m\u001b[0m\u001b[0m\n\u001b[1;32m   3139\u001b[0m             \u001b[0;32melse\u001b[0m\u001b[0;34m:\u001b[0m\u001b[0;34m\u001b[0m\u001b[0m\n\u001b[0;32m-> 3140\u001b[0;31m                 \u001b[0mnew_axis\u001b[0m \u001b[0;34m=\u001b[0m \u001b[0maxis\u001b[0m\u001b[0;34m.\u001b[0m\u001b[0mdrop\u001b[0m\u001b[0;34m(\u001b[0m\u001b[0mlabels\u001b[0m\u001b[0;34m,\u001b[0m \u001b[0merrors\u001b[0m\u001b[0;34m=\u001b[0m\u001b[0merrors\u001b[0m\u001b[0;34m)\u001b[0m\u001b[0;34m\u001b[0m\u001b[0m\n\u001b[0m\u001b[1;32m   3141\u001b[0m             \u001b[0mdropped\u001b[0m \u001b[0;34m=\u001b[0m \u001b[0mself\u001b[0m\u001b[0;34m.\u001b[0m\u001b[0mreindex\u001b[0m\u001b[0;34m(\u001b[0m\u001b[0;34m**\u001b[0m\u001b[0;34m{\u001b[0m\u001b[0maxis_name\u001b[0m\u001b[0;34m:\u001b[0m \u001b[0mnew_axis\u001b[0m\u001b[0;34m}\u001b[0m\u001b[0;34m)\u001b[0m\u001b[0;34m\u001b[0m\u001b[0m\n\u001b[1;32m   3142\u001b[0m             \u001b[0;32mtry\u001b[0m\u001b[0;34m:\u001b[0m\u001b[0;34m\u001b[0m\u001b[0m\n",
      "\u001b[0;32m~/anaconda3/lib/python3.6/site-packages/pandas/core/indexes/base.py\u001b[0m in \u001b[0;36mdrop\u001b[0;34m(self, labels, errors)\u001b[0m\n\u001b[1;32m   4385\u001b[0m             \u001b[0;32mif\u001b[0m \u001b[0merrors\u001b[0m \u001b[0;34m!=\u001b[0m \u001b[0;34m'ignore'\u001b[0m\u001b[0;34m:\u001b[0m\u001b[0;34m\u001b[0m\u001b[0m\n\u001b[1;32m   4386\u001b[0m                 raise KeyError(\n\u001b[0;32m-> 4387\u001b[0;31m                     'labels %s not contained in axis' % labels[mask])\n\u001b[0m\u001b[1;32m   4388\u001b[0m             \u001b[0mindexer\u001b[0m \u001b[0;34m=\u001b[0m \u001b[0mindexer\u001b[0m\u001b[0;34m[\u001b[0m\u001b[0;34m~\u001b[0m\u001b[0mmask\u001b[0m\u001b[0;34m]\u001b[0m\u001b[0;34m\u001b[0m\u001b[0m\n\u001b[1;32m   4389\u001b[0m         \u001b[0;32mreturn\u001b[0m \u001b[0mself\u001b[0m\u001b[0;34m.\u001b[0m\u001b[0mdelete\u001b[0m\u001b[0;34m(\u001b[0m\u001b[0mindexer\u001b[0m\u001b[0;34m)\u001b[0m\u001b[0;34m\u001b[0m\u001b[0m\n",
      "\u001b[0;31mKeyError\u001b[0m: \"labels ['Embarked_Val'] not contained in axis\""
     ]
    }
   ],
   "source": [
    "df_train = df.drop(['Name', 'Sex', 'Ticket', 'Cabin', 'Embarked'], axis=1)\n",
    "df_train = df_train.drop(['Survived', 'Age', 'SibSp', 'Parch', 'PassengerId', 'Embarked_Val', 'Sex_Val'], axis=1)\n",
    "df_train.dtypes"
   ]
  },
  {
   "cell_type": "code",
   "execution_count": 11,
   "metadata": {},
   "outputs": [],
   "source": [
    "from sklearn import preprocessing"
   ]
  },
  {
   "cell_type": "code",
   "execution_count": 12,
   "metadata": {},
   "outputs": [
    {
     "data": {
      "text/html": [
       "<div>\n",
       "<style scoped>\n",
       "    .dataframe tbody tr th:only-of-type {\n",
       "        vertical-align: middle;\n",
       "    }\n",
       "\n",
       "    .dataframe tbody tr th {\n",
       "        vertical-align: top;\n",
       "    }\n",
       "\n",
       "    .dataframe thead th {\n",
       "        text-align: right;\n",
       "    }\n",
       "</style>\n",
       "<table border=\"1\" class=\"dataframe\">\n",
       "  <thead>\n",
       "    <tr style=\"text-align: right;\">\n",
       "      <th></th>\n",
       "      <th>PassengerId</th>\n",
       "      <th>Survived</th>\n",
       "      <th>Pclass</th>\n",
       "      <th>Age</th>\n",
       "      <th>SibSp</th>\n",
       "      <th>Parch</th>\n",
       "      <th>Fare</th>\n",
       "      <th>Sex_Val</th>\n",
       "      <th>AgeFill</th>\n",
       "      <th>FamilySize</th>\n",
       "    </tr>\n",
       "  </thead>\n",
       "  <tbody>\n",
       "    <tr>\n",
       "      <th>0</th>\n",
       "      <td>1</td>\n",
       "      <td>0</td>\n",
       "      <td>3</td>\n",
       "      <td>22.0</td>\n",
       "      <td>1</td>\n",
       "      <td>0</td>\n",
       "      <td>7.2500</td>\n",
       "      <td>1</td>\n",
       "      <td>22.0</td>\n",
       "      <td>1</td>\n",
       "    </tr>\n",
       "    <tr>\n",
       "      <th>1</th>\n",
       "      <td>2</td>\n",
       "      <td>1</td>\n",
       "      <td>1</td>\n",
       "      <td>38.0</td>\n",
       "      <td>1</td>\n",
       "      <td>0</td>\n",
       "      <td>71.2833</td>\n",
       "      <td>0</td>\n",
       "      <td>38.0</td>\n",
       "      <td>1</td>\n",
       "    </tr>\n",
       "    <tr>\n",
       "      <th>2</th>\n",
       "      <td>3</td>\n",
       "      <td>1</td>\n",
       "      <td>3</td>\n",
       "      <td>26.0</td>\n",
       "      <td>0</td>\n",
       "      <td>0</td>\n",
       "      <td>7.9250</td>\n",
       "      <td>0</td>\n",
       "      <td>26.0</td>\n",
       "      <td>0</td>\n",
       "    </tr>\n",
       "    <tr>\n",
       "      <th>3</th>\n",
       "      <td>4</td>\n",
       "      <td>1</td>\n",
       "      <td>1</td>\n",
       "      <td>35.0</td>\n",
       "      <td>1</td>\n",
       "      <td>0</td>\n",
       "      <td>53.1000</td>\n",
       "      <td>0</td>\n",
       "      <td>35.0</td>\n",
       "      <td>1</td>\n",
       "    </tr>\n",
       "    <tr>\n",
       "      <th>4</th>\n",
       "      <td>5</td>\n",
       "      <td>0</td>\n",
       "      <td>3</td>\n",
       "      <td>35.0</td>\n",
       "      <td>0</td>\n",
       "      <td>0</td>\n",
       "      <td>8.0500</td>\n",
       "      <td>1</td>\n",
       "      <td>35.0</td>\n",
       "      <td>0</td>\n",
       "    </tr>\n",
       "  </tbody>\n",
       "</table>\n",
       "</div>"
      ],
      "text/plain": [
       "   PassengerId  Survived  Pclass   Age  SibSp  Parch     Fare  Sex_Val  \\\n",
       "0            1         0       3  22.0      1      0   7.2500        1   \n",
       "1            2         1       1  38.0      1      0  71.2833        0   \n",
       "2            3         1       3  26.0      0      0   7.9250        0   \n",
       "3            4         1       1  35.0      1      0  53.1000        0   \n",
       "4            5         0       3  35.0      0      0   8.0500        1   \n",
       "\n",
       "   AgeFill  FamilySize  \n",
       "0     22.0           1  \n",
       "1     38.0           1  \n",
       "2     26.0           0  \n",
       "3     35.0           1  \n",
       "4     35.0           0  "
      ]
     },
     "execution_count": 12,
     "metadata": {},
     "output_type": "execute_result"
    }
   ],
   "source": [
    "df_train.head()"
   ]
  },
  {
   "cell_type": "code",
   "execution_count": 13,
   "metadata": {},
   "outputs": [
    {
     "data": {
      "text/plain": [
       "Index(['PassengerId', 'Survived', 'Pclass', 'Age', 'SibSp', 'Parch', 'Fare',\n",
       "       'Sex_Val', 'AgeFill', 'FamilySize'],\n",
       "      dtype='object')"
      ]
     },
     "execution_count": 13,
     "metadata": {},
     "output_type": "execute_result"
    }
   ],
   "source": [
    "df_train.columns"
   ]
  },
  {
   "cell_type": "code",
   "execution_count": 14,
   "metadata": {},
   "outputs": [
    {
     "ename": "ValueError",
     "evalue": "Expected 2D array, got 1D array instead:\narray=[  1.   2.   3.   4.   5.   6.   7.   8.   9.  10.  11.  12.  13.  14.\n  15.  16.  17.  18.  19.  20.  21.  22.  23.  24.  25.  26.  27.  28.\n  29.  30.  31.  32.  33.  34.  35.  36.  37.  38.  39.  40.  41.  42.\n  43.  44.  45.  46.  47.  48.  49.  50.  51.  52.  53.  54.  55.  56.\n  57.  58.  59.  60.  61.  62.  63.  64.  65.  66.  67.  68.  69.  70.\n  71.  72.  73.  74.  75.  76.  77.  78.  79.  80.  81.  82.  83.  84.\n  85.  86.  87.  88.  89.  90.  91.  92.  93.  94.  95.  96.  97.  98.\n  99. 100. 101. 102. 103. 104. 105. 106. 107. 108. 109. 110. 111. 112.\n 113. 114. 115. 116. 117. 118. 119. 120. 121. 122. 123. 124. 125. 126.\n 127. 128. 129. 130. 131. 132. 133. 134. 135. 136. 137. 138. 139. 140.\n 141. 142. 143. 144. 145. 146. 147. 148. 149. 150. 151. 152. 153. 154.\n 155. 156. 157. 158. 159. 160. 161. 162. 163. 164. 165. 166. 167. 168.\n 169. 170. 171. 172. 173. 174. 175. 176. 177. 178. 179. 180. 181. 182.\n 183. 184. 185. 186. 187. 188. 189. 190. 191. 192. 193. 194. 195. 196.\n 197. 198. 199. 200. 201. 202. 203. 204. 205. 206. 207. 208. 209. 210.\n 211. 212. 213. 214. 215. 216. 217. 218. 219. 220. 221. 222. 223. 224.\n 225. 226. 227. 228. 229. 230. 231. 232. 233. 234. 235. 236. 237. 238.\n 239. 240. 241. 242. 243. 244. 245. 246. 247. 248. 249. 250. 251. 252.\n 253. 254. 255. 256. 257. 258. 259. 260. 261. 262. 263. 264. 265. 266.\n 267. 268. 269. 270. 271. 272. 273. 274. 275. 276. 277. 278. 279. 280.\n 281. 282. 283. 284. 285. 286. 287. 288. 289. 290. 291. 292. 293. 294.\n 295. 296. 297. 298. 299. 300. 301. 302. 303. 304. 305. 306. 307. 308.\n 309. 310. 311. 312. 313. 314. 315. 316. 317. 318. 319. 320. 321. 322.\n 323. 324. 325. 326. 327. 328. 329. 330. 331. 332. 333. 334. 335. 336.\n 337. 338. 339. 340. 341. 342. 343. 344. 345. 346. 347. 348. 349. 350.\n 351. 352. 353. 354. 355. 356. 357. 358. 359. 360. 361. 362. 363. 364.\n 365. 366. 367. 368. 369. 370. 371. 372. 373. 374. 375. 376. 377. 378.\n 379. 380. 381. 382. 383. 384. 385. 386. 387. 388. 389. 390. 391. 392.\n 393. 394. 395. 396. 397. 398. 399. 400. 401. 402. 403. 404. 405. 406.\n 407. 408. 409. 410. 411. 412. 413. 414. 415. 416. 417. 418. 419. 420.\n 421. 422. 423. 424. 425. 426. 427. 428. 429. 430. 431. 432. 433. 434.\n 435. 436. 437. 438. 439. 440. 441. 442. 443. 444. 445. 446. 447. 448.\n 449. 450. 451. 452. 453. 454. 455. 456. 457. 458. 459. 460. 461. 462.\n 463. 464. 465. 466. 467. 468. 469. 470. 471. 472. 473. 474. 475. 476.\n 477. 478. 479. 480. 481. 482. 483. 484. 485. 486. 487. 488. 489. 490.\n 491. 492. 493. 494. 495. 496. 497. 498. 499. 500. 501. 502. 503. 504.\n 505. 506. 507. 508. 509. 510. 511. 512. 513. 514. 515. 516. 517. 518.\n 519. 520. 521. 522. 523. 524. 525. 526. 527. 528. 529. 530. 531. 532.\n 533. 534. 535. 536. 537. 538. 539. 540. 541. 542. 543. 544. 545. 546.\n 547. 548. 549. 550. 551. 552. 553. 554. 555. 556. 557. 558. 559. 560.\n 561. 562. 563. 564. 565. 566. 567. 568. 569. 570. 571. 572. 573. 574.\n 575. 576. 577. 578. 579. 580. 581. 582. 583. 584. 585. 586. 587. 588.\n 589. 590. 591. 592. 593. 594. 595. 596. 597. 598. 599. 600. 601. 602.\n 603. 604. 605. 606. 607. 608. 609. 610. 611. 612. 613. 614. 615. 616.\n 617. 618. 619. 620. 621. 622. 623. 624. 625. 626. 627. 628. 629. 630.\n 631. 632. 633. 634. 635. 636. 637. 638. 639. 640. 641. 642. 643. 644.\n 645. 646. 647. 648. 649. 650. 651. 652. 653. 654. 655. 656. 657. 658.\n 659. 660. 661. 662. 663. 664. 665. 666. 667. 668. 669. 670. 671. 672.\n 673. 674. 675. 676. 677. 678. 679. 680. 681. 682. 683. 684. 685. 686.\n 687. 688. 689. 690. 691. 692. 693. 694. 695. 696. 697. 698. 699. 700.\n 701. 702. 703. 704. 705. 706. 707. 708. 709. 710. 711. 712. 713. 714.\n 715. 716. 717. 718. 719. 720. 721. 722. 723. 724. 725. 726. 727. 728.\n 729. 730. 731. 732. 733. 734. 735. 736. 737. 738. 739. 740. 741. 742.\n 743. 744. 745. 746. 747. 748. 749. 750. 751. 752. 753. 754. 755. 756.\n 757. 758. 759. 760. 761. 762. 763. 764. 765. 766. 767. 768. 769. 770.\n 771. 772. 773. 774. 775. 776. 777. 778. 779. 780. 781. 782. 783. 784.\n 785. 786. 787. 788. 789. 790. 791. 792. 793. 794. 795. 796. 797. 798.\n 799. 800. 801. 802. 803. 804. 805. 806. 807. 808. 809. 810. 811. 812.\n 813. 814. 815. 816. 817. 818. 819. 820. 821. 822. 823. 824. 825. 826.\n 827. 828. 829. 830. 831. 832. 833. 834. 835. 836. 837. 838. 839. 840.\n 841. 842. 843. 844. 845. 846. 847. 848. 849. 850. 851. 852. 853. 854.\n 855. 856. 857. 858. 859. 860. 861. 862. 863. 864. 865. 866. 867. 868.\n 869. 870. 871. 872. 873. 874. 875. 876. 877. 878. 879. 880. 881. 882.\n 883. 884. 885. 886. 887. 888. 889. 890. 891.].\nReshape your data either using array.reshape(-1, 1) if your data has a single feature or array.reshape(1, -1) if it contains a single sample.",
     "output_type": "error",
     "traceback": [
      "\u001b[0;31m---------------------------------------------------------------------------\u001b[0m",
      "\u001b[0;31mValueError\u001b[0m                                Traceback (most recent call last)",
      "\u001b[0;32m<ipython-input-14-c7b01ba657c4>\u001b[0m in \u001b[0;36m<module>\u001b[0;34m()\u001b[0m\n\u001b[1;32m      4\u001b[0m \u001b[0mmin_max_scaler\u001b[0m \u001b[0;34m=\u001b[0m \u001b[0mpreprocessing\u001b[0m\u001b[0;34m.\u001b[0m\u001b[0mMinMaxScaler\u001b[0m\u001b[0;34m(\u001b[0m\u001b[0;34m)\u001b[0m\u001b[0;34m\u001b[0m\u001b[0m\n\u001b[1;32m      5\u001b[0m \u001b[0;32mfor\u001b[0m \u001b[0mk\u001b[0m \u001b[0;32min\u001b[0m \u001b[0mdf_train\u001b[0m\u001b[0;34m.\u001b[0m\u001b[0mcolumns\u001b[0m\u001b[0;34m:\u001b[0m\u001b[0;34m\u001b[0m\u001b[0m\n\u001b[0;32m----> 6\u001b[0;31m     \u001b[0mdf_train\u001b[0m\u001b[0;34m[\u001b[0m\u001b[0mk\u001b[0m\u001b[0;34m]\u001b[0m \u001b[0;34m=\u001b[0m \u001b[0mmin_max_scaler\u001b[0m\u001b[0;34m.\u001b[0m\u001b[0mfit_transform\u001b[0m\u001b[0;34m(\u001b[0m\u001b[0mdf_train\u001b[0m\u001b[0;34m[\u001b[0m\u001b[0mk\u001b[0m\u001b[0;34m]\u001b[0m\u001b[0;34m.\u001b[0m\u001b[0mvalues\u001b[0m\u001b[0;34m.\u001b[0m\u001b[0mastype\u001b[0m\u001b[0;34m(\u001b[0m\u001b[0mfloat\u001b[0m\u001b[0;34m)\u001b[0m\u001b[0;34m)\u001b[0m\u001b[0;34m\u001b[0m\u001b[0m\n\u001b[0m",
      "\u001b[0;32m~/anaconda3/lib/python3.6/site-packages/sklearn/base.py\u001b[0m in \u001b[0;36mfit_transform\u001b[0;34m(self, X, y, **fit_params)\u001b[0m\n\u001b[1;32m    515\u001b[0m         \u001b[0;32mif\u001b[0m \u001b[0my\u001b[0m \u001b[0;32mis\u001b[0m \u001b[0;32mNone\u001b[0m\u001b[0;34m:\u001b[0m\u001b[0;34m\u001b[0m\u001b[0m\n\u001b[1;32m    516\u001b[0m             \u001b[0;31m# fit method of arity 1 (unsupervised transformation)\u001b[0m\u001b[0;34m\u001b[0m\u001b[0;34m\u001b[0m\u001b[0m\n\u001b[0;32m--> 517\u001b[0;31m             \u001b[0;32mreturn\u001b[0m \u001b[0mself\u001b[0m\u001b[0;34m.\u001b[0m\u001b[0mfit\u001b[0m\u001b[0;34m(\u001b[0m\u001b[0mX\u001b[0m\u001b[0;34m,\u001b[0m \u001b[0;34m**\u001b[0m\u001b[0mfit_params\u001b[0m\u001b[0;34m)\u001b[0m\u001b[0;34m.\u001b[0m\u001b[0mtransform\u001b[0m\u001b[0;34m(\u001b[0m\u001b[0mX\u001b[0m\u001b[0;34m)\u001b[0m\u001b[0;34m\u001b[0m\u001b[0m\n\u001b[0m\u001b[1;32m    518\u001b[0m         \u001b[0;32melse\u001b[0m\u001b[0;34m:\u001b[0m\u001b[0;34m\u001b[0m\u001b[0m\n\u001b[1;32m    519\u001b[0m             \u001b[0;31m# fit method of arity 2 (supervised transformation)\u001b[0m\u001b[0;34m\u001b[0m\u001b[0;34m\u001b[0m\u001b[0m\n",
      "\u001b[0;32m~/anaconda3/lib/python3.6/site-packages/sklearn/preprocessing/data.py\u001b[0m in \u001b[0;36mfit\u001b[0;34m(self, X, y)\u001b[0m\n\u001b[1;32m    306\u001b[0m         \u001b[0;31m# Reset internal state before fitting\u001b[0m\u001b[0;34m\u001b[0m\u001b[0;34m\u001b[0m\u001b[0m\n\u001b[1;32m    307\u001b[0m         \u001b[0mself\u001b[0m\u001b[0;34m.\u001b[0m\u001b[0m_reset\u001b[0m\u001b[0;34m(\u001b[0m\u001b[0;34m)\u001b[0m\u001b[0;34m\u001b[0m\u001b[0m\n\u001b[0;32m--> 308\u001b[0;31m         \u001b[0;32mreturn\u001b[0m \u001b[0mself\u001b[0m\u001b[0;34m.\u001b[0m\u001b[0mpartial_fit\u001b[0m\u001b[0;34m(\u001b[0m\u001b[0mX\u001b[0m\u001b[0;34m,\u001b[0m \u001b[0my\u001b[0m\u001b[0;34m)\u001b[0m\u001b[0;34m\u001b[0m\u001b[0m\n\u001b[0m\u001b[1;32m    309\u001b[0m \u001b[0;34m\u001b[0m\u001b[0m\n\u001b[1;32m    310\u001b[0m     \u001b[0;32mdef\u001b[0m \u001b[0mpartial_fit\u001b[0m\u001b[0;34m(\u001b[0m\u001b[0mself\u001b[0m\u001b[0;34m,\u001b[0m \u001b[0mX\u001b[0m\u001b[0;34m,\u001b[0m \u001b[0my\u001b[0m\u001b[0;34m=\u001b[0m\u001b[0;32mNone\u001b[0m\u001b[0;34m)\u001b[0m\u001b[0;34m:\u001b[0m\u001b[0;34m\u001b[0m\u001b[0m\n",
      "\u001b[0;32m~/anaconda3/lib/python3.6/site-packages/sklearn/preprocessing/data.py\u001b[0m in \u001b[0;36mpartial_fit\u001b[0;34m(self, X, y)\u001b[0m\n\u001b[1;32m    332\u001b[0m \u001b[0;34m\u001b[0m\u001b[0m\n\u001b[1;32m    333\u001b[0m         X = check_array(X, copy=self.copy, warn_on_dtype=True,\n\u001b[0;32m--> 334\u001b[0;31m                         estimator=self, dtype=FLOAT_DTYPES)\n\u001b[0m\u001b[1;32m    335\u001b[0m \u001b[0;34m\u001b[0m\u001b[0m\n\u001b[1;32m    336\u001b[0m         \u001b[0mdata_min\u001b[0m \u001b[0;34m=\u001b[0m \u001b[0mnp\u001b[0m\u001b[0;34m.\u001b[0m\u001b[0mmin\u001b[0m\u001b[0;34m(\u001b[0m\u001b[0mX\u001b[0m\u001b[0;34m,\u001b[0m \u001b[0maxis\u001b[0m\u001b[0;34m=\u001b[0m\u001b[0;36m0\u001b[0m\u001b[0;34m)\u001b[0m\u001b[0;34m\u001b[0m\u001b[0m\n",
      "\u001b[0;32m~/anaconda3/lib/python3.6/site-packages/sklearn/utils/validation.py\u001b[0m in \u001b[0;36mcheck_array\u001b[0;34m(array, accept_sparse, dtype, order, copy, force_all_finite, ensure_2d, allow_nd, ensure_min_samples, ensure_min_features, warn_on_dtype, estimator)\u001b[0m\n\u001b[1;32m    439\u001b[0m                     \u001b[0;34m\"Reshape your data either using array.reshape(-1, 1) if \"\u001b[0m\u001b[0;34m\u001b[0m\u001b[0m\n\u001b[1;32m    440\u001b[0m                     \u001b[0;34m\"your data has a single feature or array.reshape(1, -1) \"\u001b[0m\u001b[0;34m\u001b[0m\u001b[0m\n\u001b[0;32m--> 441\u001b[0;31m                     \"if it contains a single sample.\".format(array))\n\u001b[0m\u001b[1;32m    442\u001b[0m             \u001b[0marray\u001b[0m \u001b[0;34m=\u001b[0m \u001b[0mnp\u001b[0m\u001b[0;34m.\u001b[0m\u001b[0matleast_2d\u001b[0m\u001b[0;34m(\u001b[0m\u001b[0marray\u001b[0m\u001b[0;34m)\u001b[0m\u001b[0;34m\u001b[0m\u001b[0m\n\u001b[1;32m    443\u001b[0m             \u001b[0;31m# To ensure that array flags are maintained\u001b[0m\u001b[0;34m\u001b[0m\u001b[0;34m\u001b[0m\u001b[0m\n",
      "\u001b[0;31mValueError\u001b[0m: Expected 2D array, got 1D array instead:\narray=[  1.   2.   3.   4.   5.   6.   7.   8.   9.  10.  11.  12.  13.  14.\n  15.  16.  17.  18.  19.  20.  21.  22.  23.  24.  25.  26.  27.  28.\n  29.  30.  31.  32.  33.  34.  35.  36.  37.  38.  39.  40.  41.  42.\n  43.  44.  45.  46.  47.  48.  49.  50.  51.  52.  53.  54.  55.  56.\n  57.  58.  59.  60.  61.  62.  63.  64.  65.  66.  67.  68.  69.  70.\n  71.  72.  73.  74.  75.  76.  77.  78.  79.  80.  81.  82.  83.  84.\n  85.  86.  87.  88.  89.  90.  91.  92.  93.  94.  95.  96.  97.  98.\n  99. 100. 101. 102. 103. 104. 105. 106. 107. 108. 109. 110. 111. 112.\n 113. 114. 115. 116. 117. 118. 119. 120. 121. 122. 123. 124. 125. 126.\n 127. 128. 129. 130. 131. 132. 133. 134. 135. 136. 137. 138. 139. 140.\n 141. 142. 143. 144. 145. 146. 147. 148. 149. 150. 151. 152. 153. 154.\n 155. 156. 157. 158. 159. 160. 161. 162. 163. 164. 165. 166. 167. 168.\n 169. 170. 171. 172. 173. 174. 175. 176. 177. 178. 179. 180. 181. 182.\n 183. 184. 185. 186. 187. 188. 189. 190. 191. 192. 193. 194. 195. 196.\n 197. 198. 199. 200. 201. 202. 203. 204. 205. 206. 207. 208. 209. 210.\n 211. 212. 213. 214. 215. 216. 217. 218. 219. 220. 221. 222. 223. 224.\n 225. 226. 227. 228. 229. 230. 231. 232. 233. 234. 235. 236. 237. 238.\n 239. 240. 241. 242. 243. 244. 245. 246. 247. 248. 249. 250. 251. 252.\n 253. 254. 255. 256. 257. 258. 259. 260. 261. 262. 263. 264. 265. 266.\n 267. 268. 269. 270. 271. 272. 273. 274. 275. 276. 277. 278. 279. 280.\n 281. 282. 283. 284. 285. 286. 287. 288. 289. 290. 291. 292. 293. 294.\n 295. 296. 297. 298. 299. 300. 301. 302. 303. 304. 305. 306. 307. 308.\n 309. 310. 311. 312. 313. 314. 315. 316. 317. 318. 319. 320. 321. 322.\n 323. 324. 325. 326. 327. 328. 329. 330. 331. 332. 333. 334. 335. 336.\n 337. 338. 339. 340. 341. 342. 343. 344. 345. 346. 347. 348. 349. 350.\n 351. 352. 353. 354. 355. 356. 357. 358. 359. 360. 361. 362. 363. 364.\n 365. 366. 367. 368. 369. 370. 371. 372. 373. 374. 375. 376. 377. 378.\n 379. 380. 381. 382. 383. 384. 385. 386. 387. 388. 389. 390. 391. 392.\n 393. 394. 395. 396. 397. 398. 399. 400. 401. 402. 403. 404. 405. 406.\n 407. 408. 409. 410. 411. 412. 413. 414. 415. 416. 417. 418. 419. 420.\n 421. 422. 423. 424. 425. 426. 427. 428. 429. 430. 431. 432. 433. 434.\n 435. 436. 437. 438. 439. 440. 441. 442. 443. 444. 445. 446. 447. 448.\n 449. 450. 451. 452. 453. 454. 455. 456. 457. 458. 459. 460. 461. 462.\n 463. 464. 465. 466. 467. 468. 469. 470. 471. 472. 473. 474. 475. 476.\n 477. 478. 479. 480. 481. 482. 483. 484. 485. 486. 487. 488. 489. 490.\n 491. 492. 493. 494. 495. 496. 497. 498. 499. 500. 501. 502. 503. 504.\n 505. 506. 507. 508. 509. 510. 511. 512. 513. 514. 515. 516. 517. 518.\n 519. 520. 521. 522. 523. 524. 525. 526. 527. 528. 529. 530. 531. 532.\n 533. 534. 535. 536. 537. 538. 539. 540. 541. 542. 543. 544. 545. 546.\n 547. 548. 549. 550. 551. 552. 553. 554. 555. 556. 557. 558. 559. 560.\n 561. 562. 563. 564. 565. 566. 567. 568. 569. 570. 571. 572. 573. 574.\n 575. 576. 577. 578. 579. 580. 581. 582. 583. 584. 585. 586. 587. 588.\n 589. 590. 591. 592. 593. 594. 595. 596. 597. 598. 599. 600. 601. 602.\n 603. 604. 605. 606. 607. 608. 609. 610. 611. 612. 613. 614. 615. 616.\n 617. 618. 619. 620. 621. 622. 623. 624. 625. 626. 627. 628. 629. 630.\n 631. 632. 633. 634. 635. 636. 637. 638. 639. 640. 641. 642. 643. 644.\n 645. 646. 647. 648. 649. 650. 651. 652. 653. 654. 655. 656. 657. 658.\n 659. 660. 661. 662. 663. 664. 665. 666. 667. 668. 669. 670. 671. 672.\n 673. 674. 675. 676. 677. 678. 679. 680. 681. 682. 683. 684. 685. 686.\n 687. 688. 689. 690. 691. 692. 693. 694. 695. 696. 697. 698. 699. 700.\n 701. 702. 703. 704. 705. 706. 707. 708. 709. 710. 711. 712. 713. 714.\n 715. 716. 717. 718. 719. 720. 721. 722. 723. 724. 725. 726. 727. 728.\n 729. 730. 731. 732. 733. 734. 735. 736. 737. 738. 739. 740. 741. 742.\n 743. 744. 745. 746. 747. 748. 749. 750. 751. 752. 753. 754. 755. 756.\n 757. 758. 759. 760. 761. 762. 763. 764. 765. 766. 767. 768. 769. 770.\n 771. 772. 773. 774. 775. 776. 777. 778. 779. 780. 781. 782. 783. 784.\n 785. 786. 787. 788. 789. 790. 791. 792. 793. 794. 795. 796. 797. 798.\n 799. 800. 801. 802. 803. 804. 805. 806. 807. 808. 809. 810. 811. 812.\n 813. 814. 815. 816. 817. 818. 819. 820. 821. 822. 823. 824. 825. 826.\n 827. 828. 829. 830. 831. 832. 833. 834. 835. 836. 837. 838. 839. 840.\n 841. 842. 843. 844. 845. 846. 847. 848. 849. 850. 851. 852. 853. 854.\n 855. 856. 857. 858. 859. 860. 861. 862. 863. 864. 865. 866. 867. 868.\n 869. 870. 871. 872. 873. 874. 875. 876. 877. 878. 879. 880. 881. 882.\n 883. 884. 885. 886. 887. 888. 889. 890. 891.].\nReshape your data either using array.reshape(-1, 1) if your data has a single feature or array.reshape(1, -1) if it contains a single sample."
     ]
    }
   ],
   "source": [
    "import warnings\n",
    "warnings.filterwarnings('ignore')\n",
    "\n",
    "min_max_scaler = preprocessing.MinMaxScaler()\n",
    "for k in df_train.columns:\n",
    "    df_train[k] = min_max_scaler.fit_transform(df_train[k].values.astype(float))"
   ]
  },
  {
   "cell_type": "code",
   "execution_count": 16,
   "metadata": {},
   "outputs": [
    {
     "data": {
      "text/html": [
       "<div>\n",
       "<table border=\"1\" class=\"dataframe\">\n",
       "  <thead>\n",
       "    <tr style=\"text-align: right;\">\n",
       "      <th></th>\n",
       "      <th>Pclass</th>\n",
       "      <th>Fare</th>\n",
       "      <th>AgeFill</th>\n",
       "      <th>FamilySize</th>\n",
       "    </tr>\n",
       "  </thead>\n",
       "  <tbody>\n",
       "    <tr>\n",
       "      <th>0</th>\n",
       "      <td>1.0</td>\n",
       "      <td>0.014151</td>\n",
       "      <td>0.271174</td>\n",
       "      <td>0.1</td>\n",
       "    </tr>\n",
       "    <tr>\n",
       "      <th>1</th>\n",
       "      <td>0.0</td>\n",
       "      <td>0.139136</td>\n",
       "      <td>0.472229</td>\n",
       "      <td>0.1</td>\n",
       "    </tr>\n",
       "    <tr>\n",
       "      <th>2</th>\n",
       "      <td>1.0</td>\n",
       "      <td>0.015469</td>\n",
       "      <td>0.321438</td>\n",
       "      <td>0.0</td>\n",
       "    </tr>\n",
       "    <tr>\n",
       "      <th>3</th>\n",
       "      <td>0.0</td>\n",
       "      <td>0.103644</td>\n",
       "      <td>0.434531</td>\n",
       "      <td>0.1</td>\n",
       "    </tr>\n",
       "    <tr>\n",
       "      <th>4</th>\n",
       "      <td>1.0</td>\n",
       "      <td>0.015713</td>\n",
       "      <td>0.434531</td>\n",
       "      <td>0.0</td>\n",
       "    </tr>\n",
       "  </tbody>\n",
       "</table>\n",
       "</div>"
      ],
      "text/plain": [
       "   Pclass      Fare   AgeFill  FamilySize\n",
       "0     1.0  0.014151  0.271174         0.1\n",
       "1     0.0  0.139136  0.472229         0.1\n",
       "2     1.0  0.015469  0.321438         0.0\n",
       "3     0.0  0.103644  0.434531         0.1\n",
       "4     1.0  0.015713  0.434531         0.0"
      ]
     },
     "execution_count": 16,
     "metadata": {},
     "output_type": "execute_result"
    }
   ],
   "source": [
    "df_train.head()"
   ]
  },
  {
   "cell_type": "code",
   "execution_count": 21,
   "metadata": {},
   "outputs": [
    {
     "data": {
      "text/plain": [
       "array([[ 1.        ,  0.01415106,  0.27117366,  0.1       ],\n",
       "       [ 0.        ,  0.13913574,  0.4722292 ,  0.1       ],\n",
       "       [ 1.        ,  0.01546857,  0.32143755,  0.        ],\n",
       "       ..., \n",
       "       [ 1.        ,  0.04577135,  0.26489068,  0.3       ],\n",
       "       [ 0.        ,  0.0585561 ,  0.32143755,  0.        ],\n",
       "       [ 1.        ,  0.01512699,  0.39683338,  0.        ]])"
      ]
     },
     "execution_count": 21,
     "metadata": {},
     "output_type": "execute_result"
    }
   ],
   "source": [
    "# Convert the DataFrame to a numpy array:\n",
    "train_data = df_train.values\n",
    "train_data"
   ]
  },
  {
   "cell_type": "code",
   "execution_count": 22,
   "metadata": {},
   "outputs": [],
   "source": [
    "def clean_data(df, drop_passenger_id):\n",
    "    \n",
    "    # Get the unique values of Sex\n",
    "    sexes = sorted(df['Sex'].unique())\n",
    "    \n",
    "    # Generate a mapping of Sex from a string to a number representation    \n",
    "    genders_mapping = dict(zip(sexes, range(0, len(sexes) + 1)))\n",
    "\n",
    "    # Transform Sex from a string to a number representation\n",
    "    df['Sex_Val'] = df['Sex'].map(genders_mapping).astype(int)\n",
    "    \n",
    "    # Get the unique values of Embarked\n",
    "    embarked_locs = sorted(df['Embarked'].unique())\n",
    "\n",
    "    # Generate a mapping of Embarked from a string to a number representation        \n",
    "    embarked_locs_mapping = dict(zip(embarked_locs, \n",
    "                                     range(0, len(embarked_locs) + 1)))\n",
    "    \n",
    "    # Transform Embarked from a string to dummy variables\n",
    "    df = pd.concat([df, pd.get_dummies(df['Embarked'], prefix='Embarked_Val')], axis=1)\n",
    "    \n",
    "    # Fill in missing values of Embarked\n",
    "    # Since the vast majority of passengers embarked in 'S': 3, \n",
    "    # we assign the missing values in Embarked to 'S':\n",
    "    if len(df[df['Embarked'].isnull()] > 0):\n",
    "        df.replace({'Embarked_Val' : \n",
    "                       { embarked_locs_mapping[nan] : embarked_locs_mapping['S'] \n",
    "                       }\n",
    "                   }, \n",
    "                   inplace=True)\n",
    "    \n",
    "    # Fill in missing values of Fare with the average Fare\n",
    "    if len(df[df['Fare'].isnull()] > 0):\n",
    "        avg_fare = df['Fare'].mean()\n",
    "        df.replace({ None: avg_fare }, inplace=True)\n",
    "    \n",
    "    # To keep Age in tact, make a copy of it called AgeFill \n",
    "    # that we will use to fill in the missing ages:\n",
    "    df['AgeFill'] = df['Age']\n",
    "\n",
    "    # Determine the Age typical for each passenger class by Sex_Val.  \n",
    "    # We'll use the median instead of the mean because the Age \n",
    "    # histogram seems to be right skewed.\n",
    "    df['AgeFill'] = df['AgeFill'] \\\n",
    "                        .groupby([df['Sex_Val'], df['Pclass']]) \\\n",
    "                        .apply(lambda x: x.fillna(x.median()))\n",
    "            \n",
    "    # Define a new feature FamilySize that is the sum of \n",
    "    # Parch (number of parents or children on board) and \n",
    "    # SibSp (number of siblings or spouses):\n",
    "    df['FamilySize'] = df['SibSp'] + df['Parch']\n",
    "    \n",
    "    # Drop the columns we won't use:\n",
    "    df = df.drop(['Name', 'Sex', 'Ticket', 'Cabin', 'Embarked'], axis=1)\n",
    "    \n",
    "    # Drop the Age column since we will be using the AgeFill column instead.\n",
    "    # Drop the SibSp and Parch columns since we will be using FamilySize.\n",
    "    # Drop the PassengerId column since it won't be used as a feature.\n",
    "    df = df.drop(['Age', 'SibSp', 'Parch'], axis=1)\n",
    "    \n",
    "    if drop_passenger_id:\n",
    "        df = df.drop(['PassengerId'], axis=1)\n",
    "    \n",
    "    return df"
   ]
  },
  {
   "cell_type": "code",
   "execution_count": 23,
   "metadata": {},
   "outputs": [],
   "source": [
    "from sklearn.metrics import *\n",
    "from sklearn.cluster import KMeans\n",
    "from sklearn.cluster import DBSCAN\n",
    "from sklearn.cluster import AgglomerativeClustering\n",
    "from sklearn.neighbors import kneighbors_graph"
   ]
  },
  {
   "cell_type": "code",
   "execution_count": 24,
   "metadata": {},
   "outputs": [],
   "source": [
    "kmeans = KMeans(n_clusters = 3)"
   ]
  },
  {
   "cell_type": "code",
   "execution_count": 25,
   "metadata": {},
   "outputs": [
    {
     "data": {
      "text/plain": [
       "KMeans(algorithm='auto', copy_x=True, init='k-means++', max_iter=300,\n",
       "    n_clusters=3, n_init=10, n_jobs=1, precompute_distances='auto',\n",
       "    random_state=None, tol=0.0001, verbose=0)"
      ]
     },
     "execution_count": 25,
     "metadata": {},
     "output_type": "execute_result"
    }
   ],
   "source": [
    "kmeans.fit(train_data)"
   ]
  },
  {
   "cell_type": "code",
   "execution_count": 26,
   "metadata": {},
   "outputs": [
    {
     "data": {
      "text/plain": [
       "3"
      ]
     },
     "execution_count": 26,
     "metadata": {},
     "output_type": "execute_result"
    }
   ],
   "source": [
    "len(kmeans.cluster_centers_)"
   ]
  },
  {
   "cell_type": "code",
   "execution_count": 29,
   "metadata": {},
   "outputs": [
    {
     "data": {
      "text/plain": [
       "array([ 0.5       ,  0.0403299 ,  0.36998249,  0.07826087])"
      ]
     },
     "execution_count": 29,
     "metadata": {},
     "output_type": "execute_result"
    }
   ],
   "source": [
    "kmeans.cluster_centers_[2]"
   ]
  },
  {
   "cell_type": "code",
   "execution_count": 31,
   "metadata": {},
   "outputs": [
    {
     "data": {
      "image/png": "[encoded data removed]",
      "text/plain": [
       "<matplotlib.figure.Figure at 0x10848ea50>"
      ]
     },
     "metadata": {},
     "output_type": "display_data"
    }
   ],
   "source": [
    "# kmeans\n",
    "sse_list = list()\n",
    "max_k = 50\n",
    "#plt.figure((12,6))\n",
    "for k in range(2,max_k):\n",
    "    kmeans = KMeans(init='k-means++', n_clusters=k, n_init=10, max_iter=100)\n",
    "    kmeans.fit(train_data)\n",
    "    sse = kmeans.inertia_\n",
    "    sse_list.append(sse)\n",
    "plt.plot(range(2,max_k), sse_list)\n",
    "plt.show()"
   ]
  },
  {
   "cell_type": "code",
   "execution_count": 32,
   "metadata": {},
   "outputs": [
    {
     "name": "stdout",
     "output_type": "stream",
     "text": [
      "centers [[  1.00000000e+00   3.00565460e-02   2.01078740e-01   1.84615385e-01]\n",
      " [  4.44089210e-16   1.23878078e-01   3.95494378e-01   5.73770492e-02]\n",
      " [  1.00000000e+00   1.95015819e-02   5.36934578e-01   4.32835821e-02]\n",
      " [  5.00000000e-01   3.43833778e-02   4.46082317e-01   4.61538462e-02]\n",
      " [  1.00000000e+00   1.96671054e-02   2.96572529e-01   1.07843137e-02]\n",
      " [  1.00000000e+00   6.25549642e-02   1.87172875e-01   5.28260870e-01]\n",
      " [ -1.11022302e-16   1.11401166e-01   6.70940347e-01   6.26865672e-02]\n",
      " [  0.00000000e+00   4.77886766e-01   3.53047946e-01   2.03703704e-01]\n",
      " [  5.00000000e-01   5.46455865e-02   1.86779202e-01   1.55555556e-01]\n",
      " [  1.00000000e+00   1.35752559e-01   2.90022619e-01   1.00000000e+00]]\n",
      "labels {0: 65, 1: 122, 2: 67, 3: 130, 4: 306, 5: 46, 6: 67, 7: 27, 8: 54, 9: 7}\n",
      "sse 16.3562544932\n",
      "silhouette 0.457785885415\n"
     ]
    }
   ],
   "source": [
    "kmeans = KMeans(init='k-means++', n_clusters=10, n_init=10, max_iter=100)\n",
    "kmeans.fit(train_data)\n",
    "hist, bins = np.histogram(kmeans.labels_, bins=range(0, len(set(kmeans.labels_)) + 1))\n",
    "print 'centers', kmeans.cluster_centers_\n",
    "print 'labels', dict(zip(bins, hist))\n",
    "print 'sse', kmeans.inertia_\n",
    "print 'silhouette', silhouette_score(train_data, kmeans.labels_)"
   ]
  },
  {
   "cell_type": "code",
   "execution_count": 37,
   "metadata": {},
   "outputs": [
    {
     "data": {
      "image/png": "[encoded data removed]",
      "text/plain": [
       "<matplotlib.figure.Figure at 0x109ee8850>"
      ]
     },
     "metadata": {},
     "output_type": "display_data"
    }
   ],
   "source": [
    "for i in range(0, 10):\n",
    "    plt.plot(range(0, 4), kmeans.cluster_centers_[i], label='Cluster %s' % i, linewidth=3)\n",
    "plt.xticks(range(0, 4), list(df_train.columns))\n",
    "#plt.legend()\n",
    "plt.show()"
   ]
  },
  {
   "cell_type": "code",
   "execution_count": 38,
   "metadata": {},
   "outputs": [],
   "source": [
    "df_clusters = df_train\n",
    "df_clusters['Labels'] = kmeans.labels_"
   ]
  },
  {
   "cell_type": "code",
   "execution_count": 39,
   "metadata": {},
   "outputs": [
    {
     "data": {
      "text/html": [
       "<div>\n",
       "<table border=\"1\" class=\"dataframe\">\n",
       "  <thead>\n",
       "    <tr style=\"text-align: right;\">\n",
       "      <th></th>\n",
       "      <th>Pclass</th>\n",
       "      <th>Fare</th>\n",
       "      <th>AgeFill</th>\n",
       "      <th>FamilySize</th>\n",
       "      <th>Labels</th>\n",
       "    </tr>\n",
       "  </thead>\n",
       "  <tbody>\n",
       "    <tr>\n",
       "      <th>0</th>\n",
       "      <td>1.0</td>\n",
       "      <td>0.014151</td>\n",
       "      <td>0.271174</td>\n",
       "      <td>0.1</td>\n",
       "      <td>4</td>\n",
       "    </tr>\n",
       "    <tr>\n",
       "      <th>1</th>\n",
       "      <td>0.0</td>\n",
       "      <td>0.139136</td>\n",
       "      <td>0.472229</td>\n",
       "      <td>0.1</td>\n",
       "      <td>1</td>\n",
       "    </tr>\n",
       "    <tr>\n",
       "      <th>2</th>\n",
       "      <td>1.0</td>\n",
       "      <td>0.015469</td>\n",
       "      <td>0.321438</td>\n",
       "      <td>0.0</td>\n",
       "      <td>4</td>\n",
       "    </tr>\n",
       "    <tr>\n",
       "      <th>3</th>\n",
       "      <td>0.0</td>\n",
       "      <td>0.103644</td>\n",
       "      <td>0.434531</td>\n",
       "      <td>0.1</td>\n",
       "      <td>1</td>\n",
       "    </tr>\n",
       "    <tr>\n",
       "      <th>4</th>\n",
       "      <td>1.0</td>\n",
       "      <td>0.015713</td>\n",
       "      <td>0.434531</td>\n",
       "      <td>0.0</td>\n",
       "      <td>2</td>\n",
       "    </tr>\n",
       "  </tbody>\n",
       "</table>\n",
       "</div>"
      ],
      "text/plain": [
       "   Pclass      Fare   AgeFill  FamilySize  Labels\n",
       "0     1.0  0.014151  0.271174         0.1       4\n",
       "1     0.0  0.139136  0.472229         0.1       1\n",
       "2     1.0  0.015469  0.321438         0.0       4\n",
       "3     0.0  0.103644  0.434531         0.1       1\n",
       "4     1.0  0.015713  0.434531         0.0       2"
      ]
     },
     "execution_count": 39,
     "metadata": {},
     "output_type": "execute_result"
    }
   ],
   "source": [
    "df_clusters.head()"
   ]
  },
  {
   "cell_type": "code",
   "execution_count": 40,
   "metadata": {},
   "outputs": [
    {
     "data": {
      "text/html": [
       "<div>\n",
       "<table border=\"1\" class=\"dataframe\">\n",
       "  <thead>\n",
       "    <tr style=\"text-align: right;\">\n",
       "      <th>Labels</th>\n",
       "      <th>0</th>\n",
       "      <th>1</th>\n",
       "      <th>2</th>\n",
       "      <th>3</th>\n",
       "      <th>4</th>\n",
       "      <th>5</th>\n",
       "      <th>6</th>\n",
       "      <th>7</th>\n",
       "      <th>8</th>\n",
       "      <th>9</th>\n",
       "    </tr>\n",
       "    <tr>\n",
       "      <th>Pclass</th>\n",
       "      <th></th>\n",
       "      <th></th>\n",
       "      <th></th>\n",
       "      <th></th>\n",
       "      <th></th>\n",
       "      <th></th>\n",
       "      <th></th>\n",
       "      <th></th>\n",
       "      <th></th>\n",
       "      <th></th>\n",
       "    </tr>\n",
       "  </thead>\n",
       "  <tbody>\n",
       "    <tr>\n",
       "      <th>0.0</th>\n",
       "      <td>0</td>\n",
       "      <td>122</td>\n",
       "      <td>0</td>\n",
       "      <td>0</td>\n",
       "      <td>0</td>\n",
       "      <td>0</td>\n",
       "      <td>67</td>\n",
       "      <td>27</td>\n",
       "      <td>0</td>\n",
       "      <td>0</td>\n",
       "    </tr>\n",
       "    <tr>\n",
       "      <th>0.5</th>\n",
       "      <td>0</td>\n",
       "      <td>0</td>\n",
       "      <td>0</td>\n",
       "      <td>130</td>\n",
       "      <td>0</td>\n",
       "      <td>0</td>\n",
       "      <td>0</td>\n",
       "      <td>0</td>\n",
       "      <td>54</td>\n",
       "      <td>0</td>\n",
       "    </tr>\n",
       "    <tr>\n",
       "      <th>1.0</th>\n",
       "      <td>65</td>\n",
       "      <td>0</td>\n",
       "      <td>67</td>\n",
       "      <td>0</td>\n",
       "      <td>306</td>\n",
       "      <td>46</td>\n",
       "      <td>0</td>\n",
       "      <td>0</td>\n",
       "      <td>0</td>\n",
       "      <td>7</td>\n",
       "    </tr>\n",
       "  </tbody>\n",
       "</table>\n",
       "</div>"
      ],
      "text/plain": [
       "Labels   0    1   2    3    4   5   6   7   8  9\n",
       "Pclass                                          \n",
       "0.0      0  122   0    0    0   0  67  27   0  0\n",
       "0.5      0    0   0  130    0   0   0   0  54  0\n",
       "1.0     65    0  67    0  306  46   0   0   0  7"
      ]
     },
     "execution_count": 40,
     "metadata": {},
     "output_type": "execute_result"
    }
   ],
   "source": [
    "pclass_xt = pd.crosstab(df_clusters['Pclass'], df_clusters['Labels'])\n",
    "pclass_xt"
   ]
  },
  {
   "cell_type": "code",
   "execution_count": 54,
   "metadata": {},
   "outputs": [
    {
     "data": {
      "text/html": [
       "<div>\n",
       "<table border=\"1\" class=\"dataframe\">\n",
       "  <thead>\n",
       "    <tr style=\"text-align: right;\">\n",
       "      <th>Labels</th>\n",
       "      <th>0</th>\n",
       "      <th>1</th>\n",
       "      <th>2</th>\n",
       "      <th>3</th>\n",
       "      <th>4</th>\n",
       "      <th>5</th>\n",
       "      <th>6</th>\n",
       "      <th>7</th>\n",
       "      <th>8</th>\n",
       "      <th>9</th>\n",
       "    </tr>\n",
       "    <tr>\n",
       "      <th>Survived</th>\n",
       "      <th></th>\n",
       "      <th></th>\n",
       "      <th></th>\n",
       "      <th></th>\n",
       "      <th></th>\n",
       "      <th></th>\n",
       "      <th></th>\n",
       "      <th></th>\n",
       "      <th></th>\n",
       "      <th></th>\n",
       "    </tr>\n",
       "  </thead>\n",
       "  <tbody>\n",
       "    <tr>\n",
       "      <th>0</th>\n",
       "      <td>29</td>\n",
       "      <td>37</td>\n",
       "      <td>61</td>\n",
       "      <td>80</td>\n",
       "      <td>233</td>\n",
       "      <td>42</td>\n",
       "      <td>35</td>\n",
       "      <td>8</td>\n",
       "      <td>17</td>\n",
       "      <td>7</td>\n",
       "    </tr>\n",
       "    <tr>\n",
       "      <th>1</th>\n",
       "      <td>36</td>\n",
       "      <td>85</td>\n",
       "      <td>6</td>\n",
       "      <td>50</td>\n",
       "      <td>73</td>\n",
       "      <td>4</td>\n",
       "      <td>32</td>\n",
       "      <td>19</td>\n",
       "      <td>37</td>\n",
       "      <td>0</td>\n",
       "    </tr>\n",
       "  </tbody>\n",
       "</table>\n",
       "</div>"
      ],
      "text/plain": [
       "Labels     0   1   2   3    4   5   6   7   8  9\n",
       "Survived                                        \n",
       "0         29  37  61  80  233  42  35   8  17  7\n",
       "1         36  85   6  50   73   4  32  19  37  0"
      ]
     },
     "execution_count": 54,
     "metadata": {},
     "output_type": "execute_result"
    }
   ],
   "source": [
    "psurv_xt = pd.crosstab(df['Survived'], df_clusters['Labels'])\n",
    "psurv_xt"
   ]
  },
  {
   "cell_type": "code",
   "execution_count": 57,
   "metadata": {},
   "outputs": [
    {
     "data": {
      "image/png": "[encoded data removed]",
      "text/plain": [
       "<matplotlib.figure.Figure at 0x10e1ea890>"
      ]
     },
     "metadata": {},
     "output_type": "display_data"
    }
   ],
   "source": [
    "psurv_xt_pct = psurv_xt.div(psurv_xt.sum(1).astype(float), axis=0)\n",
    "psurv_xt_pct.plot(kind='bar', stacked=True, title='Cluster Label Rate by Survived Classes')\n",
    "plt.xlabel('Survived')\n",
    "plt.ylabel('Cluster Label')\n",
    "plt.show()"
   ]
  },
  {
   "cell_type": "code",
   "execution_count": 41,
   "metadata": {},
   "outputs": [
    {
     "data": {
      "image/png": "[encoded data removed]",
      "text/plain": [
       "<matplotlib.figure.Figure at 0x10be8bc50>"
      ]
     },
     "metadata": {},
     "output_type": "display_data"
    }
   ],
   "source": [
    "pclass_xt_pct = pclass_xt.div(pclass_xt.sum(1).astype(float), axis=0)\n",
    "pclass_xt_pct.plot(kind='bar', stacked=True, title='Cluster Label Rate by Passenger Classes')\n",
    "plt.xlabel('Passenger Class')\n",
    "plt.ylabel('Cluster Label')\n",
    "plt.show()"
   ]
  },
  {
   "cell_type": "code",
   "execution_count": 42,
   "metadata": {},
   "outputs": [
    {
     "data": {
      "text/html": [
       "<div>\n",
       "<table border=\"1\" class=\"dataframe\">\n",
       "  <thead>\n",
       "    <tr style=\"text-align: right;\">\n",
       "      <th></th>\n",
       "      <th>Pclass</th>\n",
       "      <th>Fare</th>\n",
       "      <th>AgeFill</th>\n",
       "      <th>FamilySize</th>\n",
       "      <th>Labels</th>\n",
       "    </tr>\n",
       "  </thead>\n",
       "  <tbody>\n",
       "    <tr>\n",
       "      <th>count</th>\n",
       "      <td>891.000000</td>\n",
       "      <td>891.000000</td>\n",
       "      <td>891.000000</td>\n",
       "      <td>891.000000</td>\n",
       "      <td>891.000000</td>\n",
       "    </tr>\n",
       "    <tr>\n",
       "      <th>mean</th>\n",
       "      <td>0.654321</td>\n",
       "      <td>0.062858</td>\n",
       "      <td>0.360548</td>\n",
       "      <td>0.090460</td>\n",
       "      <td>3.575758</td>\n",
       "    </tr>\n",
       "    <tr>\n",
       "      <th>std</th>\n",
       "      <td>0.418036</td>\n",
       "      <td>0.096995</td>\n",
       "      <td>0.167183</td>\n",
       "      <td>0.161346</td>\n",
       "      <td>2.112466</td>\n",
       "    </tr>\n",
       "    <tr>\n",
       "      <th>min</th>\n",
       "      <td>0.000000</td>\n",
       "      <td>0.000000</td>\n",
       "      <td>0.000000</td>\n",
       "      <td>0.000000</td>\n",
       "      <td>0.000000</td>\n",
       "    </tr>\n",
       "    <tr>\n",
       "      <th>25%</th>\n",
       "      <td>0.500000</td>\n",
       "      <td>0.015440</td>\n",
       "      <td>0.264891</td>\n",
       "      <td>0.000000</td>\n",
       "      <td>2.000000</td>\n",
       "    </tr>\n",
       "    <tr>\n",
       "      <th>50%</th>\n",
       "      <td>1.000000</td>\n",
       "      <td>0.028213</td>\n",
       "      <td>0.321438</td>\n",
       "      <td>0.000000</td>\n",
       "      <td>4.000000</td>\n",
       "    </tr>\n",
       "    <tr>\n",
       "      <th>75%</th>\n",
       "      <td>1.000000</td>\n",
       "      <td>0.060508</td>\n",
       "      <td>0.447097</td>\n",
       "      <td>0.100000</td>\n",
       "      <td>4.000000</td>\n",
       "    </tr>\n",
       "    <tr>\n",
       "      <th>max</th>\n",
       "      <td>1.000000</td>\n",
       "      <td>1.000000</td>\n",
       "      <td>1.000000</td>\n",
       "      <td>1.000000</td>\n",
       "      <td>9.000000</td>\n",
       "    </tr>\n",
       "  </tbody>\n",
       "</table>\n",
       "</div>"
      ],
      "text/plain": [
       "           Pclass        Fare     AgeFill  FamilySize      Labels\n",
       "count  891.000000  891.000000  891.000000  891.000000  891.000000\n",
       "mean     0.654321    0.062858    0.360548    0.090460    3.575758\n",
       "std      0.418036    0.096995    0.167183    0.161346    2.112466\n",
       "min      0.000000    0.000000    0.000000    0.000000    0.000000\n",
       "25%      0.500000    0.015440    0.264891    0.000000    2.000000\n",
       "50%      1.000000    0.028213    0.321438    0.000000    4.000000\n",
       "75%      1.000000    0.060508    0.447097    0.100000    4.000000\n",
       "max      1.000000    1.000000    1.000000    1.000000    9.000000"
      ]
     },
     "execution_count": 42,
     "metadata": {},
     "output_type": "execute_result"
    }
   ],
   "source": [
    "df_clusters.describe()"
   ]
  },
  {
   "cell_type": "code",
   "execution_count": 43,
   "metadata": {},
   "outputs": [
    {
     "data": {
      "text/html": [
       "<div>\n",
       "<table border=\"1\" class=\"dataframe\">\n",
       "  <thead>\n",
       "    <tr style=\"text-align: right;\">\n",
       "      <th></th>\n",
       "      <th>Pclass</th>\n",
       "      <th>Fare</th>\n",
       "      <th>AgeFill</th>\n",
       "      <th>FamilySize</th>\n",
       "      <th>Labels</th>\n",
       "    </tr>\n",
       "  </thead>\n",
       "  <tbody>\n",
       "    <tr>\n",
       "      <th>count</th>\n",
       "      <td>130.0</td>\n",
       "      <td>130.000000</td>\n",
       "      <td>130.000000</td>\n",
       "      <td>130.000000</td>\n",
       "      <td>130.0</td>\n",
       "    </tr>\n",
       "    <tr>\n",
       "      <th>mean</th>\n",
       "      <td>0.5</td>\n",
       "      <td>0.034383</td>\n",
       "      <td>0.446082</td>\n",
       "      <td>0.046154</td>\n",
       "      <td>3.0</td>\n",
       "    </tr>\n",
       "    <tr>\n",
       "      <th>std</th>\n",
       "      <td>0.0</td>\n",
       "      <td>0.020135</td>\n",
       "      <td>0.128196</td>\n",
       "      <td>0.080842</td>\n",
       "      <td>0.0</td>\n",
       "    </tr>\n",
       "    <tr>\n",
       "      <th>min</th>\n",
       "      <td>0.5</td>\n",
       "      <td>0.000000</td>\n",
       "      <td>0.283740</td>\n",
       "      <td>0.000000</td>\n",
       "      <td>3.0</td>\n",
       "    </tr>\n",
       "    <tr>\n",
       "      <th>25%</th>\n",
       "      <td>0.5</td>\n",
       "      <td>0.025374</td>\n",
       "      <td>0.359135</td>\n",
       "      <td>0.000000</td>\n",
       "      <td>3.0</td>\n",
       "    </tr>\n",
       "    <tr>\n",
       "      <th>50%</th>\n",
       "      <td>0.5</td>\n",
       "      <td>0.025374</td>\n",
       "      <td>0.409399</td>\n",
       "      <td>0.000000</td>\n",
       "      <td>3.0</td>\n",
       "    </tr>\n",
       "    <tr>\n",
       "      <th>75%</th>\n",
       "      <td>0.5</td>\n",
       "      <td>0.050749</td>\n",
       "      <td>0.519352</td>\n",
       "      <td>0.100000</td>\n",
       "      <td>3.0</td>\n",
       "    </tr>\n",
       "    <tr>\n",
       "      <th>max</th>\n",
       "      <td>0.5</td>\n",
       "      <td>0.143462</td>\n",
       "      <td>0.874340</td>\n",
       "      <td>0.400000</td>\n",
       "      <td>3.0</td>\n",
       "    </tr>\n",
       "  </tbody>\n",
       "</table>\n",
       "</div>"
      ],
      "text/plain": [
       "       Pclass        Fare     AgeFill  FamilySize  Labels\n",
       "count   130.0  130.000000  130.000000  130.000000   130.0\n",
       "mean      0.5    0.034383    0.446082    0.046154     3.0\n",
       "std       0.0    0.020135    0.128196    0.080842     0.0\n",
       "min       0.5    0.000000    0.283740    0.000000     3.0\n",
       "25%       0.5    0.025374    0.359135    0.000000     3.0\n",
       "50%       0.5    0.025374    0.409399    0.000000     3.0\n",
       "75%       0.5    0.050749    0.519352    0.100000     3.0\n",
       "max       0.5    0.143462    0.874340    0.400000     3.0"
      ]
     },
     "execution_count": 43,
     "metadata": {},
     "output_type": "execute_result"
    }
   ],
   "source": [
    "df_clusters[df_clusters['Labels']==3].describe()"
   ]
  },
  {
   "cell_type": "code",
   "execution_count": 44,
   "metadata": {},
   "outputs": [],
   "source": [
    "# hierarchical clustering\n",
    "connectivity = kneighbors_graph(train_data, n_neighbors=100, include_self=False)\n",
    "connectivity = 0.5 * (connectivity + connectivity.T)"
   ]
  },
  {
   "cell_type": "code",
   "execution_count": 45,
   "metadata": {},
   "outputs": [
    {
     "name": "stdout",
     "output_type": "stream",
     "text": [
      "ward\n",
      "labels {0: 184, 1: 107, 2: 387, 3: 62, 4: 109, 5: 42}\n",
      "silhouette 0.489209496055\n"
     ]
    }
   ],
   "source": [
    "print 'ward'\n",
    "ward = AgglomerativeClustering(n_clusters=6, linkage='ward', affinity='euclidean',\n",
    "                                   connectivity=connectivity)\n",
    "ward.fit(train_data)\n",
    "\n",
    "hist, bins = np.histogram(ward.labels_, bins=range(0, len(set(ward.labels_)) + 1))\n",
    "print 'labels', dict(zip(bins, hist))\n",
    "print 'silhouette', silhouette_score(train_data, ward.labels_)"
   ]
  },
  {
   "cell_type": "code",
   "execution_count": 46,
   "metadata": {},
   "outputs": [
    {
     "name": "stdout",
     "output_type": "stream",
     "text": [
      "average linkage\n",
      "labels {0: 386, 1: 484, 2: 5, 3: 7, 4: 6, 5: 3}\n",
      "silhouette 0.470285567065\n"
     ]
    }
   ],
   "source": [
    "print 'average linkage'\n",
    "average_linkage = AgglomerativeClustering(n_clusters=6, linkage='average', affinity='manhattan',\n",
    "                                              connectivity=connectivity)\n",
    "average_linkage.fit(train_data)\n",
    "\n",
    "hist, bins = np.histogram(average_linkage.labels_, \n",
    "                          bins=range(0, len(set(average_linkage.labels_)) + 1))\n",
    "\n",
    "print 'labels', dict(zip(bins, hist))\n",
    "print 'silhouette', silhouette_score(train_data, average_linkage.labels_)"
   ]
  },
  {
   "cell_type": "code",
   "execution_count": 47,
   "metadata": {},
   "outputs": [
    {
     "name": "stdout",
     "output_type": "stream",
     "text": [
      "complete linkage\n",
      "labels {0: 40, 1: 791, 2: 6, 3: 3, 4: 7, 5: 44}\n",
      "silhouette 0.0942794318774\n"
     ]
    }
   ],
   "source": [
    "print 'complete linkage'\n",
    "complete_linkage = AgglomerativeClustering(n_clusters=6, linkage='complete', affinity='l1',\n",
    "                                              connectivity=connectivity)\n",
    "complete_linkage.fit(train_data)\n",
    "hist, bins = np.histogram(complete_linkage.labels_, \n",
    "                          bins=range(0, len(set(complete_linkage.labels_)) + 1))\n",
    "\n",
    "print 'labels', dict(zip(bins, hist))\n",
    "print 'silhouette', silhouette_score(train_data, complete_linkage.labels_)"
   ]
  },
  {
   "cell_type": "code",
   "execution_count": 49,
   "metadata": {},
   "outputs": [],
   "source": [
    "from scipy.stats import mode\n",
    "from scipy.spatial.distance import pdist\n",
    "from scipy.cluster.hierarchy import linkage, dendrogram"
   ]
  },
  {
   "cell_type": "code",
   "execution_count": 50,
   "metadata": {},
   "outputs": [
    {
     "data": {
      "image/png": "[encoded data removed]",
      "text/plain": [
       "<matplotlib.figure.Figure at 0x109ceda10>"
      ]
     },
     "metadata": {},
     "output_type": "display_data"
    }
   ],
   "source": [
    "# single linkage and dendogram using scipy\n",
    "data_dist = pdist(train_data, metric='euclidean')\n",
    "data_link = linkage(data_dist, method='single', metric='euclidean')\n",
    "res = dendrogram(data_link)"
   ]
  },
  {
   "cell_type": "code",
   "execution_count": 51,
   "metadata": {},
   "outputs": [
    {
     "name": "stdout",
     "output_type": "stream",
     "text": [
      "dbscan\n",
      "labels {0: 484, 1: 207, 2: 183, 3: 5, 4: 7, 5: 0, -1: 5}\n",
      "silhouette 0.563847172922\n"
     ]
    }
   ],
   "source": [
    "# density based clustering\n",
    "print 'dbscan'\n",
    "\n",
    "dbscan = DBSCAN(eps=0.2, min_samples=5, metric='euclidean')\n",
    "dbscan.fit(train_data)\n",
    "\n",
    "hist, bins = np.histogram(dbscan.labels_, bins=range(-1, len(set(dbscan.labels_)) + 1))\n",
    "\n",
    "print 'labels', dict(zip(bins, hist))\n",
    "print 'silhouette', silhouette_score(train_data, dbscan.labels_)"
   ]
  },
  {
   "cell_type": "code",
   "execution_count": 52,
   "metadata": {},
   "outputs": [
    {
     "data": {
      "text/plain": [
       "array([0, 1, 0, 1, 0, 0, 1, 0, 0, 2])"
      ]
     },
     "execution_count": 52,
     "metadata": {},
     "output_type": "execute_result"
    }
   ],
   "source": [
    "dbscan.labels_[:10]"
   ]
  },
  {
   "cell_type": "code",
   "execution_count": null,
   "metadata": {},
   "outputs": [],
   "source": []
  }
 ],
 "metadata": {
  "kernelspec": {
   "display_name": "Python 3",
   "language": "python",
   "name": "python3"
  },
  "language_info": {
   "codemirror_mode": {
    "name": "ipython",
    "version": 3
   },
   "file_extension": ".py",
   "mimetype": "text/x-python",
   "name": "python",
   "nbconvert_exporter": "python",
   "pygments_lexer": "ipython3",
   "version": "3.6.5"
  }
 },
 "nbformat": 4,
 "nbformat_minor": 1
}
