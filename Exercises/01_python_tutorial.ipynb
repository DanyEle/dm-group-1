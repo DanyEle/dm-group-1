{
 "cells": [
  {
   "cell_type": "code",
   "execution_count": 1,
   "metadata": {},
   "outputs": [
    {
     "name": "stdout",
     "output_type": "stream",
     "text": [
      "Hello, World!\n"
     ]
    }
   ],
   "source": [
    "print 'Hello, World!'"
   ]
  },
  {
   "cell_type": "code",
   "execution_count": 12,
   "metadata": {},
   "outputs": [],
   "source": [
    "from ipywidgets import interact, interactive, fixed, interact_manual\n",
    "import ipywidgets as widgets"
   ]
  },
  {
   "cell_type": "code",
   "execution_count": 13,
   "metadata": {},
   "outputs": [],
   "source": [
    "def f(x):\n",
    "    return x"
   ]
  },
  {
   "cell_type": "code",
   "execution_count": 34,
   "metadata": {},
   "outputs": [
    {
     "data": {
      "application/vnd.jupyter.widget-view+json": {
       "model_id": "77c1c529d48a495393f5ce2ed19660c2",
       "version_major": 2,
       "version_minor": 0
      },
      "text/html": [
       "<p>Failed to display Jupyter Widget of type <code>interactive</code>.</p>\n",
       "<p>\n",
       "  If you're reading this message in Jupyter Notebook or JupyterLab, it may mean\n",
       "  that the widgets JavaScript is still loading. If this message persists, it\n",
       "  likely means that the widgets JavaScript library is either not installed or\n",
       "  not enabled. See the <a href=\"https://ipywidgets.readthedocs.io/en/stable/user_install.html\">Jupyter\n",
       "  Widgets Documentation</a> for setup instructions.\n",
       "</p>\n",
       "<p>\n",
       "  If you're reading this message in another notebook frontend (for example, a static\n",
       "  rendering on GitHub or <a href=\"https://nbviewer.jupyter.org/\">NBViewer</a>),\n",
       "  it may mean that your frontend doesn't currently support widgets.\n",
       "</p>\n"
      ],
      "text/plain": [
       "interactive(children=(SelectMultiple(description=u'Fruits', index=(1,), options=('Apples 53', 'Oranges 23', 'Pears 76'), rows=3, value=('Oranges 23',)), Output()), _dom_classes=('widget-interact',))"
      ]
     },
     "metadata": {},
     "output_type": "display_data"
    }
   ],
   "source": [
    "a = interact(f, x=widgets.SelectMultiple(\n",
    "    options=['Apples 53', 'Oranges 23', 'Pears 76'],\n",
    "    value=['Oranges 23'],\n",
    "    rows=3,\n",
    "    description='Fruits',\n",
    "    disabled=False\n",
    "));"
   ]
  },
  {
   "cell_type": "code",
   "execution_count": 32,
   "metadata": {},
   "outputs": [
    {
     "data": {
      "text/plain": [
       "('Apples', 'Oranges')"
      ]
     },
     "execution_count": 32,
     "metadata": {},
     "output_type": "execute_result"
    }
   ],
   "source": [
    "a.widget.result"
   ]
  },
  {
   "cell_type": "code",
   "execution_count": 4,
   "metadata": {},
   "outputs": [
    {
     "data": {
      "application/vnd.jupyter.widget-view+json": {
       "model_id": "7ea1d4334aeb4482b86367ac9a5ae27a",
       "version_major": 2,
       "version_minor": 0
      },
      "text/html": [
       "<p>Failed to display Jupyter Widget of type <code>SelectMultiple</code>.</p>\n",
       "<p>\n",
       "  If you're reading this message in Jupyter Notebook or JupyterLab, it may mean\n",
       "  that the widgets JavaScript is still loading. If this message persists, it\n",
       "  likely means that the widgets JavaScript library is either not installed or\n",
       "  not enabled. See the <a href=\"https://ipywidgets.readthedocs.io/en/stable/user_install.html\">Jupyter\n",
       "  Widgets Documentation</a> for setup instructions.\n",
       "</p>\n",
       "<p>\n",
       "  If you're reading this message in another notebook frontend (for example, a static\n",
       "  rendering on GitHub or <a href=\"https://nbviewer.jupyter.org/\">NBViewer</a>),\n",
       "  it may mean that your frontend doesn't currently support widgets.\n",
       "</p>\n"
      ],
      "text/plain": [
       "SelectMultiple(description=u'Fruits', index=(1,), options=('Apples', 'Oranges', 'Pears'), value=('Oranges',))"
      ]
     },
     "metadata": {},
     "output_type": "display_data"
    }
   ],
   "source": [
    "widgets.SelectMultiple(\n",
    "    options=['Apples', 'Oranges', 'Pears'],\n",
    "    value=['Oranges'],\n",
    "    #rows=10,\n",
    "    description='Fruits',\n",
    "    disabled=False\n",
    ")"
   ]
  },
  {
   "cell_type": "code",
   "execution_count": 10,
   "metadata": {},
   "outputs": [],
   "source": [
    "out = widgets.Output()"
   ]
  },
  {
   "cell_type": "code",
   "execution_count": 11,
   "metadata": {},
   "outputs": [
    {
     "data": {
      "application/vnd.jupyter.widget-view+json": {
       "model_id": "6e41cbaae484425ba2eae6177a41f880",
       "version_major": 2,
       "version_minor": 0
      },
      "text/html": [
       "<p>Failed to display Jupyter Widget of type <code>Output</code>.</p>\n",
       "<p>\n",
       "  If you're reading this message in Jupyter Notebook or JupyterLab, it may mean\n",
       "  that the widgets JavaScript is still loading. If this message persists, it\n",
       "  likely means that the widgets JavaScript library is either not installed or\n",
       "  not enabled. See the <a href=\"https://ipywidgets.readthedocs.io/en/stable/user_install.html\">Jupyter\n",
       "  Widgets Documentation</a> for setup instructions.\n",
       "</p>\n",
       "<p>\n",
       "  If you're reading this message in another notebook frontend (for example, a static\n",
       "  rendering on GitHub or <a href=\"https://nbviewer.jupyter.org/\">NBViewer</a>),\n",
       "  it may mean that your frontend doesn't currently support widgets.\n",
       "</p>\n"
      ],
      "text/plain": [
       "Output()"
      ]
     },
     "metadata": {},
     "output_type": "display_data"
    }
   ],
   "source": [
    "out"
   ]
  },
  {
   "cell_type": "raw",
   "metadata": {},
   "source": [
    "# Reserved Words\n",
    "# and\t    exec\tnot\n",
    "# assert\tfinally\tor\n",
    "# break\t    for\t    pass\n",
    "# class\t    from\tprint\n",
    "# continue\tglobal\traise\n",
    "# def\t    if\t    return\n",
    "# del\t    import\ttry\n",
    "# elif\t    in\t    while\n",
    "# else\t    is\t    with\n",
    "# except\tlambda\tyield\n",
    "\n",
    "\n",
    "# Most important thing for first users:\n",
    "# Lines and Indentation\n",
    "# Python provides no braces to indicate blocks of code for class and function definitions or flow control.\n",
    "# Blocks of code are denoted by line indentation, which is rigidly enforced.\n",
    "# The number of spaces in the indentation is variable, but all statements within the block must be indented\n",
    "# the same amount."
   ]
  },
  {
   "cell_type": "code",
   "execution_count": 2,
   "metadata": {},
   "outputs": [
    {
     "name": "stdout",
     "output_type": "stream",
     "text": [
      "True\n"
     ]
    }
   ],
   "source": [
    "if True:\n",
    "    print \"True\"\n",
    "else:\n",
    "    print \"False\""
   ]
  },
  {
   "cell_type": "code",
   "execution_count": 3,
   "metadata": {},
   "outputs": [
    {
     "name": "stdout",
     "output_type": "stream",
     "text": [
      "True\n"
     ]
    }
   ],
   "source": [
    "if True:\n",
    "    print \"True\"\n",
    "else:\n",
    "    print \"False\""
   ]
  },
  {
   "cell_type": "code",
   "execution_count": 6,
   "metadata": {},
   "outputs": [
    {
     "ename": "IndentationError",
     "evalue": "unindent does not match any outer indentation level (<ipython-input-6-b9bf12a9aecd>, line 6)",
     "output_type": "error",
     "traceback": [
      "\u001b[0;36m  File \u001b[0;32m\"<ipython-input-6-b9bf12a9aecd>\"\u001b[0;36m, line \u001b[0;32m6\u001b[0m\n\u001b[0;31m    print \"False\"\u001b[0m\n\u001b[0m                 ^\u001b[0m\n\u001b[0;31mIndentationError\u001b[0m\u001b[0;31m:\u001b[0m unindent does not match any outer indentation level\n"
     ]
    }
   ],
   "source": [
    "if True:\n",
    "    print \"Answer\"\n",
    "    print \"True\"\n",
    "else:\n",
    "    print \"Answer\"\n",
    "  print \"False\""
   ]
  },
  {
   "cell_type": "code",
   "execution_count": 9,
   "metadata": {
    "collapsed": true
   },
   "outputs": [],
   "source": [
    "# Assignment\n",
    "var = 5\n",
    "\n",
    "# Multi-Line Statements\n",
    "# Statements in Python typically end with a new line.\n",
    "# Python does, however, allow the use of the line continuation character (\\) to denote that the line should continue.\n",
    "\n",
    "total = 'a' + \\\n",
    "        'b' + \\\n",
    "        'c'\n",
    "\n",
    "days = ['Monday', 'Tuesday', 'Wednesday',\n",
    "        'Thursday', 'Friday']"
   ]
  },
  {
   "cell_type": "code",
   "execution_count": 10,
   "metadata": {},
   "outputs": [
    {
     "data": {
      "text/plain": [
       "['April', 'Tuesday', 'Wednesday', 'Thursday', 'Friday']"
      ]
     },
     "execution_count": 10,
     "metadata": {},
     "output_type": "execute_result"
    }
   ],
   "source": []
  },
  {
   "cell_type": "code",
   "execution_count": 6,
   "metadata": {
    "collapsed": true
   },
   "outputs": [],
   "source": [
    "# quotation\n",
    "word = 'word'\n",
    "sentence = \"This is a sentence.\"\n",
    "paragraph = \"\"\"This is a paragraph. It is\n",
    "made up of multiple lines and sentences.\"\"\""
   ]
  },
  {
   "cell_type": "code",
   "execution_count": 7,
   "metadata": {},
   "outputs": [
    {
     "name": "stdout",
     "output_type": "stream",
     "text": [
      "foo\n"
     ]
    }
   ],
   "source": [
    "# Multiple Statements on a Single Line\n",
    "import sys ; x = 'foo'; sys.stdout.write(x + '\\n')"
   ]
  },
  {
   "cell_type": "raw",
   "metadata": {},
   "source": [
    "# Standard Data Types:\n",
    "# Numbers, String, List, Tuple, Dictionary"
   ]
  },
  {
   "cell_type": "code",
   "execution_count": 11,
   "metadata": {},
   "outputs": [
    {
     "name": "stdout",
     "output_type": "stream",
     "text": [
      "numbers 10 51924361 15.2 3.14j\n"
     ]
    }
   ],
   "source": [
    "# Python Numbers\n",
    "# int (signed integers)\n",
    "# long (long integers [can also be represented in octal and hexadecimal])\n",
    "# float (floating point real values)\n",
    "# complex (complex numbers)\n",
    "\n",
    "i = 10\n",
    "l = 51924361L\n",
    "f = 15.20\n",
    "c = 3.14j\n",
    "\n",
    "print 'numbers', i, l, f, c"
   ]
  },
  {
   "cell_type": "code",
   "execution_count": 14,
   "metadata": {},
   "outputs": [
    {
     "name": "stdout",
     "output_type": "stream",
     "text": [
      "Hello World!\n",
      "H\n",
      "llo\n",
      "llo World!\n",
      "Hello World!Hello World!\n",
      "Hello World!TEST\n",
      "Hello World! 10 15.20 TEST2\n"
     ]
    }
   ],
   "source": [
    "# Python Strings\n",
    "# Strings in Python are identified as a contiguous set of characters in between quotation marks.\n",
    "\n",
    "string = 'Hello World!'\n",
    "\n",
    "print string           # Prints complete string\n",
    "print string[0]        # Prints first character of the string\n",
    "print string[2:5]      # Prints characters starting from 3rd to 6th\n",
    "print string[2:]       # Prints string starting from 3rd character\n",
    "print string * 2       # Prints string two times\n",
    "print string + \"TEST\"  # Prints concatenated string\n",
    "\n",
    "print '%s %d %.2f TEST2' % (string, i, f)"
   ]
  },
  {
   "cell_type": "code",
   "execution_count": 12,
   "metadata": {},
   "outputs": [
    {
     "name": "stdout",
     "output_type": "stream",
     "text": [
      "['abcd', 786.0, 2.23, 'john', 70.2]\n",
      "abcd\n",
      "[786.0, 2.23]\n",
      "[2.23, 'john', 70.2]\n",
      "[123, 'john', 123, 'john']\n",
      "['abcd', 786.0, 2.23, 'john', 70.2, 123, 'john']\n",
      "[123]\n",
      "['abcd', 786.0, 2.23, 'john', 70.2, 100, 100]\n",
      "7\n",
      "2\n",
      "['abcd', 786.0, 2.23, 'john', 70.2, 100, 100, -1]\n",
      "['abcd', 786.0, 2.23, 'john', 70.2, 100, 100]\n",
      "['abcd', 786.0, 2.23, 'john', 70.2, 100]\n",
      "[100, 70.2, 'john', 2.23, 786.0, 'abcd']\n",
      "[2.23, 70.2, 100, 786.0, 'abcd', 'john']\n",
      "1 4\n"
     ]
    }
   ],
   "source": [
    "# Python Lists\n",
    "# Lists are the most versatile of Python's compound data types.\n",
    "# A list contains items separated by commas and enclosed within square brackets ([]).\n",
    "\n",
    "l0 = []\n",
    "l1 = list()\n",
    "# they are equivalent\n",
    "\n",
    "l2 = ['abcd', float('786'), 2.23, 'john', 70.2]\n",
    "l3 = [123, 'john']\n",
    "\n",
    "print l2        # Prints complete list\n",
    "print l2[0]     # Prints first element of the list\n",
    "print l2[1:3]   # Prints elements starting from 2nd to 4th\n",
    "print l2[2:]    # Prints elements starting from 3rd element\n",
    "print l3 * 2    # Prints list two times\n",
    "print l2 + l3   # Prints concatenated lists\n",
    "\n",
    "del l3[1]\n",
    "print l3\n",
    "l2.append(100)\n",
    "l2.append(100)\n",
    "print l2\n",
    "print len(l2)\n",
    "print l2.count(100)\n",
    "l2.extend([-1])\n",
    "print l2\n",
    "l2.pop()\n",
    "print l2\n",
    "l2.remove(100)\n",
    "print l2\n",
    "l2.reverse()\n",
    "print l2\n",
    "l2.sort()\n",
    "print l2\n",
    "print min([1, 2, 3, 4]), max([1, 2, 3, 4])"
   ]
  },
  {
   "cell_type": "code",
   "execution_count": 17,
   "metadata": {},
   "outputs": [
    {
     "name": "stdout",
     "output_type": "stream",
     "text": [
      "[1, 2, 3, 4]\n"
     ]
    }
   ],
   "source": [
    "list_test = [1,2,3]\n",
    "list_test.extend([4])\n",
    "print list_test"
   ]
  },
  {
   "cell_type": "code",
   "execution_count": 18,
   "metadata": {},
   "outputs": [
    {
     "name": "stdout",
     "output_type": "stream",
     "text": [
      "[100, 2, 3, 4]\n"
     ]
    }
   ],
   "source": [
    "list_test[0] = 100\n",
    "print list_test"
   ]
  },
  {
   "cell_type": "code",
   "execution_count": 19,
   "metadata": {
    "collapsed": true
   },
   "outputs": [],
   "source": [
    "s = set([1,2,3,3])"
   ]
  },
  {
   "cell_type": "code",
   "execution_count": 20,
   "metadata": {},
   "outputs": [
    {
     "ename": "TypeError",
     "evalue": "'set' object does not support item assignment",
     "output_type": "error",
     "traceback": [
      "\u001b[0;31m---------------------------------------------------------------------------\u001b[0m",
      "\u001b[0;31mTypeError\u001b[0m                                 Traceback (most recent call last)",
      "\u001b[0;32m<ipython-input-20-728858918f4b>\u001b[0m in \u001b[0;36m<module>\u001b[0;34m()\u001b[0m\n\u001b[0;32m----> 1\u001b[0;31m \u001b[0ms\u001b[0m\u001b[0;34m[\u001b[0m\u001b[0;36m0\u001b[0m\u001b[0;34m]\u001b[0m \u001b[0;34m=\u001b[0m \u001b[0;36m100\u001b[0m\u001b[0;34m\u001b[0m\u001b[0m\n\u001b[0m\u001b[1;32m      2\u001b[0m \u001b[0;32mprint\u001b[0m \u001b[0ms\u001b[0m\u001b[0;34m\u001b[0m\u001b[0m\n",
      "\u001b[0;31mTypeError\u001b[0m: 'set' object does not support item assignment"
     ]
    }
   ],
   "source": [
    "s[0] = 100\n",
    "print s"
   ]
  },
  {
   "cell_type": "code",
   "execution_count": 21,
   "metadata": {},
   "outputs": [
    {
     "name": "stdout",
     "output_type": "stream",
     "text": [
      "set([1, 2, 3, 4])\n"
     ]
    }
   ],
   "source": [
    "s.add(4)\n",
    "print s"
   ]
  },
  {
   "cell_type": "code",
   "execution_count": 22,
   "metadata": {
    "collapsed": true
   },
   "outputs": [],
   "source": [
    "flowers = ['virg', 'virg', 'virg', 'virg', 'set', 'set', 'margh', 'viola']"
   ]
  },
  {
   "cell_type": "code",
   "execution_count": 24,
   "metadata": {},
   "outputs": [
    {
     "data": {
      "text/plain": [
       "4"
      ]
     },
     "execution_count": 24,
     "metadata": {},
     "output_type": "execute_result"
    }
   ],
   "source": [
    "len(set(flowers))"
   ]
  },
  {
   "cell_type": "code",
   "execution_count": 14,
   "metadata": {},
   "outputs": [
    {
     "name": "stdout",
     "output_type": "stream",
     "text": [
      "('abcd', 786, 2.23, 'john', 70.2)\n",
      "abcd\n",
      "(786, 2.23)\n",
      "(2.23, 'john', 70.2)\n",
      "(123, 'john', 123, 'john')\n",
      "('abcd', 786, 2.23, 'john', 70.2, 123, 'john')\n"
     ]
    }
   ],
   "source": [
    "# Python Tuples\n",
    "# A tuple is another sequence data type that is similar to the list.\n",
    "# A tuple consists of a number of values separated by commas.\n",
    "# Unlike lists, however, tuples are enclosed within parentheses.\n",
    "# Tuples can be thought of as read-only lists.\n",
    "\n",
    "t0 = ('abcd', 786, 2.23, 'john', 70.2)\n",
    "t1 = (123, 'john')\n",
    "\n",
    "print t0        # Prints complete list\n",
    "print t0[0]     # Prints first element of the list\n",
    "print t0[1:3]   # Prints elements starting from 2nd to 4th\n",
    "print t0[2:]    # Prints elements starting from 3rd element\n",
    "print t1 * 2    # Prints list two times\n",
    "print t0 + t1   # Prints concatenated lists"
   ]
  },
  {
   "cell_type": "code",
   "execution_count": 15,
   "metadata": {},
   "outputs": [
    {
     "name": "stdout",
     "output_type": "stream",
     "text": [
      "john\n",
      "6734\n",
      "{'dept': 'sales', 2: 6734, 'name': 'john'}\n",
      "['dept', 2, 'name']\n",
      "['sales', 6734, 'john']\n"
     ]
    }
   ],
   "source": [
    "# Python Dictionary\n",
    "# Python 's dictionaries are hash table type.\n",
    "\n",
    "d0 = dict()\n",
    "d1 = {\n",
    "    'name': 'john', \n",
    "    2: 6734, \n",
    "    'dept': 'sales'}\n",
    "\n",
    "print d1['name']     # Prints value for 'one' key\n",
    "print d1[2]         # Prints value for 2 key\n",
    "print d1            # Prints complete dictionary\n",
    "print d1.keys()     # Prints all the keys\n",
    "print d1.values()   # Prints all the values"
   ]
  },
  {
   "cell_type": "code",
   "execution_count": 16,
   "metadata": {},
   "outputs": [
    {
     "name": "stdout",
     "output_type": "stream",
     "text": [
      "{}\n",
      "classes ['Mon', 'Fri']\n",
      "course Big Data Analytics\n",
      "code 1234\n",
      "prof ['Giannotti', 'Trasarti']\n"
     ]
    }
   ],
   "source": [
    "d1.clear()\n",
    "print d1\n",
    "\n",
    "d2 = {'course': 'Big Data Analytics', \n",
    "'code': 1234, \n",
    "'classes': ['Mon', 'Fri']}\n",
    "\n",
    "d2['prof'] = ['Giannotti', 'Trasarti']\n",
    "\n",
    "for k, v in d2.iteritems():\n",
    "    print k, v"
   ]
  },
  {
   "cell_type": "code",
   "execution_count": 17,
   "metadata": {},
   "outputs": [
    {
     "name": "stdout",
     "output_type": "stream",
     "text": [
      "30 10 200 2\n",
      "0 10240000000000 2\n",
      "False True\n",
      "False False True True\n",
      "30\n",
      "20\n",
      "False True False\n",
      "True False True\n"
     ]
    }
   ],
   "source": [
    "# operators\n",
    "\n",
    "a = 20\n",
    "b = 10\n",
    "\n",
    "print a+b, a-b, a*b, a/b\n",
    "print a % b, a**b, a//b\n",
    "print a == b, a != b\n",
    "print a < b, a <= b, a >= b, a > b\n",
    "\n",
    "a += b\n",
    "print a\n",
    "\n",
    "a -= b\n",
    "print a\n",
    "\n",
    "print True and False, True or False, not True or False\n",
    "\n",
    "print 786 in l2, 787 in l2, 787 not in l3"
   ]
  },
  {
   "cell_type": "code",
   "execution_count": 25,
   "metadata": {
    "collapsed": true
   },
   "outputs": [],
   "source": [
    "None"
   ]
  },
  {
   "cell_type": "code",
   "execution_count": null,
   "metadata": {},
   "outputs": [],
   "source": [
    "# if statement\n",
    "\n",
    "if a > 10:\n",
    "    print 'Big Data!!!'\n",
    "\n",
    "if a > 100:\n",
    "    print 'Big Data!!!'\n",
    "else:\n",
    "    print 'Small Data :-('\n",
    "\n",
    "if a > 100:\n",
    "    print 'Big Data!!!'\n",
    "elif a > 10:\n",
    "    print 'Some Data'\n",
    "else:\n",
    "    print 'Small Data :-('"
   ]
  },
  {
   "cell_type": "code",
   "execution_count": 18,
   "metadata": {},
   "outputs": [
    {
     "name": "stdout",
     "output_type": "stream",
     "text": [
      "0\n",
      "1\n",
      "2\n",
      "3\n",
      "4\n",
      "5\n",
      "6\n",
      "7\n",
      "8\n",
      "9\n"
     ]
    }
   ],
   "source": [
    "# while loop\n",
    "count = 0\n",
    "while count < 10:\n",
    "    print count\n",
    "    count += 1"
   ]
  },
  {
   "cell_type": "code",
   "execution_count": 19,
   "metadata": {
    "collapsed": true
   },
   "outputs": [],
   "source": [
    "while count > 0: count -= 1"
   ]
  },
  {
   "cell_type": "code",
   "execution_count": 26,
   "metadata": {},
   "outputs": [
    {
     "name": "stdout",
     "output_type": "stream",
     "text": [
      "virg\n",
      "virg\n",
      "virg\n",
      "virg\n",
      "set\n",
      "set\n",
      "margh\n",
      "viola\n"
     ]
    }
   ],
   "source": [
    "# for loop\n",
    "for elem in flowers:\n",
    "    print elem"
   ]
  },
  {
   "cell_type": "code",
   "execution_count": 27,
   "metadata": {},
   "outputs": [
    {
     "name": "stdout",
     "output_type": "stream",
     "text": [
      "0\n",
      "1\n",
      "2\n",
      "3\n",
      "4\n",
      "5\n",
      "6\n",
      "7\n",
      "8\n",
      "9\n"
     ]
    }
   ],
   "source": [
    "for i in range(0, 10):\n",
    "    print i"
   ]
  },
  {
   "cell_type": "code",
   "execution_count": 28,
   "metadata": {},
   "outputs": [
    {
     "name": "stdout",
     "output_type": "stream",
     "text": [
      "Current fruit : banana 0\n",
      "Current fruit : apple 1\n",
      "Current fruit : mango 2\n"
     ]
    }
   ],
   "source": [
    "fruits = ['banana', 'apple',  'mango']\n",
    "for index in range(len(fruits)):\n",
    "    print 'Current fruit :', fruits[index], index"
   ]
  },
  {
   "cell_type": "code",
   "execution_count": 30,
   "metadata": {},
   "outputs": [
    {
     "name": "stdout",
     "output_type": "stream",
     "text": [
      "0 banana\n",
      "1 apple\n",
      "2 mango\n"
     ]
    }
   ],
   "source": [
    "for i, fruit in enumerate(fruits):\n",
    "    print i, fruit"
   ]
  },
  {
   "cell_type": "code",
   "execution_count": 31,
   "metadata": {},
   "outputs": [
    {
     "name": "stdout",
     "output_type": "stream",
     "text": [
      "Current Letter : b\n",
      "Current Letter : i\n",
      "Current Letter : g\n",
      "Current Letter :  \n"
     ]
    }
   ],
   "source": [
    "# break and continue\n",
    "for letter in 'big data':\n",
    "    if letter == 'd':\n",
    "        break\n",
    "    print 'Current Letter :', letter"
   ]
  },
  {
   "cell_type": "code",
   "execution_count": 32,
   "metadata": {},
   "outputs": [
    {
     "name": "stdout",
     "output_type": "stream",
     "text": [
      "Current Letter : b\n",
      "Current Letter : i\n",
      "Current Letter : g\n",
      "Current Letter :  \n",
      "Current Letter : a\n",
      "Current Letter : t\n",
      "Current Letter : a\n"
     ]
    }
   ],
   "source": [
    "for letter in 'big data':\n",
    "    if letter == 'd':\n",
    "        continue\n",
    "    print 'Current Letter :', letter"
   ]
  },
  {
   "cell_type": "raw",
   "metadata": {},
   "source": [
    "# The else Statement Used with Loops\n",
    "# If the else statement is used with a for loop, the else statement is executed when the loop has exhausted\n",
    "# iterating the list.\n",
    "# If the else statement is used with a while loop, the else statement is executed when the condition becomes false."
   ]
  },
  {
   "cell_type": "code",
   "execution_count": 27,
   "metadata": {},
   "outputs": [
    {
     "data": {
      "text/plain": [
       "[0, 2, 4, 6, 8]"
      ]
     },
     "execution_count": 27,
     "metadata": {},
     "output_type": "execute_result"
    }
   ],
   "source": [
    "[i for i in range(0, 10) if i%2== 0]"
   ]
  },
  {
   "cell_type": "code",
   "execution_count": 29,
   "metadata": {
    "collapsed": true
   },
   "outputs": [],
   "source": [
    "a = (1, {'pippo': 1}, 2.4)"
   ]
  },
  {
   "cell_type": "code",
   "execution_count": 30,
   "metadata": {},
   "outputs": [
    {
     "data": {
      "text/plain": [
       "(1, {'pippo': 1}, 2.4)"
      ]
     },
     "execution_count": 30,
     "metadata": {},
     "output_type": "execute_result"
    }
   ],
   "source": [
    "a"
   ]
  },
  {
   "cell_type": "code",
   "execution_count": 31,
   "metadata": {},
   "outputs": [
    {
     "data": {
      "text/plain": [
       "2.4"
      ]
     },
     "execution_count": 31,
     "metadata": {},
     "output_type": "execute_result"
    }
   ],
   "source": [
    "a[2]"
   ]
  },
  {
   "cell_type": "code",
   "execution_count": 32,
   "metadata": {},
   "outputs": [
    {
     "ename": "TypeError",
     "evalue": "'tuple' object does not support item assignment",
     "output_type": "error",
     "traceback": [
      "\u001b[0;31m---------------------------------------------------------------------------\u001b[0m",
      "\u001b[0;31mTypeError\u001b[0m                                 Traceback (most recent call last)",
      "\u001b[0;32m<ipython-input-32-fd5022903094>\u001b[0m in \u001b[0;36m<module>\u001b[0;34m()\u001b[0m\n\u001b[0;32m----> 1\u001b[0;31m \u001b[0ma\u001b[0m\u001b[0;34m[\u001b[0m\u001b[0;36m2\u001b[0m\u001b[0;34m]\u001b[0m \u001b[0;34m=\u001b[0m \u001b[0;36m4\u001b[0m\u001b[0;34m\u001b[0m\u001b[0m\n\u001b[0m",
      "\u001b[0;31mTypeError\u001b[0m: 'tuple' object does not support item assignment"
     ]
    }
   ],
   "source": [
    "a[2] = 4"
   ]
  },
  {
   "cell_type": "code",
   "execution_count": 28,
   "metadata": {},
   "outputs": [
    {
     "name": "stdout",
     "output_type": "stream",
     "text": [
      "I'm first call to user defined function!aaaaaaa\n",
      "Again second call to the same functionPIPPO\n"
     ]
    }
   ],
   "source": [
    "# functions\n",
    "\n",
    "def print_aaaaaaaa(string, par='aaaaaaa'):\n",
    "    print string + par\n",
    "\n",
    "print_aaaaaaaa(\"I'm first call to user defined function!\")\n",
    "print_aaaaaaaa(\"Again second call to the same function\", 'PIPPO')"
   ]
  },
  {
   "cell_type": "code",
   "execution_count": 33,
   "metadata": {},
   "outputs": [
    {
     "name": "stdout",
     "output_type": "stream",
     "text": [
      "(1, {'pippo': 2}, 'cat')\n",
      "1 cat\n"
     ]
    }
   ],
   "source": [
    "def foo():\n",
    "    return 1, {'pippo': 2}, 'cat'\n",
    "\n",
    "res = foo()\n",
    "print res\n",
    "\n",
    "a, _, c = foo()\n",
    "print a, c"
   ]
  },
  {
   "cell_type": "code",
   "execution_count": 33,
   "metadata": {},
   "outputs": [
    {
     "name": "stdout",
     "output_type": "stream",
     "text": [
      "Values inside the function:  [10, 20, 40, [1, 2, 3, 4]]\n",
      "Values outside the function:  [10, 20, 40, [1, 2, 3, 4]]\n"
     ]
    }
   ],
   "source": [
    "# pass by reference vs value\n",
    "# All parameters (arguments) in the Python language are passed by reference.\n",
    "# It means if you change what a parameter refers to within a function, the change also \n",
    "# reflects back in the calling function.\n",
    "\n",
    "def changeme(mylist):\n",
    "    mylist.append([1, 2, 3, 4])\n",
    "    mylist[2] = 40\n",
    "    print \"Values inside the function: \", mylist\n",
    "\n",
    "\n",
    "def changeme2(mylist):\n",
    "    mylist = [1, 2, 3, 4]\n",
    "    print \"Values inside the function: \", mylist\n",
    "\n",
    "mylist = [10, 20, 30]\n",
    "changeme(mylist)\n",
    "print \"Values outside the function: \", mylist"
   ]
  },
  {
   "cell_type": "code",
   "execution_count": 34,
   "metadata": {},
   "outputs": [
    {
     "name": "stdout",
     "output_type": "stream",
     "text": [
      "Values inside the function:  [1, 2, 3, 4]\n",
      "Values outside the function:  [10, 20, 30]\n"
     ]
    }
   ],
   "source": [
    "mylist = [10, 20, 30]\n",
    "changeme2(mylist)\n",
    "print \"Values outside the function: \", mylist"
   ]
  },
  {
   "cell_type": "code",
   "execution_count": 37,
   "metadata": {},
   "outputs": [
    {
     "name": "stdout",
     "output_type": "stream",
     "text": [
      "8\n"
     ]
    }
   ],
   "source": [
    "# lambda\n",
    "\n",
    "# function definition\n",
    "mul = lambda par1, par2, par3: par1 * par2 * par3\n",
    "\n",
    "print mul(2, 2, 2)"
   ]
  },
  {
   "cell_type": "raw",
   "metadata": {},
   "source": [
    "# Global vs. Local variables\n",
    "# Variables that are defined inside a function body have a local scope, and those defined outside have a global scope.\n",
    "# This means that local variables can be accessed only inside the function in which they are declared,\n",
    "# whereas global variables can be accessed throughout the program body by all functions. When you call a function,\n",
    "# the variables declared inside it are brought into scope."
   ]
  },
  {
   "cell_type": "code",
   "execution_count": 38,
   "metadata": {},
   "outputs": [
    {
     "name": "stdout",
     "output_type": "stream",
     "text": [
      "10 20 30\n"
     ]
    }
   ],
   "source": [
    "x = 10\n",
    "\n",
    "def foo(y):\n",
    "    z = 30\n",
    "    print x, y, z\n",
    "\n",
    "y = 20\n",
    "foo(y)"
   ]
  },
  {
   "cell_type": "code",
   "execution_count": 39,
   "metadata": {},
   "outputs": [
    {
     "ename": "NameError",
     "evalue": "name 'z' is not defined",
     "output_type": "error",
     "traceback": [
      "\u001b[0;31m---------------------------------------------------------------------------\u001b[0m",
      "\u001b[0;31mNameError\u001b[0m                                 Traceback (most recent call last)",
      "\u001b[0;32m<ipython-input-39-a8a78d0ff555>\u001b[0m in \u001b[0;36m<module>\u001b[0;34m()\u001b[0m\n\u001b[0;32m----> 1\u001b[0;31m \u001b[0mz\u001b[0m\u001b[0;34m\u001b[0m\u001b[0m\n\u001b[0m",
      "\u001b[0;31mNameError\u001b[0m: name 'z' is not defined"
     ]
    }
   ],
   "source": [
    "z"
   ]
  },
  {
   "cell_type": "code",
   "execution_count": 41,
   "metadata": {},
   "outputs": [
    {
     "name": "stdout",
     "output_type": "stream",
     "text": [
      "sepal leng\n",
      "5.1,3.5,1.\n",
      "4.9,3.0,1.\n",
      "4.7,3.2,1.\n",
      "4.6,3.1,1.\n",
      "5.0,3.6,1.\n",
      "5.4,3.9,1.\n",
      "4.6,3.4,1.\n",
      "5.0,3.4,1.\n",
      "4.4,2.9,1.\n"
     ]
    }
   ],
   "source": [
    "# open and close files\n",
    "\n",
    "data = open('iris.csv', 'r')\n",
    "out = open('out.txt', 'w')\n",
    "\n",
    "count = 0\n",
    "for row in data:\n",
    "    print row[0:10]\n",
    "    out.write(row[0:10]+'\\n')\n",
    "    count += 1\n",
    "    if count >= 10:\n",
    "        break\n",
    "\n",
    "data.close()\n",
    "out.close()"
   ]
  },
  {
   "cell_type": "code",
   "execution_count": 42,
   "metadata": {
    "collapsed": true
   },
   "outputs": [],
   "source": [
    "# import and file system management\n",
    "import os\n",
    "\n",
    "os.rename('out.txt', 'out2.txt')"
   ]
  },
  {
   "cell_type": "code",
   "execution_count": 43,
   "metadata": {
    "collapsed": true
   },
   "outputs": [],
   "source": [
    "os.remove('out2.txt')"
   ]
  },
  {
   "cell_type": "code",
   "execution_count": 45,
   "metadata": {},
   "outputs": [
    {
     "name": "stdout",
     "output_type": "stream",
     "text": [
      "Please enter a number: pippo\n",
      "Oops!  That was no valid number.  Try again...\n",
      "Please enter a number: p\n",
      "Oops!  That was no valid number.  Try again...\n",
      "Please enter a number: 1\n"
     ]
    }
   ],
   "source": [
    "# handling exception\n",
    "\n",
    "while True:\n",
    "    try:\n",
    "        x = int(raw_input(\"Please enter a number: \"))\n",
    "        break\n",
    "    except ValueError:\n",
    "        print \"Oops!  That was no valid number.  Try again...\""
   ]
  },
  {
   "cell_type": "code",
   "execution_count": 46,
   "metadata": {},
   "outputs": [
    {
     "name": "stdout",
     "output_type": "stream",
     "text": [
      "Exception caught\n"
     ]
    }
   ],
   "source": [
    "# raising an exceptions:\n",
    "\n",
    "try:\n",
    "    raise Exception\n",
    "except Exception:\n",
    "    print 'Exception caught'"
   ]
  },
  {
   "cell_type": "code",
   "execution_count": 16,
   "metadata": {},
   "outputs": [
    {
     "name": "stdout",
     "output_type": "stream",
     "text": [
      "[1 2 3] [1, 2, 3]\n",
      "1 (3,)\n"
     ]
    }
   ],
   "source": [
    "# Numpy\n",
    "import numpy as np\n",
    "\n",
    "# vector\n",
    "x = np.array([1, 2, 3])\n",
    "y = [1,2,3]\n",
    "print(x, y)\n",
    "print(x.ndim, x.shape)"
   ]
  },
  {
   "cell_type": "code",
   "execution_count": 19,
   "metadata": {},
   "outputs": [
    {
     "data": {
      "text/plain": [
       "array([2, 3])"
      ]
     },
     "execution_count": 19,
     "metadata": {},
     "output_type": "execute_result"
    }
   ],
   "source": [
    "x[x > 1]"
   ]
  },
  {
   "cell_type": "code",
   "execution_count": 48,
   "metadata": {},
   "outputs": [
    {
     "name": "stdout",
     "output_type": "stream",
     "text": [
      "[1 2]\n"
     ]
    }
   ],
   "source": [
    "# selection as for lists\n",
    "print x[:2]"
   ]
  },
  {
   "cell_type": "code",
   "execution_count": 11,
   "metadata": {},
   "outputs": [
    {
     "data": {
      "text/plain": [
       "array([1, 4, 9])"
      ]
     },
     "execution_count": 11,
     "metadata": {},
     "output_type": "execute_result"
    }
   ],
   "source": [
    "x * x"
   ]
  },
  {
   "cell_type": "code",
   "execution_count": 6,
   "metadata": {},
   "outputs": [
    {
     "name": "stdout",
     "output_type": "stream",
     "text": [
      "[[11 12 13]\n",
      " [21 22 23]\n",
      " [31 32 33]]\n",
      "2 (3, 3)\n",
      "12\n"
     ]
    }
   ],
   "source": [
    "# matrix\n",
    "X = np.array([[11,12,13],\n",
    "                [21,22,23],\n",
    "                [31,32,33]])\n",
    "print(X)\n",
    "print(X.ndim, X.shape)\n",
    "print(X[0][1])"
   ]
  },
  {
   "cell_type": "code",
   "execution_count": 50,
   "metadata": {},
   "outputs": [
    {
     "name": "stdout",
     "output_type": "stream",
     "text": [
      "[[[111 112]\n",
      "  [121 122]]\n",
      "\n",
      " [[211 212]\n",
      "  [221 222]]]\n",
      "3 (2, 2, 2)\n"
     ]
    }
   ],
   "source": [
    "# 3d matrix\n",
    "X3 = np.array([[[111, 112], [121,122]], [[211, 212], [221, 222]]])\n",
    "print X3\n",
    "print X3.ndim, X3.shape"
   ]
  },
  {
   "cell_type": "code",
   "execution_count": 15,
   "metadata": {},
   "outputs": [
    {
     "name": "stdout",
     "output_type": "stream",
     "text": [
      "[[11 22 33 18  7  6  1  3  5]]\n"
     ]
    }
   ],
   "source": [
    "# concat\n",
    "x = np.array([[11, 22, 33]])\n",
    "y = np.array([[18, 7, 6]])\n",
    "z = np.array([[1, 3, 5]])\n",
    "print(np.concatenate((x,y,z), axis=1))"
   ]
  },
  {
   "cell_type": "code",
   "execution_count": 54,
   "metadata": {},
   "outputs": [
    {
     "name": "stdout",
     "output_type": "stream",
     "text": [
      "[[ 1.  1.  1.]\n",
      " [ 1.  1.  1.]]\n",
      "[[ 0.  0.  0.]\n",
      " [ 0.  0.  0.]]\n"
     ]
    }
   ],
   "source": [
    "# init with zeroes and one\n",
    "print np.ones((2,3))\n",
    "print np.zeros((2,3))"
   ]
  },
  {
   "cell_type": "code",
   "execution_count": 55,
   "metadata": {},
   "outputs": [
    {
     "name": "stdout",
     "output_type": "stream",
     "text": [
      "[[False False]\n",
      " [ True  True]\n",
      " [ True  True]]\n",
      "[3 4 5 6]\n",
      "[3 4 5 6]\n"
     ]
    }
   ],
   "source": [
    "# indexing\n",
    "a = np.array([[1,2], [3, 4], [5, 6]])\n",
    "bool_idx = (a > 2)\n",
    "print bool_idx\n",
    "print a[bool_idx]\n",
    "print a[a > 2]"
   ]
  },
  {
   "cell_type": "code",
   "execution_count": 56,
   "metadata": {
    "collapsed": true
   },
   "outputs": [],
   "source": [
    "# operators\n",
    "x = np.array([[1,2],[3,4]], dtype=np.float64)\n",
    "y = np.array([[5,6],[7,8]], dtype=np.float64)"
   ]
  },
  {
   "cell_type": "code",
   "execution_count": 58,
   "metadata": {},
   "outputs": [
    {
     "data": {
      "text/plain": [
       "(array([[ 1.,  2.],\n",
       "        [ 3.,  4.]]), array([[ 5.,  6.],\n",
       "        [ 7.,  8.]]))"
      ]
     },
     "execution_count": 58,
     "metadata": {},
     "output_type": "execute_result"
    }
   ],
   "source": [
    "x, y"
   ]
  },
  {
   "cell_type": "code",
   "execution_count": 57,
   "metadata": {},
   "outputs": [
    {
     "name": "stdout",
     "output_type": "stream",
     "text": [
      "[[  6.   8.]\n",
      " [ 10.  12.]]\n",
      "[[  6.   8.]\n",
      " [ 10.  12.]]\n"
     ]
    }
   ],
   "source": [
    "print x + y\n",
    "print np.add(x, y)"
   ]
  },
  {
   "cell_type": "code",
   "execution_count": 59,
   "metadata": {},
   "outputs": [
    {
     "name": "stdout",
     "output_type": "stream",
     "text": [
      "[[-4. -4.]\n",
      " [-4. -4.]]\n",
      "[[-4. -4.]\n",
      " [-4. -4.]]\n"
     ]
    }
   ],
   "source": [
    "print x - y\n",
    "print np.subtract(x, y)"
   ]
  },
  {
   "cell_type": "code",
   "execution_count": 60,
   "metadata": {
    "collapsed": true
   },
   "outputs": [],
   "source": [
    "# matlab style\n",
    "\n",
    "x = np.array([[1,2],[3,4]])\n",
    "y = np.array([[5,6],[7,8]])\n",
    "\n",
    "v = np.array([9,10])\n",
    "w = np.array([11, 12])"
   ]
  },
  {
   "cell_type": "code",
   "execution_count": 61,
   "metadata": {},
   "outputs": [
    {
     "name": "stdout",
     "output_type": "stream",
     "text": [
      "[[1 3]\n",
      " [2 4]]\n"
     ]
    }
   ],
   "source": [
    "# transpose\n",
    "print x.T"
   ]
  },
  {
   "cell_type": "code",
   "execution_count": 62,
   "metadata": {},
   "outputs": [
    {
     "name": "stdout",
     "output_type": "stream",
     "text": [
      "219\n",
      "219\n"
     ]
    }
   ],
   "source": [
    "# inner product of vectors\n",
    "print v.dot(w)\n",
    "print np.dot(v, w)"
   ]
  },
  {
   "cell_type": "code",
   "execution_count": 63,
   "metadata": {},
   "outputs": [
    {
     "name": "stdout",
     "output_type": "stream",
     "text": [
      "10\n",
      "[4 6]\n",
      "[3 7]\n"
     ]
    }
   ],
   "source": [
    "# sum of all elements\n",
    "print np.sum(x)\n",
    "# sum of each column\n",
    "print np.sum(x, axis=0)\n",
    "#sum of each row\n",
    "print np.sum(x, axis=1)"
   ]
  },
  {
   "cell_type": "code",
   "execution_count": 24,
   "metadata": {},
   "outputs": [],
   "source": [
    "# Matplotlib\n",
    "import matplotlib.pyplot as plt"
   ]
  },
  {
   "cell_type": "code",
   "execution_count": 25,
   "metadata": {},
   "outputs": [],
   "source": [
    "%matplotlib inline"
   ]
  },
  {
   "cell_type": "code",
   "execution_count": 26,
   "metadata": {},
   "outputs": [],
   "source": [
    "# Compute the x and y coordinates for points on a sine curve\n",
    "x = np.arange(0, 3 * np.pi, 0.1)\n",
    "y = np.sin(x)+1"
   ]
  },
  {
   "cell_type": "code",
   "execution_count": 27,
   "metadata": {},
   "outputs": [
    {
     "data": {
      "image/png": "[encoded data removed]",
      "text/plain": [
       "<Figure size 432x288 with 1 Axes>"
      ]
     },
     "metadata": {},
     "output_type": "display_data"
    }
   ],
   "source": [
    "# Plot the points using matplotlib\n",
    "plt.plot(x, y)\n",
    "plt.show()  # You must call plt.show() to make graphics appear.\n",
    "plt.savefig('figura.png', format='png', bbox_inches='tight')"
   ]
  },
  {
   "cell_type": "code",
   "execution_count": 28,
   "metadata": {},
   "outputs": [],
   "source": [
    "# Compute the x and y coordinates for points on sine and cosine curves\n",
    "x = np.arange(0, 3 * np.pi, 0.1)\n",
    "y_sin = np.sin(x)\n",
    "y_cos = np.cos(x)"
   ]
  },
  {
   "cell_type": "code",
   "execution_count": 33,
   "metadata": {},
   "outputs": [
    {
     "data": {
      "text/plain": [
       "<matplotlib.legend.Legend at 0x11228f6a0>"
      ]
     },
     "execution_count": 33,
     "metadata": {},
     "output_type": "execute_result"
    },
    {
     "data": {
      "image/png": "[encoded data removed]",
      "text/plain": [
       "<Figure size 432x288 with 1 Axes>"
      ]
     },
     "metadata": {},
     "output_type": "display_data"
    }
   ],
   "source": [
    "# Plot the points using matplotlib\n",
    "idplot = 1\n",
    "plt.plot(x, y_sin, c='r', label='Sine')\n",
    "plt.plot(x, y_cos, label='Cosine')\n",
    "plt.xlabel('x axis label')\n",
    "plt.ylabel('y axis label')\n",
    "plt.title('Sine and Cosine %d' % idplot)\n",
    "plt.legend()"
   ]
  },
  {
   "cell_type": "code",
   "execution_count": 72,
   "metadata": {
    "collapsed": true
   },
   "outputs": [],
   "source": [
    "# Compute the x and y coordinates for points on sine and cosine curves\n",
    "x = np.arange(0, 3 * np.pi, 0.1)\n",
    "y_sin = np.sin(x)\n",
    "y_cos = np.cos(x)"
   ]
  },
  {
   "cell_type": "code",
   "execution_count": 73,
   "metadata": {},
   "outputs": [
    {
     "data": {
      "text/plain": [
       "<matplotlib.text.Text at 0x105e07910>"
      ]
     },
     "execution_count": 73,
     "metadata": {},
     "output_type": "execute_result"
    },
    {
     "data": {
      "image/png": "[encoded data removed]",
      "text/plain": [
       "<matplotlib.figure.Figure at 0x105981590>"
      ]
     },
     "metadata": {},
     "output_type": "display_data"
    }
   ],
   "source": [
    "# Set up a subplot grid that has height 2 and width 1,\n",
    "# and set the first such subplot as active.\n",
    "plt.subplot(2, 1, 1)\n",
    "\n",
    "# Make the first plot\n",
    "plt.plot(x, y_sin)\n",
    "plt.title('Sine')\n",
    "\n",
    "# Set the second subplot as active, and make the second plot.\n",
    "plt.subplot(2, 1, 2)\n",
    "plt.plot(x, y_cos)\n",
    "plt.title('Cosine')"
   ]
  },
  {
   "cell_type": "code",
   "execution_count": null,
   "metadata": {
    "collapsed": true
   },
   "outputs": [],
   "source": []
  }
 ],
 "metadata": {
  "kernelspec": {
   "display_name": "Python 3",
   "language": "python",
   "name": "python3"
  },
  "language_info": {
   "codemirror_mode": {
    "name": "ipython",
    "version": 3
   },
   "file_extension": ".py",
   "mimetype": "text/x-python",
   "name": "python",
   "nbconvert_exporter": "python",
   "pygments_lexer": "ipython3",
   "version": "3.6.5"
  }
 },
 "nbformat": 4,
 "nbformat_minor": 1
}
