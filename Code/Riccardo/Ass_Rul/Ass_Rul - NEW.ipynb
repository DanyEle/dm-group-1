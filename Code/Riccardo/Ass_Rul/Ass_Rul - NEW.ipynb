{
 "cells": [
  {
   "cell_type": "code",
   "execution_count": 1,
   "metadata": {},
   "outputs": [],
   "source": [
    "import numpy as np\n",
    "import pandas as pd\n",
    "\n",
    "import pickle\n",
    "\n",
    "%matplotlib inline\n",
    "\n",
    "from collections import Counter\n",
    "from fim import apriori\n",
    "from statistics import median\n",
    "import math\n",
    "import time"
   ]
  },
  {
   "cell_type": "code",
   "execution_count": 1,
   "metadata": {},
   "outputs": [],
   "source": [
    "#Returns the dictionary {z: {target: {support: { itemsets : , n_sets : } } } }\n",
    "#Itemsets are ordered by support\n",
    "def freq_patt_dict(val_list, z_max, s_min, s_max):\n",
    "    dict_z = dict()\n",
    "    for z_ in range(1,z_max+1):\n",
    "        print('-> z = (%s)' %z_, end='')\n",
    "        dict_t = dict()\n",
    "        for t in ['a', 'c', 'm']:\n",
    "            print(' - %s begin--' %t, end='')\n",
    "            dict_s = dict()\n",
    "            for s in range(s_min,s_max+1):\n",
    "                dict_res = dict()\n",
    "                itemsets = apriori(val_list, supp=s, zmin=z_, target=t, report='as')\n",
    "                if itemsets:\n",
    "                    itemsets_ord = sorted(itemsets, key=lambda x: x[2], reverse = False)\n",
    "                    dict_res.update([('itemsets', itemsets_ord)])\n",
    "                    dict_res.update([('n_sets', len(itemsets))])\n",
    "                    dict_s.update([(s, dict_res)])\n",
    "            dict_t.update([(t, dict_s)])\n",
    "            print('end', end='')\n",
    "        dict_z.update([(z_, dict_t)])\n",
    "        print('\\t\\tOK')\n",
    "    return dict_z"
   ]
  },
  {
   "cell_type": "markdown",
   "metadata": {},
   "source": [
    "# Edit dataframe"
   ]
  },
  {
   "cell_type": "code",
   "execution_count": 3,
   "metadata": {},
   "outputs": [],
   "source": [
    "df = pd.read_csv(\".\\\\credit_default_binned.csv\")\n",
    "val_list = df.values.tolist()"
   ]
  },
  {
   "cell_type": "markdown",
   "metadata": {},
   "source": [
    "# Patterns"
   ]
  },
  {
   "cell_type": "code",
   "execution_count": 4,
   "metadata": {},
   "outputs": [
    {
     "name": "stdout",
     "output_type": "stream",
     "text": [
      "-> z = (1) - a begin--end - c begin--end - m begin--end\t\tOK\n",
      "-> z = (2) - a begin--end - c begin--end - m begin--end\t\tOK\n",
      "-> z = (3) - a begin--end - c begin--end - m begin--end\t\tOK\n",
      "-> z = (4) - a begin--end - c begin--end - m begin--end\t\tOK\n",
      "-> z = (5) - a begin--end - c begin--end - m begin--end\t\tOK\n",
      "-> z = (6) - a begin--end - c begin--end - m begin--end\t\tOK\n",
      "-> z = (7) - a begin--end - c begin--end - m begin--end\t\tOK\n",
      "-> z = (8) - a begin--end - c begin--end - m begin--end\t\tOK\n",
      "-> z = (9) - a begin--end - c begin--end - m begin--end\t\tOK\n",
      "-> z = (10) - a begin--end - c begin--end - m begin--end\t\tOK\n",
      "-> z = (11) - a begin--end - c begin--end - m begin--end\t\tOK\n",
      "-> z = (12) - a begin--end - c begin--end - m begin--end\t\tOK\n",
      "-> z = (13) - a begin--end - c begin--end - m begin--end\t\tOK\n",
      "-> z = (14) - a begin--end - c begin--end - m begin--end\t\tOK\n",
      "-> z = (15) - a begin--end - c begin--end - m begin--end\t\tOK\n",
      "Execution Time = 11.698387161890667\n"
     ]
    }
   ],
   "source": [
    "start = time.time()\n",
    "fpd_9_15 = freq_patt_dict(val_list, z_max=15, s_min=9, s_max=100)\n",
    "end = time.time()\n",
    "print('Execution Time = %s' %((end - start)/60))"
   ]
  },
  {
   "cell_type": "code",
   "execution_count": 5,
   "metadata": {},
   "outputs": [],
   "source": [
    "f = open(\"freq_patt_dict_9_15.pkl\",\"wb\")\n",
    "pickle.dump(fpd_9_15,f)\n",
    "f.close()"
   ]
  },
  {
   "cell_type": "markdown",
   "metadata": {},
   "source": [
    "# Rules"
   ]
  },
  {
   "cell_type": "code",
   "execution_count": 2,
   "metadata": {},
   "outputs": [],
   "source": [
    "#Returns the dictionary {z: {support: {confidence: { rules : , n_rules : , cnt_rul : } } } }\n",
    "#Rules are ordered by confidence\n",
    "def freq_rule_dict(val_list, z_max, s_min, s_max, c_min, c_max):\n",
    "    dict_z = dict()\n",
    "    for z_ in range(2,z_max+1):\n",
    "        print('-> z = (%s)' %z_, end='')\n",
    "        dict_s = dict()\n",
    "        for s in range(s_min, s_max+1):\n",
    "            dict_c = dict()\n",
    "            for c in range(c_min,c_max+1):\n",
    "                dict_res = dict()\n",
    "                rules = apriori(val_list, supp=s, zmin=z_, target='r', conf=c, report='ascl')\n",
    "                if rules:\n",
    "                    rules_ord = sorted(rules, key=lambda x: x[4], reverse = False) #sort by confidence\n",
    "                    cnt_rul = Counter([r[0] for r in rules_ord])\n",
    "                    dict_res.update([('rules', rules_ord)])\n",
    "                    dict_res.update([('n_rules', len(rules_ord))])\n",
    "                    dict_res.update([('cnt_rul', cnt_rul)])\n",
    "                    dict_c.update([(c, dict_res)])\n",
    "            if dict_c:\n",
    "                dict_s.update([(s, dict_c)])\n",
    "        if dict_s:\n",
    "            dict_z.update([(z_, dict_s)])\n",
    "        print('\\t\\tOK')\n",
    "    return dict_z"
   ]
  },
  {
   "cell_type": "code",
   "execution_count": null,
   "metadata": {},
   "outputs": [
    {
     "name": "stdout",
     "output_type": "stream",
     "text": [
      "-> z = (2)"
     ]
    }
   ],
   "source": [
    "start = time.time()\n",
    "frd_5_15 = freq_rule_dict(val_list, z_max = 15, s_min = 5, s_max = 15, c_min = 40, c_max = 100)\n",
    "end = time.time()\n",
    "print('Execution Time = %s' %((end - start)/60))"
   ]
  },
  {
   "cell_type": "code",
   "execution_count": null,
   "metadata": {},
   "outputs": [],
   "source": [
    "f = open(\"freq_rules_dict_5_15.pkl\",\"wb\")\n",
    "pickle.dump(frd_5_15,f)\n",
    "f.close()"
   ]
  }
 ],
 "metadata": {
  "kernelspec": {
   "display_name": "Python 3",
   "language": "python",
   "name": "python3"
  },
  "language_info": {
   "codemirror_mode": {
    "name": "ipython",
    "version": 3
   },
   "file_extension": ".py",
   "mimetype": "text/x-python",
   "name": "python",
   "nbconvert_exporter": "python",
   "pygments_lexer": "ipython3",
   "version": "3.7.0"
  }
 },
 "nbformat": 4,
 "nbformat_minor": 2
}
