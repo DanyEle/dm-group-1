{
 "cells": [
  {
   "cell_type": "code",
   "execution_count": 1,
   "metadata": {},
   "outputs": [],
   "source": [
    "%matplotlib inline\n",
    "import math\n",
    "import numpy as np\n",
    "import pandas as pd\n",
    "import scipy.stats as stats\n",
    "import matplotlib.pyplot as plt\n",
    "\n",
    "from scipy.stats import mode\n",
    "from scipy.spatial.distance import pdist\n",
    "from scipy.cluster.hierarchy import linkage, dendrogram"
   ]
  },
  {
   "cell_type": "code",
   "execution_count": 48,
   "metadata": {},
   "outputs": [],
   "source": [
    "cc = pd.read_csv('C:\\\\Users\\\\Richard\\\\Desktop\\\\DM_proj\\\\credit_default_FINAL.csv')"
   ]
  },
  {
   "cell_type": "code",
   "execution_count": 49,
   "metadata": {},
   "outputs": [
    {
     "data": {
      "text/html": [
       "<div>\n",
       "<style scoped>\n",
       "    .dataframe tbody tr th:only-of-type {\n",
       "        vertical-align: middle;\n",
       "    }\n",
       "\n",
       "    .dataframe tbody tr th {\n",
       "        vertical-align: top;\n",
       "    }\n",
       "\n",
       "    .dataframe thead th {\n",
       "        text-align: right;\n",
       "    }\n",
       "</style>\n",
       "<table border=\"1\" class=\"dataframe\">\n",
       "  <thead>\n",
       "    <tr style=\"text-align: right;\">\n",
       "      <th></th>\n",
       "      <th>limit</th>\n",
       "      <th>sex</th>\n",
       "      <th>education</th>\n",
       "      <th>status</th>\n",
       "      <th>age</th>\n",
       "      <th>ps-sep</th>\n",
       "      <th>ps-aug</th>\n",
       "      <th>ps-jul</th>\n",
       "      <th>ps-jun</th>\n",
       "      <th>ps-may</th>\n",
       "      <th>...</th>\n",
       "      <th>ba-jun</th>\n",
       "      <th>ba-may</th>\n",
       "      <th>ba-apr</th>\n",
       "      <th>pa-sep</th>\n",
       "      <th>pa-aug</th>\n",
       "      <th>pa-jul</th>\n",
       "      <th>pa-jun</th>\n",
       "      <th>pa-may</th>\n",
       "      <th>pa-apr</th>\n",
       "      <th>credit_default</th>\n",
       "    </tr>\n",
       "  </thead>\n",
       "  <tbody>\n",
       "    <tr>\n",
       "      <th>0</th>\n",
       "      <td>50000</td>\n",
       "      <td>male</td>\n",
       "      <td>graduate school</td>\n",
       "      <td>single</td>\n",
       "      <td>25.0</td>\n",
       "      <td>2</td>\n",
       "      <td>0</td>\n",
       "      <td>0</td>\n",
       "      <td>0</td>\n",
       "      <td>0</td>\n",
       "      <td>...</td>\n",
       "      <td>49535</td>\n",
       "      <td>30358</td>\n",
       "      <td>30302</td>\n",
       "      <td>2130</td>\n",
       "      <td>1905</td>\n",
       "      <td>1811</td>\n",
       "      <td>1100</td>\n",
       "      <td>1100</td>\n",
       "      <td>1200</td>\n",
       "      <td>no</td>\n",
       "    </tr>\n",
       "    <tr>\n",
       "      <th>1</th>\n",
       "      <td>200000</td>\n",
       "      <td>male</td>\n",
       "      <td>university</td>\n",
       "      <td>married</td>\n",
       "      <td>54.0</td>\n",
       "      <td>-1</td>\n",
       "      <td>-1</td>\n",
       "      <td>-1</td>\n",
       "      <td>-1</td>\n",
       "      <td>-1</td>\n",
       "      <td>...</td>\n",
       "      <td>6335</td>\n",
       "      <td>4616</td>\n",
       "      <td>7956</td>\n",
       "      <td>10120</td>\n",
       "      <td>7852</td>\n",
       "      <td>6336</td>\n",
       "      <td>4622</td>\n",
       "      <td>7956</td>\n",
       "      <td>5499</td>\n",
       "      <td>no</td>\n",
       "    </tr>\n",
       "    <tr>\n",
       "      <th>2</th>\n",
       "      <td>30000</td>\n",
       "      <td>female</td>\n",
       "      <td>high school</td>\n",
       "      <td>married</td>\n",
       "      <td>41.0</td>\n",
       "      <td>2</td>\n",
       "      <td>3</td>\n",
       "      <td>2</td>\n",
       "      <td>2</td>\n",
       "      <td>2</td>\n",
       "      <td>...</td>\n",
       "      <td>30496</td>\n",
       "      <td>29731</td>\n",
       "      <td>29047</td>\n",
       "      <td>0</td>\n",
       "      <td>1700</td>\n",
       "      <td>1100</td>\n",
       "      <td>3</td>\n",
       "      <td>1053</td>\n",
       "      <td>1303</td>\n",
       "      <td>no</td>\n",
       "    </tr>\n",
       "    <tr>\n",
       "      <th>3</th>\n",
       "      <td>140000</td>\n",
       "      <td>female</td>\n",
       "      <td>university</td>\n",
       "      <td>single</td>\n",
       "      <td>28.0</td>\n",
       "      <td>0</td>\n",
       "      <td>0</td>\n",
       "      <td>0</td>\n",
       "      <td>0</td>\n",
       "      <td>0</td>\n",
       "      <td>...</td>\n",
       "      <td>25224</td>\n",
       "      <td>26855</td>\n",
       "      <td>23783</td>\n",
       "      <td>2000</td>\n",
       "      <td>2000</td>\n",
       "      <td>900</td>\n",
       "      <td>2000</td>\n",
       "      <td>10000</td>\n",
       "      <td>5000</td>\n",
       "      <td>no</td>\n",
       "    </tr>\n",
       "    <tr>\n",
       "      <th>4</th>\n",
       "      <td>60000</td>\n",
       "      <td>female</td>\n",
       "      <td>high school</td>\n",
       "      <td>married</td>\n",
       "      <td>36.0</td>\n",
       "      <td>1</td>\n",
       "      <td>2</td>\n",
       "      <td>2</td>\n",
       "      <td>0</td>\n",
       "      <td>0</td>\n",
       "      <td>...</td>\n",
       "      <td>48738</td>\n",
       "      <td>49601</td>\n",
       "      <td>52773</td>\n",
       "      <td>1788</td>\n",
       "      <td>0</td>\n",
       "      <td>1894</td>\n",
       "      <td>1801</td>\n",
       "      <td>3997</td>\n",
       "      <td>0</td>\n",
       "      <td>yes</td>\n",
       "    </tr>\n",
       "  </tbody>\n",
       "</table>\n",
       "<p>5 rows × 24 columns</p>\n",
       "</div>"
      ],
      "text/plain": [
       "    limit     sex        education   status   age  ps-sep  ps-aug  ps-jul  \\\n",
       "0   50000    male  graduate school   single  25.0       2       0       0   \n",
       "1  200000    male       university  married  54.0      -1      -1      -1   \n",
       "2   30000  female      high school  married  41.0       2       3       2   \n",
       "3  140000  female       university   single  28.0       0       0       0   \n",
       "4   60000  female      high school  married  36.0       1       2       2   \n",
       "\n",
       "   ps-jun  ps-may       ...        ba-jun  ba-may  ba-apr  pa-sep  pa-aug  \\\n",
       "0       0       0       ...         49535   30358   30302    2130    1905   \n",
       "1      -1      -1       ...          6335    4616    7956   10120    7852   \n",
       "2       2       2       ...         30496   29731   29047       0    1700   \n",
       "3       0       0       ...         25224   26855   23783    2000    2000   \n",
       "4       0       0       ...         48738   49601   52773    1788       0   \n",
       "\n",
       "   pa-jul  pa-jun  pa-may  pa-apr  credit_default  \n",
       "0    1811    1100    1100    1200              no  \n",
       "1    6336    4622    7956    5499              no  \n",
       "2    1100       3    1053    1303              no  \n",
       "3     900    2000   10000    5000              no  \n",
       "4    1894    1801    3997       0             yes  \n",
       "\n",
       "[5 rows x 24 columns]"
      ]
     },
     "execution_count": 49,
     "metadata": {},
     "output_type": "execute_result"
    }
   ],
   "source": [
    "cc.head()"
   ]
  },
  {
   "cell_type": "code",
   "execution_count": 50,
   "metadata": {},
   "outputs": [
    {
     "name": "stdout",
     "output_type": "stream",
     "text": [
      "{'female': 0, 'male': 1}\n",
      "{'graduate school': 0, 'high school': 1, 'others': 2, 'university': 3}\n",
      "{'married': 0, 'others': 1, 'single': 2}\n",
      "{'no': 0, 'yes': 1}\n"
     ]
    }
   ],
   "source": [
    "sexes = sorted(cc['sex'].unique())\n",
    "educations = sorted(cc['education'].unique())\n",
    "statuses = sorted(cc['status'].unique()) \n",
    "cre_def = sorted(cc['credit_default'].unique()) \n",
    "\n",
    "sexes_mapping = dict(zip(sexes, range(0, len(sexes) + 1)))\n",
    "educations_mapping = dict(zip(educations, range(0, len(educations) + 1)))\n",
    "statuses_mapping = dict(zip(statuses, range(0, len(statuses) + 1)))\n",
    "cre_def_mapping = dict(zip(cre_def, range(0, len(cre_def) + 1)))\n",
    "\n",
    "print(sexes_mapping)\n",
    "print(educations_mapping)\n",
    "print(statuses_mapping)\n",
    "print(cre_def_mapping)"
   ]
  },
  {
   "cell_type": "code",
   "execution_count": 51,
   "metadata": {},
   "outputs": [],
   "source": [
    "cc['sex_Val'] = cc['sex'].map(sexes_mapping).astype(int)\n",
    "cc['edu_Val'] = cc['education'].map(educations_mapping).astype(int)\n",
    "cc['sta_Val'] = cc['status'].map(statuses_mapping).astype(int)\n",
    "cc['crd_Val'] = cc['credit_default'].map(cre_def_mapping).astype(int)"
   ]
  },
  {
   "cell_type": "code",
   "execution_count": 52,
   "metadata": {},
   "outputs": [
    {
     "data": {
      "text/html": [
       "<div>\n",
       "<style scoped>\n",
       "    .dataframe tbody tr th:only-of-type {\n",
       "        vertical-align: middle;\n",
       "    }\n",
       "\n",
       "    .dataframe tbody tr th {\n",
       "        vertical-align: top;\n",
       "    }\n",
       "\n",
       "    .dataframe thead th {\n",
       "        text-align: right;\n",
       "    }\n",
       "</style>\n",
       "<table border=\"1\" class=\"dataframe\">\n",
       "  <thead>\n",
       "    <tr style=\"text-align: right;\">\n",
       "      <th></th>\n",
       "      <th>limit</th>\n",
       "      <th>age</th>\n",
       "      <th>ps-sep</th>\n",
       "      <th>ps-aug</th>\n",
       "      <th>ps-jul</th>\n",
       "      <th>ps-jun</th>\n",
       "      <th>ps-may</th>\n",
       "      <th>ps-apr</th>\n",
       "      <th>ba-sep</th>\n",
       "      <th>ba-aug</th>\n",
       "      <th>...</th>\n",
       "      <th>pa-sep</th>\n",
       "      <th>pa-aug</th>\n",
       "      <th>pa-jul</th>\n",
       "      <th>pa-jun</th>\n",
       "      <th>pa-may</th>\n",
       "      <th>pa-apr</th>\n",
       "      <th>sex_Val</th>\n",
       "      <th>edu_Val</th>\n",
       "      <th>sta_Val</th>\n",
       "      <th>crd_Val</th>\n",
       "    </tr>\n",
       "  </thead>\n",
       "  <tbody>\n",
       "    <tr>\n",
       "      <th>0</th>\n",
       "      <td>50000</td>\n",
       "      <td>25.0</td>\n",
       "      <td>2</td>\n",
       "      <td>0</td>\n",
       "      <td>0</td>\n",
       "      <td>0</td>\n",
       "      <td>0</td>\n",
       "      <td>0</td>\n",
       "      <td>48966</td>\n",
       "      <td>49985</td>\n",
       "      <td>...</td>\n",
       "      <td>2130</td>\n",
       "      <td>1905</td>\n",
       "      <td>1811</td>\n",
       "      <td>1100</td>\n",
       "      <td>1100</td>\n",
       "      <td>1200</td>\n",
       "      <td>1</td>\n",
       "      <td>0</td>\n",
       "      <td>2</td>\n",
       "      <td>0</td>\n",
       "    </tr>\n",
       "    <tr>\n",
       "      <th>1</th>\n",
       "      <td>200000</td>\n",
       "      <td>54.0</td>\n",
       "      <td>-1</td>\n",
       "      <td>-1</td>\n",
       "      <td>-1</td>\n",
       "      <td>-1</td>\n",
       "      <td>-1</td>\n",
       "      <td>-1</td>\n",
       "      <td>10755</td>\n",
       "      <td>9981</td>\n",
       "      <td>...</td>\n",
       "      <td>10120</td>\n",
       "      <td>7852</td>\n",
       "      <td>6336</td>\n",
       "      <td>4622</td>\n",
       "      <td>7956</td>\n",
       "      <td>5499</td>\n",
       "      <td>1</td>\n",
       "      <td>3</td>\n",
       "      <td>0</td>\n",
       "      <td>0</td>\n",
       "    </tr>\n",
       "    <tr>\n",
       "      <th>2</th>\n",
       "      <td>30000</td>\n",
       "      <td>41.0</td>\n",
       "      <td>2</td>\n",
       "      <td>3</td>\n",
       "      <td>2</td>\n",
       "      <td>2</td>\n",
       "      <td>2</td>\n",
       "      <td>0</td>\n",
       "      <td>30057</td>\n",
       "      <td>29280</td>\n",
       "      <td>...</td>\n",
       "      <td>0</td>\n",
       "      <td>1700</td>\n",
       "      <td>1100</td>\n",
       "      <td>3</td>\n",
       "      <td>1053</td>\n",
       "      <td>1303</td>\n",
       "      <td>0</td>\n",
       "      <td>1</td>\n",
       "      <td>0</td>\n",
       "      <td>0</td>\n",
       "    </tr>\n",
       "    <tr>\n",
       "      <th>3</th>\n",
       "      <td>140000</td>\n",
       "      <td>28.0</td>\n",
       "      <td>0</td>\n",
       "      <td>0</td>\n",
       "      <td>0</td>\n",
       "      <td>0</td>\n",
       "      <td>0</td>\n",
       "      <td>0</td>\n",
       "      <td>56426</td>\n",
       "      <td>41717</td>\n",
       "      <td>...</td>\n",
       "      <td>2000</td>\n",
       "      <td>2000</td>\n",
       "      <td>900</td>\n",
       "      <td>2000</td>\n",
       "      <td>10000</td>\n",
       "      <td>5000</td>\n",
       "      <td>0</td>\n",
       "      <td>3</td>\n",
       "      <td>2</td>\n",
       "      <td>0</td>\n",
       "    </tr>\n",
       "    <tr>\n",
       "      <th>4</th>\n",
       "      <td>60000</td>\n",
       "      <td>36.0</td>\n",
       "      <td>1</td>\n",
       "      <td>2</td>\n",
       "      <td>2</td>\n",
       "      <td>0</td>\n",
       "      <td>0</td>\n",
       "      <td>0</td>\n",
       "      <td>47987</td>\n",
       "      <td>48716</td>\n",
       "      <td>...</td>\n",
       "      <td>1788</td>\n",
       "      <td>0</td>\n",
       "      <td>1894</td>\n",
       "      <td>1801</td>\n",
       "      <td>3997</td>\n",
       "      <td>0</td>\n",
       "      <td>0</td>\n",
       "      <td>1</td>\n",
       "      <td>0</td>\n",
       "      <td>1</td>\n",
       "    </tr>\n",
       "  </tbody>\n",
       "</table>\n",
       "<p>5 rows × 24 columns</p>\n",
       "</div>"
      ],
      "text/plain": [
       "    limit   age  ps-sep  ps-aug  ps-jul  ps-jun  ps-may  ps-apr  ba-sep  \\\n",
       "0   50000  25.0       2       0       0       0       0       0   48966   \n",
       "1  200000  54.0      -1      -1      -1      -1      -1      -1   10755   \n",
       "2   30000  41.0       2       3       2       2       2       0   30057   \n",
       "3  140000  28.0       0       0       0       0       0       0   56426   \n",
       "4   60000  36.0       1       2       2       0       0       0   47987   \n",
       "\n",
       "   ba-aug   ...     pa-sep  pa-aug  pa-jul  pa-jun  pa-may  pa-apr  sex_Val  \\\n",
       "0   49985   ...       2130    1905    1811    1100    1100    1200        1   \n",
       "1    9981   ...      10120    7852    6336    4622    7956    5499        1   \n",
       "2   29280   ...          0    1700    1100       3    1053    1303        0   \n",
       "3   41717   ...       2000    2000     900    2000   10000    5000        0   \n",
       "4   48716   ...       1788       0    1894    1801    3997       0        0   \n",
       "\n",
       "   edu_Val  sta_Val  crd_Val  \n",
       "0        0        2        0  \n",
       "1        3        0        0  \n",
       "2        1        0        0  \n",
       "3        3        2        0  \n",
       "4        1        0        1  \n",
       "\n",
       "[5 rows x 24 columns]"
      ]
     },
     "execution_count": 52,
     "metadata": {},
     "output_type": "execute_result"
    }
   ],
   "source": [
    "sex, edu, statu, credit_default = cc['sex'], cc['education'], cc['status'], cc['credit_default']\n",
    "del cc['sex']\n",
    "del cc['education']\n",
    "del cc['status']\n",
    "del cc['credit_default']\n",
    "cc.head()"
   ]
  },
  {
   "cell_type": "code",
   "execution_count": 53,
   "metadata": {},
   "outputs": [],
   "source": [
    "from sklearn.preprocessing import StandardScaler, MinMaxScaler"
   ]
  },
  {
   "cell_type": "code",
   "execution_count": 54,
   "metadata": {},
   "outputs": [
    {
     "data": {
      "text/plain": [
       "StandardScaler(copy=True, with_mean=True, with_std=True)"
      ]
     },
     "execution_count": 54,
     "metadata": {},
     "output_type": "execute_result"
    }
   ],
   "source": [
    "scaler = StandardScaler()\n",
    "scaler.fit(cc.head().values)"
   ]
  },
  {
   "cell_type": "code",
   "execution_count": 55,
   "metadata": {},
   "outputs": [
    {
     "data": {
      "text/plain": [
       "array([[ 5.0000e+04,  2.5000e+01,  2.0000e+00,  0.0000e+00,  0.0000e+00,\n",
       "         0.0000e+00,  0.0000e+00,  0.0000e+00,  4.8966e+04,  4.9985e+04,\n",
       "         5.0760e+04,  4.9535e+04,  3.0358e+04,  3.0302e+04,  2.1300e+03,\n",
       "         1.9050e+03,  1.8110e+03,  1.1000e+03,  1.1000e+03,  1.2000e+03,\n",
       "         1.0000e+00,  0.0000e+00,  2.0000e+00,  0.0000e+00],\n",
       "       [ 2.0000e+05,  5.4000e+01, -1.0000e+00, -1.0000e+00, -1.0000e+00,\n",
       "        -1.0000e+00, -1.0000e+00, -1.0000e+00,  1.0755e+04,  9.9810e+03,\n",
       "         7.8430e+03,  6.3350e+03,  4.6160e+03,  7.9560e+03,  1.0120e+04,\n",
       "         7.8520e+03,  6.3360e+03,  4.6220e+03,  7.9560e+03,  5.4990e+03,\n",
       "         1.0000e+00,  3.0000e+00,  0.0000e+00,  0.0000e+00],\n",
       "       [ 3.0000e+04,  4.1000e+01,  2.0000e+00,  3.0000e+00,  2.0000e+00,\n",
       "         2.0000e+00,  2.0000e+00,  0.0000e+00,  3.0057e+04,  2.9280e+04,\n",
       "         3.0206e+04,  3.0496e+04,  2.9731e+04,  2.9047e+04,  0.0000e+00,\n",
       "         1.7000e+03,  1.1000e+03,  3.0000e+00,  1.0530e+03,  1.3030e+03,\n",
       "         0.0000e+00,  1.0000e+00,  0.0000e+00,  0.0000e+00],\n",
       "       [ 1.4000e+05,  2.8000e+01,  0.0000e+00,  0.0000e+00,  0.0000e+00,\n",
       "         0.0000e+00,  0.0000e+00,  0.0000e+00,  5.6426e+04,  4.1717e+04,\n",
       "         4.2823e+04,  2.5224e+04,  2.6855e+04,  2.3783e+04,  2.0000e+03,\n",
       "         2.0000e+03,  9.0000e+02,  2.0000e+03,  1.0000e+04,  5.0000e+03,\n",
       "         0.0000e+00,  3.0000e+00,  2.0000e+00,  0.0000e+00],\n",
       "       [ 6.0000e+04,  3.6000e+01,  1.0000e+00,  2.0000e+00,  2.0000e+00,\n",
       "         0.0000e+00,  0.0000e+00,  0.0000e+00,  4.7987e+04,  4.8716e+04,\n",
       "         4.7632e+04,  4.8738e+04,  4.9601e+04,  5.2773e+04,  1.7880e+03,\n",
       "         0.0000e+00,  1.8940e+03,  1.8010e+03,  3.9970e+03,  0.0000e+00,\n",
       "         0.0000e+00,  1.0000e+00,  0.0000e+00,  1.0000e+00]])"
      ]
     },
     "execution_count": 55,
     "metadata": {},
     "output_type": "execute_result"
    }
   ],
   "source": [
    "cc.head().values"
   ]
  },
  {
   "cell_type": "code",
   "execution_count": 56,
   "metadata": {},
   "outputs": [
    {
     "data": {
      "text/plain": [
       "array([[-0.71804912, -1.1452533 ,  1.02899151, -0.54433105, -0.5       ,\n",
       "        -0.20412415, -0.20412415,  0.5       ,  0.61377694,  0.94203533,\n",
       "         0.95200026,  1.08571212,  0.14861646,  0.10624326, -0.30429327,\n",
       "        -0.2932583 , -0.29834118, -0.52710698, -1.02912734, -0.63178057,\n",
       "         1.22474487, -1.33333333,  1.22474487, -0.5       ],\n",
       "       [ 1.62341541,  1.66935227, -1.54348727, -1.22474487, -1.33333333,\n",
       "        -1.22474487, -1.22474487, -2.        , -1.70193137, -1.74033672,\n",
       "        -1.78875556, -1.59914046, -1.65102832, -1.4456667 ,  1.95192724,\n",
       "         1.92445167,  1.96219771,  1.77849509,  0.86695378,  1.30768291,\n",
       "         1.22474487,  1.16666667, -0.81649658, -0.5       ],\n",
       "       [-1.03024439,  0.40763253,  1.02899151,  1.4969104 ,  1.16666667,\n",
       "         1.83711731,  1.83711731,  0.5       , -0.53216869, -0.44628867,\n",
       "        -0.36061467, -0.09754964,  0.10478236,  0.01908462, -0.90576382,\n",
       "        -0.36970534, -0.65353303, -1.2452346 , -1.04212556, -0.58531284,\n",
       "        -0.81649658, -0.5       , -0.81649658, -0.5       ],\n",
       "       [ 0.6868296 , -0.85408721, -0.68599434, -0.54433105, -0.5       ,\n",
       "        -0.20412415, -0.20412415,  0.5       ,  1.0658767 ,  0.38764447,\n",
       "         0.44512935, -0.4252011 , -0.09628121, -0.34649553, -0.34100274,\n",
       "        -0.25783162, -0.75344635,  0.0620588 ,  1.43223817,  1.08256259,\n",
       "        -0.81649658,  1.16666667,  1.22474487, -0.5       ],\n",
       "       [-0.56195149, -0.07764429,  0.17149859,  0.81649658,  1.16666667,\n",
       "        -0.20412415, -0.20412415,  0.5       ,  0.55444642,  0.85694559,\n",
       "         0.75224063,  1.03617908,  1.49391071,  1.66683436, -0.40086741,\n",
       "        -1.0036564 , -0.25687715, -0.0682123 , -0.22793904, -1.17315209,\n",
       "        -0.81649658, -0.5       , -0.81649658,  2.        ]])"
      ]
     },
     "execution_count": 56,
     "metadata": {},
     "output_type": "execute_result"
    }
   ],
   "source": [
    "scaler.transform(cc.head().values)"
   ]
  },
  {
   "cell_type": "code",
   "execution_count": 57,
   "metadata": {},
   "outputs": [
    {
     "data": {
      "text/plain": [
       "array([[ 5.0000e+04,  2.5000e+01,  2.0000e+00,  0.0000e+00,  0.0000e+00,\n",
       "         0.0000e+00,  0.0000e+00,  0.0000e+00,  4.8966e+04,  4.9985e+04,\n",
       "         5.0760e+04,  4.9535e+04,  3.0358e+04,  3.0302e+04,  2.1300e+03,\n",
       "         1.9050e+03,  1.8110e+03,  1.1000e+03,  1.1000e+03,  1.2000e+03,\n",
       "         1.0000e+00,  0.0000e+00,  2.0000e+00,  0.0000e+00],\n",
       "       [ 2.0000e+05,  5.4000e+01, -1.0000e+00, -1.0000e+00, -1.0000e+00,\n",
       "        -1.0000e+00, -1.0000e+00, -1.0000e+00,  1.0755e+04,  9.9810e+03,\n",
       "         7.8430e+03,  6.3350e+03,  4.6160e+03,  7.9560e+03,  1.0120e+04,\n",
       "         7.8520e+03,  6.3360e+03,  4.6220e+03,  7.9560e+03,  5.4990e+03,\n",
       "         1.0000e+00,  3.0000e+00,  0.0000e+00,  0.0000e+00],\n",
       "       [ 3.0000e+04,  4.1000e+01,  2.0000e+00,  3.0000e+00,  2.0000e+00,\n",
       "         2.0000e+00,  2.0000e+00,  0.0000e+00,  3.0057e+04,  2.9280e+04,\n",
       "         3.0206e+04,  3.0496e+04,  2.9731e+04,  2.9047e+04,  0.0000e+00,\n",
       "         1.7000e+03,  1.1000e+03,  3.0000e+00,  1.0530e+03,  1.3030e+03,\n",
       "         0.0000e+00,  1.0000e+00,  0.0000e+00,  0.0000e+00],\n",
       "       [ 1.4000e+05,  2.8000e+01,  0.0000e+00,  0.0000e+00,  0.0000e+00,\n",
       "         0.0000e+00,  0.0000e+00,  0.0000e+00,  5.6426e+04,  4.1717e+04,\n",
       "         4.2823e+04,  2.5224e+04,  2.6855e+04,  2.3783e+04,  2.0000e+03,\n",
       "         2.0000e+03,  9.0000e+02,  2.0000e+03,  1.0000e+04,  5.0000e+03,\n",
       "         0.0000e+00,  3.0000e+00,  2.0000e+00,  0.0000e+00],\n",
       "       [ 6.0000e+04,  3.6000e+01,  1.0000e+00,  2.0000e+00,  2.0000e+00,\n",
       "         0.0000e+00,  0.0000e+00,  0.0000e+00,  4.7987e+04,  4.8716e+04,\n",
       "         4.7632e+04,  4.8738e+04,  4.9601e+04,  5.2773e+04,  1.7880e+03,\n",
       "         0.0000e+00,  1.8940e+03,  1.8010e+03,  3.9970e+03,  0.0000e+00,\n",
       "         0.0000e+00,  1.0000e+00,  0.0000e+00,  1.0000e+00]])"
      ]
     },
     "execution_count": 57,
     "metadata": {},
     "output_type": "execute_result"
    }
   ],
   "source": [
    "scaler.inverse_transform(scaler.transform(cc.head().values))"
   ]
  },
  {
   "cell_type": "code",
   "execution_count": 58,
   "metadata": {},
   "outputs": [],
   "source": [
    "scaler = MinMaxScaler()\n",
    "X = scaler.fit_transform(cc.values)"
   ]
  },
  {
   "cell_type": "code",
   "execution_count": 59,
   "metadata": {},
   "outputs": [
    {
     "data": {
      "text/plain": [
       "array([[5.19480519e-02, 7.40740741e-02, 4.00000000e-01, 2.22222222e-01,\n",
       "        2.00000000e-01, 2.00000000e-01, 2.00000000e-01, 2.00000000e-01,\n",
       "        1.00839480e-01, 1.77236133e-01, 1.70378543e-01, 1.15166914e-01,\n",
       "        5.85922571e-02, 6.07923152e-02, 6.59414143e-03, 4.90819991e-03,\n",
       "        4.33681044e-03, 3.75475318e-03, 3.62423891e-03, 2.70879750e-03,\n",
       "        1.00000000e+00, 0.00000000e+00, 1.00000000e+00, 0.00000000e+00],\n",
       "       [2.46753247e-01, 6.11111111e-01, 1.00000000e-01, 1.11111111e-01,\n",
       "        1.00000000e-01, 1.00000000e-01, 1.00000000e-01, 1.00000000e-01,\n",
       "        4.00177637e-02, 1.18034097e-01, 1.05246304e-01, 4.77868294e-02,\n",
       "        1.50619422e-02, 2.18063753e-02, 3.13299114e-02, 2.02305437e-02,\n",
       "        1.51728498e-02, 1.57767902e-02, 2.62131316e-02, 1.24130645e-02,\n",
       "        1.00000000e+00, 1.00000000e+00, 0.00000000e+00, 0.00000000e+00],\n",
       "       [2.59740260e-02, 3.70370370e-01, 4.00000000e-01, 5.55555556e-01,\n",
       "        4.00000000e-01, 4.00000000e-01, 4.00000000e-01, 2.00000000e-01,\n",
       "        7.07413975e-02, 1.46594743e-01, 1.39185122e-01, 8.54713253e-02,\n",
       "        5.75319857e-02, 5.86027799e-02, 0.00000000e+00, 4.38002092e-03,\n",
       "        2.63417531e-03, 1.02402359e-05, 3.46938507e-03, 2.94130262e-03,\n",
       "        0.00000000e+00, 3.33333333e-01, 0.00000000e+00, 0.00000000e+00],\n",
       "       [1.68831169e-01, 1.29629630e-01, 2.00000000e-01, 2.22222222e-01,\n",
       "        2.00000000e-01, 2.00000000e-01, 2.00000000e-01, 2.00000000e-01,\n",
       "        1.12713810e-01, 1.65000296e-01, 1.58333093e-01, 7.72484594e-02,\n",
       "        5.26686035e-02, 4.94189445e-02, 6.19168209e-03, 5.15296579e-03,\n",
       "        2.15523435e-03, 6.82682396e-03, 3.29476265e-02, 1.12866562e-02,\n",
       "        0.00000000e+00, 1.00000000e+00, 1.00000000e+00, 0.00000000e+00],\n",
       "       [6.49350649e-02, 2.77777778e-01, 3.00000000e-01, 4.44444444e-01,\n",
       "        4.00000000e-01, 2.00000000e-01, 2.00000000e-01, 2.00000000e-01,\n",
       "        9.92811733e-02, 1.75358137e-01, 1.65631388e-01, 1.13923814e-01,\n",
       "        9.11326134e-02, 9.99963362e-02, 5.53536379e-03, 0.00000000e+00,\n",
       "        4.53557095e-03, 6.14755497e-03, 1.31691663e-02, 0.00000000e+00,\n",
       "        0.00000000e+00, 3.33333333e-01, 0.00000000e+00, 1.00000000e+00]])"
      ]
     },
     "execution_count": 59,
     "metadata": {},
     "output_type": "execute_result"
    }
   ],
   "source": [
    "X[:5]"
   ]
  },
  {
   "cell_type": "code",
   "execution_count": 62,
   "metadata": {},
   "outputs": [
    {
     "data": {
      "image/png": "[encoded data removed]",
      "text/plain": [
       "<Figure size 432x288 with 1 Axes>"
      ]
     },
     "metadata": {
      "needs_background": "light"
     },
     "output_type": "display_data"
    }
   ],
   "source": [
    "data_dist = pdist(X, metric='euclidean')\n",
    "data_link = linkage(data_dist, method='complete', metric='euclidean')\n",
    "res = dendrogram(data_link, color_threshold=2.1, truncate_mode='lastp')"
   ]
  },
  {
   "cell_type": "code",
   "execution_count": 61,
   "metadata": {},
   "outputs": [
    {
     "data": {
      "image/png": "[encoded data removed]",
      "text/plain": [
       "<Figure size 432x288 with 1 Axes>"
      ]
     },
     "metadata": {
      "needs_background": "light"
     },
     "output_type": "display_data"
    }
   ],
   "source": [
    "res = dendrogram(data_link, color_threshold=1.0)"
   ]
  },
  {
   "cell_type": "code",
   "execution_count": 63,
   "metadata": {},
   "outputs": [
    {
     "data": {
      "image/png": "[encoded data removed]",
      "text/plain": [
       "<Figure size 432x288 with 1 Axes>"
      ]
     },
     "metadata": {
      "needs_background": "light"
     },
     "output_type": "display_data"
    }
   ],
   "source": [
    "data_dist = pdist(X, metric='euclidean')\n",
    "data_link = linkage(data_dist, method='single', metric='euclidean')\n",
    "res = dendrogram(data_link, color_threshold=0.2, truncate_mode='lastp')"
   ]
  },
  {
   "cell_type": "code",
   "execution_count": 65,
   "metadata": {},
   "outputs": [
    {
     "data": {
      "image/png": "[encoded data removed]",
      "text/plain": [
       "<Figure size 432x288 with 1 Axes>"
      ]
     },
     "metadata": {
      "needs_background": "light"
     },
     "output_type": "display_data"
    }
   ],
   "source": [
    "data_dist = pdist(X, metric='euclidean')\n",
    "data_link = linkage(data_dist, method='average', metric='euclidean')\n",
    "res = dendrogram(data_link, color_threshold=1.75, truncate_mode='lastp')"
   ]
  },
  {
   "cell_type": "code",
   "execution_count": null,
   "metadata": {},
   "outputs": [],
   "source": []
  }
 ],
 "metadata": {
  "kernelspec": {
   "display_name": "Python 3",
   "language": "python",
   "name": "python3"
  },
  "language_info": {
   "codemirror_mode": {
    "name": "ipython",
    "version": 3
   },
   "file_extension": ".py",
   "mimetype": "text/x-python",
   "name": "python",
   "nbconvert_exporter": "python",
   "pygments_lexer": "ipython3",
   "version": "3.7.0"
  }
 },
 "nbformat": 4,
 "nbformat_minor": 2
}
