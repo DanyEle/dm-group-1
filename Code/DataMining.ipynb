{
 "cells": [
  {
   "cell_type": "code",
   "execution_count": 1,
   "metadata": {},
   "outputs": [],
   "source": [
    "import numpy as np\n",
    "import pandas as pd\n",
    "import matplotlib.pyplot as plt"
   ]
  },
  {
   "cell_type": "code",
   "execution_count": 2,
   "metadata": {},
   "outputs": [],
   "source": [
    "data=pd.read_csv(\"credit_default_train.csv\")"
   ]
  },
  {
   "cell_type": "code",
   "execution_count": 3,
   "metadata": {},
   "outputs": [
    {
     "data": {
      "text/html": [
       "<div>\n",
       "<style scoped>\n",
       "    .dataframe tbody tr th:only-of-type {\n",
       "        vertical-align: middle;\n",
       "    }\n",
       "\n",
       "    .dataframe tbody tr th {\n",
       "        vertical-align: top;\n",
       "    }\n",
       "\n",
       "    .dataframe thead th {\n",
       "        text-align: right;\n",
       "    }\n",
       "</style>\n",
       "<table border=\"1\" class=\"dataframe\">\n",
       "  <thead>\n",
       "    <tr style=\"text-align: right;\">\n",
       "      <th></th>\n",
       "      <th>limit</th>\n",
       "      <th>sex</th>\n",
       "      <th>education</th>\n",
       "      <th>status</th>\n",
       "      <th>age</th>\n",
       "      <th>ps-sep</th>\n",
       "      <th>ps-aug</th>\n",
       "      <th>ps-jul</th>\n",
       "      <th>ps-jun</th>\n",
       "      <th>ps-may</th>\n",
       "      <th>...</th>\n",
       "      <th>ba-jun</th>\n",
       "      <th>ba-may</th>\n",
       "      <th>ba-apr</th>\n",
       "      <th>pa-sep</th>\n",
       "      <th>pa-aug</th>\n",
       "      <th>pa-jul</th>\n",
       "      <th>pa-jun</th>\n",
       "      <th>pa-may</th>\n",
       "      <th>pa-apr</th>\n",
       "      <th>credit_default</th>\n",
       "    </tr>\n",
       "  </thead>\n",
       "  <tbody>\n",
       "    <tr>\n",
       "      <th>0</th>\n",
       "      <td>50000</td>\n",
       "      <td>male</td>\n",
       "      <td>graduate school</td>\n",
       "      <td>NaN</td>\n",
       "      <td>25</td>\n",
       "      <td>2</td>\n",
       "      <td>0</td>\n",
       "      <td>0</td>\n",
       "      <td>0</td>\n",
       "      <td>0</td>\n",
       "      <td>...</td>\n",
       "      <td>49535</td>\n",
       "      <td>30358</td>\n",
       "      <td>30302</td>\n",
       "      <td>2130</td>\n",
       "      <td>1905</td>\n",
       "      <td>1811</td>\n",
       "      <td>1100</td>\n",
       "      <td>1100</td>\n",
       "      <td>1200</td>\n",
       "      <td>no</td>\n",
       "    </tr>\n",
       "    <tr>\n",
       "      <th>1</th>\n",
       "      <td>200000</td>\n",
       "      <td>male</td>\n",
       "      <td>university</td>\n",
       "      <td>married</td>\n",
       "      <td>54</td>\n",
       "      <td>-1</td>\n",
       "      <td>-1</td>\n",
       "      <td>-1</td>\n",
       "      <td>-1</td>\n",
       "      <td>-1</td>\n",
       "      <td>...</td>\n",
       "      <td>6335</td>\n",
       "      <td>4616</td>\n",
       "      <td>7956</td>\n",
       "      <td>10120</td>\n",
       "      <td>7852</td>\n",
       "      <td>6336</td>\n",
       "      <td>4622</td>\n",
       "      <td>7956</td>\n",
       "      <td>5499</td>\n",
       "      <td>no</td>\n",
       "    </tr>\n",
       "    <tr>\n",
       "      <th>2</th>\n",
       "      <td>30000</td>\n",
       "      <td>female</td>\n",
       "      <td>high school</td>\n",
       "      <td>married</td>\n",
       "      <td>-1</td>\n",
       "      <td>2</td>\n",
       "      <td>3</td>\n",
       "      <td>2</td>\n",
       "      <td>2</td>\n",
       "      <td>2</td>\n",
       "      <td>...</td>\n",
       "      <td>30496</td>\n",
       "      <td>29731</td>\n",
       "      <td>29047</td>\n",
       "      <td>0</td>\n",
       "      <td>1700</td>\n",
       "      <td>1100</td>\n",
       "      <td>3</td>\n",
       "      <td>1053</td>\n",
       "      <td>1303</td>\n",
       "      <td>no</td>\n",
       "    </tr>\n",
       "    <tr>\n",
       "      <th>3</th>\n",
       "      <td>140000</td>\n",
       "      <td>female</td>\n",
       "      <td>university</td>\n",
       "      <td>single</td>\n",
       "      <td>-1</td>\n",
       "      <td>0</td>\n",
       "      <td>0</td>\n",
       "      <td>0</td>\n",
       "      <td>0</td>\n",
       "      <td>0</td>\n",
       "      <td>...</td>\n",
       "      <td>25224</td>\n",
       "      <td>26855</td>\n",
       "      <td>23783</td>\n",
       "      <td>2000</td>\n",
       "      <td>2000</td>\n",
       "      <td>900</td>\n",
       "      <td>2000</td>\n",
       "      <td>10000</td>\n",
       "      <td>5000</td>\n",
       "      <td>no</td>\n",
       "    </tr>\n",
       "    <tr>\n",
       "      <th>4</th>\n",
       "      <td>60000</td>\n",
       "      <td>female</td>\n",
       "      <td>high school</td>\n",
       "      <td>married</td>\n",
       "      <td>36</td>\n",
       "      <td>1</td>\n",
       "      <td>2</td>\n",
       "      <td>2</td>\n",
       "      <td>0</td>\n",
       "      <td>0</td>\n",
       "      <td>...</td>\n",
       "      <td>48738</td>\n",
       "      <td>49601</td>\n",
       "      <td>52773</td>\n",
       "      <td>1788</td>\n",
       "      <td>0</td>\n",
       "      <td>1894</td>\n",
       "      <td>1801</td>\n",
       "      <td>3997</td>\n",
       "      <td>0</td>\n",
       "      <td>yes</td>\n",
       "    </tr>\n",
       "  </tbody>\n",
       "</table>\n",
       "<p>5 rows × 24 columns</p>\n",
       "</div>"
      ],
      "text/plain": [
       "    limit     sex        education   status  age  ps-sep  ps-aug  ps-jul  \\\n",
       "0   50000    male  graduate school      NaN   25       2       0       0   \n",
       "1  200000    male       university  married   54      -1      -1      -1   \n",
       "2   30000  female      high school  married   -1       2       3       2   \n",
       "3  140000  female       university   single   -1       0       0       0   \n",
       "4   60000  female      high school  married   36       1       2       2   \n",
       "\n",
       "   ps-jun  ps-may       ...        ba-jun  ba-may  ba-apr  pa-sep  pa-aug  \\\n",
       "0       0       0       ...         49535   30358   30302    2130    1905   \n",
       "1      -1      -1       ...          6335    4616    7956   10120    7852   \n",
       "2       2       2       ...         30496   29731   29047       0    1700   \n",
       "3       0       0       ...         25224   26855   23783    2000    2000   \n",
       "4       0       0       ...         48738   49601   52773    1788       0   \n",
       "\n",
       "   pa-jul  pa-jun  pa-may  pa-apr  credit_default  \n",
       "0    1811    1100    1100    1200              no  \n",
       "1    6336    4622    7956    5499              no  \n",
       "2    1100       3    1053    1303              no  \n",
       "3     900    2000   10000    5000              no  \n",
       "4    1894    1801    3997       0             yes  \n",
       "\n",
       "[5 rows x 24 columns]"
      ]
     },
     "execution_count": 3,
     "metadata": {},
     "output_type": "execute_result"
    }
   ],
   "source": [
    "data.head()"
   ]
  },
  {
   "cell_type": "code",
   "execution_count": 4,
   "metadata": {},
   "outputs": [
    {
     "name": "stdout",
     "output_type": "stream",
     "text": [
      "<class 'pandas.core.frame.DataFrame'>\n",
      "RangeIndex: 10000 entries, 0 to 9999\n",
      "Data columns (total 24 columns):\n",
      "limit             10000 non-null int64\n",
      "sex               9900 non-null object\n",
      "education         9873 non-null object\n",
      "status            8178 non-null object\n",
      "age               10000 non-null int64\n",
      "ps-sep            10000 non-null int64\n",
      "ps-aug            10000 non-null int64\n",
      "ps-jul            10000 non-null int64\n",
      "ps-jun            10000 non-null int64\n",
      "ps-may            10000 non-null int64\n",
      "ps-apr            10000 non-null int64\n",
      "ba-sep            10000 non-null int64\n",
      "ba-aug            10000 non-null int64\n",
      "ba-jul            10000 non-null int64\n",
      "ba-jun            10000 non-null int64\n",
      "ba-may            10000 non-null int64\n",
      "ba-apr            10000 non-null int64\n",
      "pa-sep            10000 non-null int64\n",
      "pa-aug            10000 non-null int64\n",
      "pa-jul            10000 non-null int64\n",
      "pa-jun            10000 non-null int64\n",
      "pa-may            10000 non-null int64\n",
      "pa-apr            10000 non-null int64\n",
      "credit_default    10000 non-null object\n",
      "dtypes: int64(20), object(4)\n",
      "memory usage: 1.8+ MB\n"
     ]
    }
   ],
   "source": [
    "data.info()"
   ]
  },
  {
   "cell_type": "code",
   "execution_count": 5,
   "metadata": {},
   "outputs": [
    {
     "data": {
      "text/html": [
       "<div>\n",
       "<style scoped>\n",
       "    .dataframe tbody tr th:only-of-type {\n",
       "        vertical-align: middle;\n",
       "    }\n",
       "\n",
       "    .dataframe tbody tr th {\n",
       "        vertical-align: top;\n",
       "    }\n",
       "\n",
       "    .dataframe thead th {\n",
       "        text-align: right;\n",
       "    }\n",
       "</style>\n",
       "<table border=\"1\" class=\"dataframe\">\n",
       "  <thead>\n",
       "    <tr style=\"text-align: right;\">\n",
       "      <th></th>\n",
       "      <th>limit</th>\n",
       "      <th>age</th>\n",
       "      <th>ps-sep</th>\n",
       "      <th>ps-aug</th>\n",
       "      <th>ps-jul</th>\n",
       "      <th>ps-jun</th>\n",
       "      <th>ps-may</th>\n",
       "      <th>ps-apr</th>\n",
       "      <th>ba-sep</th>\n",
       "      <th>ba-aug</th>\n",
       "      <th>ba-jul</th>\n",
       "      <th>ba-jun</th>\n",
       "      <th>ba-may</th>\n",
       "      <th>ba-apr</th>\n",
       "      <th>pa-sep</th>\n",
       "      <th>pa-aug</th>\n",
       "      <th>pa-jul</th>\n",
       "      <th>pa-jun</th>\n",
       "      <th>pa-may</th>\n",
       "      <th>pa-apr</th>\n",
       "    </tr>\n",
       "  </thead>\n",
       "  <tbody>\n",
       "    <tr>\n",
       "      <th>count</th>\n",
       "      <td>10000.000000</td>\n",
       "      <td>10000.000000</td>\n",
       "      <td>10000.000000</td>\n",
       "      <td>10000.000000</td>\n",
       "      <td>10000.000000</td>\n",
       "      <td>10000.000000</td>\n",
       "      <td>10000.000000</td>\n",
       "      <td>10000.000000</td>\n",
       "      <td>10000.000000</td>\n",
       "      <td>10000.000000</td>\n",
       "      <td>10000.00000</td>\n",
       "      <td>10000.000000</td>\n",
       "      <td>10000.000000</td>\n",
       "      <td>10000.000000</td>\n",
       "      <td>10000.000000</td>\n",
       "      <td>1.000000e+04</td>\n",
       "      <td>10000.000000</td>\n",
       "      <td>10000.000000</td>\n",
       "      <td>10000.000000</td>\n",
       "      <td>10000.000000</td>\n",
       "    </tr>\n",
       "    <tr>\n",
       "      <th>mean</th>\n",
       "      <td>167197.000000</td>\n",
       "      <td>32.020200</td>\n",
       "      <td>-0.004000</td>\n",
       "      <td>-0.127800</td>\n",
       "      <td>-0.175700</td>\n",
       "      <td>-0.234300</td>\n",
       "      <td>-0.263700</td>\n",
       "      <td>-0.297400</td>\n",
       "      <td>51490.704100</td>\n",
       "      <td>49239.438400</td>\n",
       "      <td>46957.46680</td>\n",
       "      <td>43306.114300</td>\n",
       "      <td>40182.130200</td>\n",
       "      <td>38621.582700</td>\n",
       "      <td>5651.344900</td>\n",
       "      <td>5.973676e+03</td>\n",
       "      <td>5131.898600</td>\n",
       "      <td>4719.769200</td>\n",
       "      <td>4734.702900</td>\n",
       "      <td>5480.147400</td>\n",
       "    </tr>\n",
       "    <tr>\n",
       "      <th>std</th>\n",
       "      <td>128975.488596</td>\n",
       "      <td>13.843119</td>\n",
       "      <td>1.132834</td>\n",
       "      <td>1.200921</td>\n",
       "      <td>1.193554</td>\n",
       "      <td>1.169333</td>\n",
       "      <td>1.147386</td>\n",
       "      <td>1.147295</td>\n",
       "      <td>73740.383345</td>\n",
       "      <td>70777.470286</td>\n",
       "      <td>68948.62697</td>\n",
       "      <td>64519.910263</td>\n",
       "      <td>60732.330157</td>\n",
       "      <td>59325.339137</td>\n",
       "      <td>15835.839092</td>\n",
       "      <td>2.251175e+04</td>\n",
       "      <td>15416.402957</td>\n",
       "      <td>14483.407778</td>\n",
       "      <td>14912.375475</td>\n",
       "      <td>19361.411204</td>\n",
       "    </tr>\n",
       "    <tr>\n",
       "      <th>min</th>\n",
       "      <td>10000.000000</td>\n",
       "      <td>-1.000000</td>\n",
       "      <td>-2.000000</td>\n",
       "      <td>-2.000000</td>\n",
       "      <td>-2.000000</td>\n",
       "      <td>-2.000000</td>\n",
       "      <td>-2.000000</td>\n",
       "      <td>-2.000000</td>\n",
       "      <td>-14386.000000</td>\n",
       "      <td>-69777.000000</td>\n",
       "      <td>-61506.00000</td>\n",
       "      <td>-24303.000000</td>\n",
       "      <td>-81334.000000</td>\n",
       "      <td>-209051.000000</td>\n",
       "      <td>0.000000</td>\n",
       "      <td>0.000000e+00</td>\n",
       "      <td>0.000000</td>\n",
       "      <td>0.000000</td>\n",
       "      <td>0.000000</td>\n",
       "      <td>0.000000</td>\n",
       "    </tr>\n",
       "    <tr>\n",
       "      <th>25%</th>\n",
       "      <td>50000.000000</td>\n",
       "      <td>26.000000</td>\n",
       "      <td>-1.000000</td>\n",
       "      <td>-1.000000</td>\n",
       "      <td>-1.000000</td>\n",
       "      <td>-1.000000</td>\n",
       "      <td>-1.000000</td>\n",
       "      <td>-1.000000</td>\n",
       "      <td>3545.250000</td>\n",
       "      <td>2899.250000</td>\n",
       "      <td>2442.50000</td>\n",
       "      <td>2203.250000</td>\n",
       "      <td>1650.000000</td>\n",
       "      <td>1150.000000</td>\n",
       "      <td>997.000000</td>\n",
       "      <td>7.800000e+02</td>\n",
       "      <td>390.000000</td>\n",
       "      <td>261.500000</td>\n",
       "      <td>200.000000</td>\n",
       "      <td>100.000000</td>\n",
       "    </tr>\n",
       "    <tr>\n",
       "      <th>50%</th>\n",
       "      <td>140000.000000</td>\n",
       "      <td>33.000000</td>\n",
       "      <td>0.000000</td>\n",
       "      <td>0.000000</td>\n",
       "      <td>0.000000</td>\n",
       "      <td>0.000000</td>\n",
       "      <td>0.000000</td>\n",
       "      <td>0.000000</td>\n",
       "      <td>22246.000000</td>\n",
       "      <td>21202.000000</td>\n",
       "      <td>19905.50000</td>\n",
       "      <td>19072.000000</td>\n",
       "      <td>18071.000000</td>\n",
       "      <td>16977.000000</td>\n",
       "      <td>2081.500000</td>\n",
       "      <td>2.000000e+03</td>\n",
       "      <td>1800.000000</td>\n",
       "      <td>1500.000000</td>\n",
       "      <td>1500.000000</td>\n",
       "      <td>1500.000000</td>\n",
       "    </tr>\n",
       "    <tr>\n",
       "      <th>75%</th>\n",
       "      <td>240000.000000</td>\n",
       "      <td>40.000000</td>\n",
       "      <td>0.000000</td>\n",
       "      <td>0.000000</td>\n",
       "      <td>0.000000</td>\n",
       "      <td>0.000000</td>\n",
       "      <td>0.000000</td>\n",
       "      <td>0.000000</td>\n",
       "      <td>67681.000000</td>\n",
       "      <td>64412.750000</td>\n",
       "      <td>60164.75000</td>\n",
       "      <td>54093.750000</td>\n",
       "      <td>49906.500000</td>\n",
       "      <td>48680.750000</td>\n",
       "      <td>5019.000000</td>\n",
       "      <td>5.000000e+03</td>\n",
       "      <td>4500.000000</td>\n",
       "      <td>4000.000000</td>\n",
       "      <td>4000.000000</td>\n",
       "      <td>4000.000000</td>\n",
       "    </tr>\n",
       "    <tr>\n",
       "      <th>max</th>\n",
       "      <td>780000.000000</td>\n",
       "      <td>75.000000</td>\n",
       "      <td>8.000000</td>\n",
       "      <td>7.000000</td>\n",
       "      <td>8.000000</td>\n",
       "      <td>8.000000</td>\n",
       "      <td>8.000000</td>\n",
       "      <td>8.000000</td>\n",
       "      <td>613860.000000</td>\n",
       "      <td>605943.000000</td>\n",
       "      <td>597415.00000</td>\n",
       "      <td>616836.000000</td>\n",
       "      <td>587067.000000</td>\n",
       "      <td>568638.000000</td>\n",
       "      <td>493358.000000</td>\n",
       "      <td>1.227082e+06</td>\n",
       "      <td>417588.000000</td>\n",
       "      <td>292962.000000</td>\n",
       "      <td>417990.000000</td>\n",
       "      <td>528666.000000</td>\n",
       "    </tr>\n",
       "  </tbody>\n",
       "</table>\n",
       "</div>"
      ],
      "text/plain": [
       "               limit           age        ps-sep        ps-aug        ps-jul  \\\n",
       "count   10000.000000  10000.000000  10000.000000  10000.000000  10000.000000   \n",
       "mean   167197.000000     32.020200     -0.004000     -0.127800     -0.175700   \n",
       "std    128975.488596     13.843119      1.132834      1.200921      1.193554   \n",
       "min     10000.000000     -1.000000     -2.000000     -2.000000     -2.000000   \n",
       "25%     50000.000000     26.000000     -1.000000     -1.000000     -1.000000   \n",
       "50%    140000.000000     33.000000      0.000000      0.000000      0.000000   \n",
       "75%    240000.000000     40.000000      0.000000      0.000000      0.000000   \n",
       "max    780000.000000     75.000000      8.000000      7.000000      8.000000   \n",
       "\n",
       "             ps-jun        ps-may        ps-apr         ba-sep         ba-aug  \\\n",
       "count  10000.000000  10000.000000  10000.000000   10000.000000   10000.000000   \n",
       "mean      -0.234300     -0.263700     -0.297400   51490.704100   49239.438400   \n",
       "std        1.169333      1.147386      1.147295   73740.383345   70777.470286   \n",
       "min       -2.000000     -2.000000     -2.000000  -14386.000000  -69777.000000   \n",
       "25%       -1.000000     -1.000000     -1.000000    3545.250000    2899.250000   \n",
       "50%        0.000000      0.000000      0.000000   22246.000000   21202.000000   \n",
       "75%        0.000000      0.000000      0.000000   67681.000000   64412.750000   \n",
       "max        8.000000      8.000000      8.000000  613860.000000  605943.000000   \n",
       "\n",
       "             ba-jul         ba-jun         ba-may         ba-apr  \\\n",
       "count   10000.00000   10000.000000   10000.000000   10000.000000   \n",
       "mean    46957.46680   43306.114300   40182.130200   38621.582700   \n",
       "std     68948.62697   64519.910263   60732.330157   59325.339137   \n",
       "min    -61506.00000  -24303.000000  -81334.000000 -209051.000000   \n",
       "25%      2442.50000    2203.250000    1650.000000    1150.000000   \n",
       "50%     19905.50000   19072.000000   18071.000000   16977.000000   \n",
       "75%     60164.75000   54093.750000   49906.500000   48680.750000   \n",
       "max    597415.00000  616836.000000  587067.000000  568638.000000   \n",
       "\n",
       "              pa-sep        pa-aug         pa-jul         pa-jun  \\\n",
       "count   10000.000000  1.000000e+04   10000.000000   10000.000000   \n",
       "mean     5651.344900  5.973676e+03    5131.898600    4719.769200   \n",
       "std     15835.839092  2.251175e+04   15416.402957   14483.407778   \n",
       "min         0.000000  0.000000e+00       0.000000       0.000000   \n",
       "25%       997.000000  7.800000e+02     390.000000     261.500000   \n",
       "50%      2081.500000  2.000000e+03    1800.000000    1500.000000   \n",
       "75%      5019.000000  5.000000e+03    4500.000000    4000.000000   \n",
       "max    493358.000000  1.227082e+06  417588.000000  292962.000000   \n",
       "\n",
       "              pa-may         pa-apr  \n",
       "count   10000.000000   10000.000000  \n",
       "mean     4734.702900    5480.147400  \n",
       "std     14912.375475   19361.411204  \n",
       "min         0.000000       0.000000  \n",
       "25%       200.000000     100.000000  \n",
       "50%      1500.000000    1500.000000  \n",
       "75%      4000.000000    4000.000000  \n",
       "max    417990.000000  528666.000000  "
      ]
     },
     "execution_count": 5,
     "metadata": {},
     "output_type": "execute_result"
    }
   ],
   "source": [
    "data.describe()"
   ]
  },
  {
   "cell_type": "code",
   "execution_count": 6,
   "metadata": {},
   "outputs": [
    {
     "data": {
      "text/plain": [
       "array([ 50000, 200000,  30000, 140000,  60000, 260000,  10000, 310000,\n",
       "       120000, 150000, 450000, 320000, 100000, 500000,  70000, 350000,\n",
       "       210000,  90000, 280000, 300000,  40000, 180000, 220000, 490000,\n",
       "       170000, 110000, 530000, 160000, 240000, 460000, 710000, 410000,\n",
       "       360000, 290000,  80000, 230000, 250000,  20000, 130000, 420000,\n",
       "       330000, 440000, 190000, 380000, 270000, 390000, 400000, 570000,\n",
       "       340000, 480000, 430000, 370000, 650000, 520000, 640000, 470000,\n",
       "       550000, 580000, 600000, 620000, 750000, 780000, 700000, 610000,\n",
       "       510000, 630000, 680000, 660000, 560000, 590000, 540000, 740000],\n",
       "      dtype=int64)"
      ]
     },
     "execution_count": 6,
     "metadata": {},
     "output_type": "execute_result"
    }
   ],
   "source": [
    "data.limit.unique()"
   ]
  },
  {
   "cell_type": "code",
   "execution_count": 8,
   "metadata": {},
   "outputs": [
    {
     "data": {
      "text/plain": [
       "array([25, 54, -1, 36, 44, 29, 24, 55, 37, 27, 30, 26, 42, 46, 34, 47, 53,\n",
       "       51, 38, 43, 39, 33, 41, 35, 50, 52, 22, 45, 23, 32, 31, 58, 61, 40,\n",
       "       28, 49, 48, 71, 60, 56, 57, 63, 21, 65, 59, 72, 64, 66, 62, 70, 73,\n",
       "       67, 75, 69, 68], dtype=int64)"
      ]
     },
     "execution_count": 8,
     "metadata": {},
     "output_type": "execute_result"
    }
   ],
   "source": [
    "data.age.unique()"
   ]
  },
  {
   "cell_type": "code",
   "execution_count": 10,
   "metadata": {},
   "outputs": [
    {
     "data": {
      "text/plain": [
       "array([ 2, -1,  0,  1,  3, -2,  4,  8,  5,  6,  7], dtype=int64)"
      ]
     },
     "execution_count": 10,
     "metadata": {},
     "output_type": "execute_result"
    }
   ],
   "source": [
    "data['ps-sep'].unique()"
   ]
  },
  {
   "cell_type": "code",
   "execution_count": 11,
   "metadata": {},
   "outputs": [
    {
     "data": {
      "text/plain": [
       "array([ 0, -1,  3,  2, -2,  4,  1,  7,  5,  6], dtype=int64)"
      ]
     },
     "execution_count": 11,
     "metadata": {},
     "output_type": "execute_result"
    }
   ],
   "source": [
    "data['ps-aug'].unique()"
   ]
  },
  {
   "cell_type": "code",
   "execution_count": 12,
   "metadata": {},
   "outputs": [
    {
     "data": {
      "text/plain": [
       "array([ 0, -1,  2, -2,  4,  3,  7,  6,  5,  8,  1], dtype=int64)"
      ]
     },
     "execution_count": 12,
     "metadata": {},
     "output_type": "execute_result"
    }
   ],
   "source": [
    "data['ps-jul'].unique()"
   ]
  },
  {
   "cell_type": "code",
   "execution_count": 13,
   "metadata": {},
   "outputs": [
    {
     "data": {
      "text/plain": [
       "array([ 0, -1,  2,  3, -2,  4,  7,  5,  6,  8], dtype=int64)"
      ]
     },
     "execution_count": 13,
     "metadata": {},
     "output_type": "execute_result"
    }
   ],
   "source": [
    "data['ps-jun'].unique()"
   ]
  },
  {
   "cell_type": "code",
   "execution_count": 14,
   "metadata": {},
   "outputs": [
    {
     "data": {
      "text/plain": [
       "array([ 0, -1,  2,  3, -2,  7,  4,  5,  6,  8], dtype=int64)"
      ]
     },
     "execution_count": 14,
     "metadata": {},
     "output_type": "execute_result"
    }
   ],
   "source": [
    "data['ps-may'].unique()"
   ]
  },
  {
   "cell_type": "code",
   "execution_count": 15,
   "metadata": {},
   "outputs": [
    {
     "data": {
      "text/plain": [
       "array([ 0, -1,  2, -2,  7,  3,  4,  6,  5,  8], dtype=int64)"
      ]
     },
     "execution_count": 15,
     "metadata": {},
     "output_type": "execute_result"
    }
   ],
   "source": [
    "data['ps-apr'].unique()"
   ]
  },
  {
   "cell_type": "code",
   "execution_count": 17,
   "metadata": {},
   "outputs": [
    {
     "data": {
      "text/plain": [
       "array([ 48966,  10755,  30057, ..., 258764,  28477, 259637], dtype=int64)"
      ]
     },
     "execution_count": 17,
     "metadata": {},
     "output_type": "execute_result"
    }
   ],
   "source": [
    "data['ba-sep'].unique()"
   ]
  },
  {
   "cell_type": "code",
   "execution_count": 18,
   "metadata": {},
   "outputs": [
    {
     "data": {
      "text/plain": [
       "array([ 49985,   9981,  29280, ..., 279451,  28718, 259593], dtype=int64)"
      ]
     },
     "execution_count": 18,
     "metadata": {},
     "output_type": "execute_result"
    }
   ],
   "source": [
    "data['ba-aug'].unique()"
   ]
  },
  {
   "cell_type": "code",
   "execution_count": 19,
   "metadata": {},
   "outputs": [
    {
     "data": {
      "text/plain": [
       "array([ 50760,   7843,  30206, ..., 280882,  28847, 261595], dtype=int64)"
      ]
     },
     "execution_count": 19,
     "metadata": {},
     "output_type": "execute_result"
    }
   ],
   "source": [
    "\n",
    "data['ba-jul'].unique()"
   ]
  },
  {
   "cell_type": "code",
   "execution_count": 20,
   "metadata": {},
   "outputs": [
    {
     "data": {
      "text/plain": [
       "array([ 49535,   6335,  30496, ..., 218619,  28747, 267359], dtype=int64)"
      ]
     },
     "execution_count": 20,
     "metadata": {},
     "output_type": "execute_result"
    }
   ],
   "source": [
    "\n",
    "data['ba-jun'].unique()"
   ]
  },
  {
   "cell_type": "code",
   "execution_count": 21,
   "metadata": {},
   "outputs": [
    {
     "data": {
      "text/plain": [
       "array([ 30358,   4616,  29731, ..., 201679,  29177, 236734], dtype=int64)"
      ]
     },
     "execution_count": 21,
     "metadata": {},
     "output_type": "execute_result"
    }
   ],
   "source": [
    "data['ba-may'].unique()"
   ]
  },
  {
   "cell_type": "code",
   "execution_count": 22,
   "metadata": {},
   "outputs": [
    {
     "data": {
      "text/plain": [
       "array([ 30302,   7956,  29047, ..., 195934,  29452, 231064], dtype=int64)"
      ]
     },
     "execution_count": 22,
     "metadata": {},
     "output_type": "execute_result"
    }
   ],
   "source": [
    "data['ba-apr'].unique()"
   ]
  },
  {
   "cell_type": "code",
   "execution_count": 23,
   "metadata": {},
   "outputs": [
    {
     "data": {
      "text/plain": [
       "<matplotlib.collections.PathCollection at 0x24842c6e748>"
      ]
     },
     "execution_count": 23,
     "metadata": {},
     "output_type": "execute_result"
    },
    {
     "data": {
      "image/png": "[encoded data removed]",
      "text/plain": [
       "<Figure size 432x288 with 1 Axes>"
      ]
     },
     "metadata": {},
     "output_type": "display_data"
    }
   ],
   "source": [
    "plt.scatter(data['ps-sep'], data['ps-aug'])"
   ]
  },
  {
   "cell_type": "code",
   "execution_count": 24,
   "metadata": {},
   "outputs": [
    {
     "data": {
      "text/html": [
       "<div>\n",
       "<style scoped>\n",
       "    .dataframe tbody tr th:only-of-type {\n",
       "        vertical-align: middle;\n",
       "    }\n",
       "\n",
       "    .dataframe tbody tr th {\n",
       "        vertical-align: top;\n",
       "    }\n",
       "\n",
       "    .dataframe thead th {\n",
       "        text-align: right;\n",
       "    }\n",
       "</style>\n",
       "<table border=\"1\" class=\"dataframe\">\n",
       "  <thead>\n",
       "    <tr style=\"text-align: right;\">\n",
       "      <th></th>\n",
       "      <th>limit</th>\n",
       "      <th>age</th>\n",
       "      <th>ps-sep</th>\n",
       "      <th>ps-aug</th>\n",
       "      <th>ps-jul</th>\n",
       "      <th>ps-jun</th>\n",
       "      <th>ps-may</th>\n",
       "      <th>ps-apr</th>\n",
       "      <th>ba-sep</th>\n",
       "      <th>ba-aug</th>\n",
       "      <th>ba-jul</th>\n",
       "      <th>ba-jun</th>\n",
       "      <th>ba-may</th>\n",
       "      <th>ba-apr</th>\n",
       "      <th>pa-sep</th>\n",
       "      <th>pa-aug</th>\n",
       "      <th>pa-jul</th>\n",
       "      <th>pa-jun</th>\n",
       "      <th>pa-may</th>\n",
       "      <th>pa-apr</th>\n",
       "    </tr>\n",
       "  </thead>\n",
       "  <tbody>\n",
       "    <tr>\n",
       "      <th>limit</th>\n",
       "      <td>1.000000</td>\n",
       "      <td>0.088969</td>\n",
       "      <td>-0.272013</td>\n",
       "      <td>-0.296985</td>\n",
       "      <td>-0.284455</td>\n",
       "      <td>-0.266059</td>\n",
       "      <td>-0.248085</td>\n",
       "      <td>-0.232110</td>\n",
       "      <td>0.295531</td>\n",
       "      <td>0.286821</td>\n",
       "      <td>0.296212</td>\n",
       "      <td>0.303736</td>\n",
       "      <td>0.303133</td>\n",
       "      <td>0.295468</td>\n",
       "      <td>0.208763</td>\n",
       "      <td>0.192396</td>\n",
       "      <td>0.225850</td>\n",
       "      <td>0.213702</td>\n",
       "      <td>0.226242</td>\n",
       "      <td>0.217154</td>\n",
       "    </tr>\n",
       "    <tr>\n",
       "      <th>age</th>\n",
       "      <td>0.088969</td>\n",
       "      <td>1.000000</td>\n",
       "      <td>-0.027054</td>\n",
       "      <td>-0.032769</td>\n",
       "      <td>-0.036024</td>\n",
       "      <td>-0.021548</td>\n",
       "      <td>-0.020607</td>\n",
       "      <td>-0.020194</td>\n",
       "      <td>0.048580</td>\n",
       "      <td>0.048349</td>\n",
       "      <td>0.052346</td>\n",
       "      <td>0.051416</td>\n",
       "      <td>0.048247</td>\n",
       "      <td>0.043793</td>\n",
       "      <td>0.023318</td>\n",
       "      <td>0.021721</td>\n",
       "      <td>0.025286</td>\n",
       "      <td>0.020937</td>\n",
       "      <td>0.012551</td>\n",
       "      <td>0.011559</td>\n",
       "    </tr>\n",
       "    <tr>\n",
       "      <th>ps-sep</th>\n",
       "      <td>-0.272013</td>\n",
       "      <td>-0.027054</td>\n",
       "      <td>1.000000</td>\n",
       "      <td>0.663077</td>\n",
       "      <td>0.569910</td>\n",
       "      <td>0.538579</td>\n",
       "      <td>0.506934</td>\n",
       "      <td>0.473628</td>\n",
       "      <td>0.174900</td>\n",
       "      <td>0.177987</td>\n",
       "      <td>0.169518</td>\n",
       "      <td>0.167550</td>\n",
       "      <td>0.169614</td>\n",
       "      <td>0.163721</td>\n",
       "      <td>-0.092473</td>\n",
       "      <td>-0.071442</td>\n",
       "      <td>-0.085453</td>\n",
       "      <td>-0.070746</td>\n",
       "      <td>-0.058181</td>\n",
       "      <td>-0.066197</td>\n",
       "    </tr>\n",
       "    <tr>\n",
       "      <th>ps-aug</th>\n",
       "      <td>-0.296985</td>\n",
       "      <td>-0.032769</td>\n",
       "      <td>0.663077</td>\n",
       "      <td>1.000000</td>\n",
       "      <td>0.766696</td>\n",
       "      <td>0.656102</td>\n",
       "      <td>0.619256</td>\n",
       "      <td>0.573571</td>\n",
       "      <td>0.226859</td>\n",
       "      <td>0.226721</td>\n",
       "      <td>0.216263</td>\n",
       "      <td>0.212535</td>\n",
       "      <td>0.211267</td>\n",
       "      <td>0.209504</td>\n",
       "      <td>-0.091863</td>\n",
       "      <td>-0.061063</td>\n",
       "      <td>-0.068086</td>\n",
       "      <td>-0.061594</td>\n",
       "      <td>-0.043835</td>\n",
       "      <td>-0.042020</td>\n",
       "    </tr>\n",
       "    <tr>\n",
       "      <th>ps-jul</th>\n",
       "      <td>-0.284455</td>\n",
       "      <td>-0.036024</td>\n",
       "      <td>0.569910</td>\n",
       "      <td>0.766696</td>\n",
       "      <td>1.000000</td>\n",
       "      <td>0.779373</td>\n",
       "      <td>0.692359</td>\n",
       "      <td>0.640763</td>\n",
       "      <td>0.205430</td>\n",
       "      <td>0.235607</td>\n",
       "      <td>0.226074</td>\n",
       "      <td>0.223225</td>\n",
       "      <td>0.221644</td>\n",
       "      <td>0.218770</td>\n",
       "      <td>-0.005720</td>\n",
       "      <td>-0.064760</td>\n",
       "      <td>-0.055509</td>\n",
       "      <td>-0.054553</td>\n",
       "      <td>-0.032471</td>\n",
       "      <td>-0.040084</td>\n",
       "    </tr>\n",
       "    <tr>\n",
       "      <th>ps-jun</th>\n",
       "      <td>-0.266059</td>\n",
       "      <td>-0.021548</td>\n",
       "      <td>0.538579</td>\n",
       "      <td>0.656102</td>\n",
       "      <td>0.779373</td>\n",
       "      <td>1.000000</td>\n",
       "      <td>0.828237</td>\n",
       "      <td>0.729308</td>\n",
       "      <td>0.198152</td>\n",
       "      <td>0.224280</td>\n",
       "      <td>0.244757</td>\n",
       "      <td>0.242653</td>\n",
       "      <td>0.239421</td>\n",
       "      <td>0.235274</td>\n",
       "      <td>-0.012491</td>\n",
       "      <td>0.005099</td>\n",
       "      <td>-0.071072</td>\n",
       "      <td>-0.051212</td>\n",
       "      <td>-0.032647</td>\n",
       "      <td>-0.030768</td>\n",
       "    </tr>\n",
       "    <tr>\n",
       "      <th>ps-may</th>\n",
       "      <td>-0.248085</td>\n",
       "      <td>-0.020607</td>\n",
       "      <td>0.506934</td>\n",
       "      <td>0.619256</td>\n",
       "      <td>0.692359</td>\n",
       "      <td>0.828237</td>\n",
       "      <td>1.000000</td>\n",
       "      <td>0.821477</td>\n",
       "      <td>0.193311</td>\n",
       "      <td>0.216565</td>\n",
       "      <td>0.236447</td>\n",
       "      <td>0.260683</td>\n",
       "      <td>0.257782</td>\n",
       "      <td>0.251191</td>\n",
       "      <td>-0.008235</td>\n",
       "      <td>0.005587</td>\n",
       "      <td>0.011029</td>\n",
       "      <td>-0.068143</td>\n",
       "      <td>-0.030639</td>\n",
       "      <td>-0.027957</td>\n",
       "    </tr>\n",
       "    <tr>\n",
       "      <th>ps-apr</th>\n",
       "      <td>-0.232110</td>\n",
       "      <td>-0.020194</td>\n",
       "      <td>0.473628</td>\n",
       "      <td>0.573571</td>\n",
       "      <td>0.640763</td>\n",
       "      <td>0.729308</td>\n",
       "      <td>0.821477</td>\n",
       "      <td>1.000000</td>\n",
       "      <td>0.200355</td>\n",
       "      <td>0.224104</td>\n",
       "      <td>0.238955</td>\n",
       "      <td>0.259385</td>\n",
       "      <td>0.283551</td>\n",
       "      <td>0.278972</td>\n",
       "      <td>0.001159</td>\n",
       "      <td>-0.002343</td>\n",
       "      <td>0.004737</td>\n",
       "      <td>0.018484</td>\n",
       "      <td>-0.041612</td>\n",
       "      <td>-0.028068</td>\n",
       "    </tr>\n",
       "    <tr>\n",
       "      <th>ba-sep</th>\n",
       "      <td>0.295531</td>\n",
       "      <td>0.048580</td>\n",
       "      <td>0.174900</td>\n",
       "      <td>0.226859</td>\n",
       "      <td>0.205430</td>\n",
       "      <td>0.198152</td>\n",
       "      <td>0.193311</td>\n",
       "      <td>0.200355</td>\n",
       "      <td>1.000000</td>\n",
       "      <td>0.950307</td>\n",
       "      <td>0.901664</td>\n",
       "      <td>0.857684</td>\n",
       "      <td>0.828271</td>\n",
       "      <td>0.802802</td>\n",
       "      <td>0.139612</td>\n",
       "      <td>0.117288</td>\n",
       "      <td>0.145548</td>\n",
       "      <td>0.163476</td>\n",
       "      <td>0.170634</td>\n",
       "      <td>0.181748</td>\n",
       "    </tr>\n",
       "    <tr>\n",
       "      <th>ba-aug</th>\n",
       "      <td>0.286821</td>\n",
       "      <td>0.048349</td>\n",
       "      <td>0.177987</td>\n",
       "      <td>0.226721</td>\n",
       "      <td>0.235607</td>\n",
       "      <td>0.224280</td>\n",
       "      <td>0.216565</td>\n",
       "      <td>0.224104</td>\n",
       "      <td>0.950307</td>\n",
       "      <td>1.000000</td>\n",
       "      <td>0.938532</td>\n",
       "      <td>0.892050</td>\n",
       "      <td>0.862062</td>\n",
       "      <td>0.834672</td>\n",
       "      <td>0.279951</td>\n",
       "      <td>0.127276</td>\n",
       "      <td>0.141495</td>\n",
       "      <td>0.152835</td>\n",
       "      <td>0.162596</td>\n",
       "      <td>0.167714</td>\n",
       "    </tr>\n",
       "    <tr>\n",
       "      <th>ba-jul</th>\n",
       "      <td>0.296212</td>\n",
       "      <td>0.052346</td>\n",
       "      <td>0.169518</td>\n",
       "      <td>0.216263</td>\n",
       "      <td>0.226074</td>\n",
       "      <td>0.244757</td>\n",
       "      <td>0.236447</td>\n",
       "      <td>0.238955</td>\n",
       "      <td>0.901664</td>\n",
       "      <td>0.938532</td>\n",
       "      <td>1.000000</td>\n",
       "      <td>0.937995</td>\n",
       "      <td>0.899174</td>\n",
       "      <td>0.860036</td>\n",
       "      <td>0.259663</td>\n",
       "      <td>0.297892</td>\n",
       "      <td>0.144238</td>\n",
       "      <td>0.136809</td>\n",
       "      <td>0.174681</td>\n",
       "      <td>0.186198</td>\n",
       "    </tr>\n",
       "    <tr>\n",
       "      <th>ba-jun</th>\n",
       "      <td>0.303736</td>\n",
       "      <td>0.051416</td>\n",
       "      <td>0.167550</td>\n",
       "      <td>0.212535</td>\n",
       "      <td>0.223225</td>\n",
       "      <td>0.242653</td>\n",
       "      <td>0.260683</td>\n",
       "      <td>0.259385</td>\n",
       "      <td>0.857684</td>\n",
       "      <td>0.892050</td>\n",
       "      <td>0.937995</td>\n",
       "      <td>1.000000</td>\n",
       "      <td>0.941807</td>\n",
       "      <td>0.901090</td>\n",
       "      <td>0.249243</td>\n",
       "      <td>0.234050</td>\n",
       "      <td>0.308071</td>\n",
       "      <td>0.128996</td>\n",
       "      <td>0.180457</td>\n",
       "      <td>0.181675</td>\n",
       "    </tr>\n",
       "    <tr>\n",
       "      <th>ba-may</th>\n",
       "      <td>0.303133</td>\n",
       "      <td>0.048247</td>\n",
       "      <td>0.169614</td>\n",
       "      <td>0.211267</td>\n",
       "      <td>0.221644</td>\n",
       "      <td>0.239421</td>\n",
       "      <td>0.257782</td>\n",
       "      <td>0.283551</td>\n",
       "      <td>0.828271</td>\n",
       "      <td>0.862062</td>\n",
       "      <td>0.899174</td>\n",
       "      <td>0.941807</td>\n",
       "      <td>1.000000</td>\n",
       "      <td>0.946188</td>\n",
       "      <td>0.229966</td>\n",
       "      <td>0.202792</td>\n",
       "      <td>0.237065</td>\n",
       "      <td>0.292707</td>\n",
       "      <td>0.155322</td>\n",
       "      <td>0.164450</td>\n",
       "    </tr>\n",
       "    <tr>\n",
       "      <th>ba-apr</th>\n",
       "      <td>0.295468</td>\n",
       "      <td>0.043793</td>\n",
       "      <td>0.163721</td>\n",
       "      <td>0.209504</td>\n",
       "      <td>0.218770</td>\n",
       "      <td>0.235274</td>\n",
       "      <td>0.251191</td>\n",
       "      <td>0.278972</td>\n",
       "      <td>0.802802</td>\n",
       "      <td>0.834672</td>\n",
       "      <td>0.860036</td>\n",
       "      <td>0.901090</td>\n",
       "      <td>0.946188</td>\n",
       "      <td>1.000000</td>\n",
       "      <td>0.215169</td>\n",
       "      <td>0.162291</td>\n",
       "      <td>0.213956</td>\n",
       "      <td>0.261312</td>\n",
       "      <td>0.313244</td>\n",
       "      <td>0.109684</td>\n",
       "    </tr>\n",
       "    <tr>\n",
       "      <th>pa-sep</th>\n",
       "      <td>0.208763</td>\n",
       "      <td>0.023318</td>\n",
       "      <td>-0.092473</td>\n",
       "      <td>-0.091863</td>\n",
       "      <td>-0.005720</td>\n",
       "      <td>-0.012491</td>\n",
       "      <td>-0.008235</td>\n",
       "      <td>0.001159</td>\n",
       "      <td>0.139612</td>\n",
       "      <td>0.279951</td>\n",
       "      <td>0.259663</td>\n",
       "      <td>0.249243</td>\n",
       "      <td>0.229966</td>\n",
       "      <td>0.215169</td>\n",
       "      <td>1.000000</td>\n",
       "      <td>0.330093</td>\n",
       "      <td>0.252074</td>\n",
       "      <td>0.156476</td>\n",
       "      <td>0.211457</td>\n",
       "      <td>0.136875</td>\n",
       "    </tr>\n",
       "    <tr>\n",
       "      <th>pa-aug</th>\n",
       "      <td>0.192396</td>\n",
       "      <td>0.021721</td>\n",
       "      <td>-0.071442</td>\n",
       "      <td>-0.061063</td>\n",
       "      <td>-0.064760</td>\n",
       "      <td>0.005099</td>\n",
       "      <td>0.005587</td>\n",
       "      <td>-0.002343</td>\n",
       "      <td>0.117288</td>\n",
       "      <td>0.127276</td>\n",
       "      <td>0.297892</td>\n",
       "      <td>0.234050</td>\n",
       "      <td>0.202792</td>\n",
       "      <td>0.162291</td>\n",
       "      <td>0.330093</td>\n",
       "      <td>1.000000</td>\n",
       "      <td>0.209693</td>\n",
       "      <td>0.099374</td>\n",
       "      <td>0.139907</td>\n",
       "      <td>0.149983</td>\n",
       "    </tr>\n",
       "    <tr>\n",
       "      <th>pa-jul</th>\n",
       "      <td>0.225850</td>\n",
       "      <td>0.025286</td>\n",
       "      <td>-0.085453</td>\n",
       "      <td>-0.068086</td>\n",
       "      <td>-0.055509</td>\n",
       "      <td>-0.071072</td>\n",
       "      <td>0.011029</td>\n",
       "      <td>0.004737</td>\n",
       "      <td>0.145548</td>\n",
       "      <td>0.141495</td>\n",
       "      <td>0.144238</td>\n",
       "      <td>0.308071</td>\n",
       "      <td>0.237065</td>\n",
       "      <td>0.213956</td>\n",
       "      <td>0.252074</td>\n",
       "      <td>0.209693</td>\n",
       "      <td>1.000000</td>\n",
       "      <td>0.192414</td>\n",
       "      <td>0.182097</td>\n",
       "      <td>0.173138</td>\n",
       "    </tr>\n",
       "    <tr>\n",
       "      <th>pa-jun</th>\n",
       "      <td>0.213702</td>\n",
       "      <td>0.020937</td>\n",
       "      <td>-0.070746</td>\n",
       "      <td>-0.061594</td>\n",
       "      <td>-0.054553</td>\n",
       "      <td>-0.051212</td>\n",
       "      <td>-0.068143</td>\n",
       "      <td>0.018484</td>\n",
       "      <td>0.163476</td>\n",
       "      <td>0.152835</td>\n",
       "      <td>0.136809</td>\n",
       "      <td>0.128996</td>\n",
       "      <td>0.292707</td>\n",
       "      <td>0.261312</td>\n",
       "      <td>0.156476</td>\n",
       "      <td>0.099374</td>\n",
       "      <td>0.192414</td>\n",
       "      <td>1.000000</td>\n",
       "      <td>0.173510</td>\n",
       "      <td>0.137783</td>\n",
       "    </tr>\n",
       "    <tr>\n",
       "      <th>pa-may</th>\n",
       "      <td>0.226242</td>\n",
       "      <td>0.012551</td>\n",
       "      <td>-0.058181</td>\n",
       "      <td>-0.043835</td>\n",
       "      <td>-0.032471</td>\n",
       "      <td>-0.032647</td>\n",
       "      <td>-0.030639</td>\n",
       "      <td>-0.041612</td>\n",
       "      <td>0.170634</td>\n",
       "      <td>0.162596</td>\n",
       "      <td>0.174681</td>\n",
       "      <td>0.180457</td>\n",
       "      <td>0.155322</td>\n",
       "      <td>0.313244</td>\n",
       "      <td>0.211457</td>\n",
       "      <td>0.139907</td>\n",
       "      <td>0.182097</td>\n",
       "      <td>0.173510</td>\n",
       "      <td>1.000000</td>\n",
       "      <td>0.150200</td>\n",
       "    </tr>\n",
       "    <tr>\n",
       "      <th>pa-apr</th>\n",
       "      <td>0.217154</td>\n",
       "      <td>0.011559</td>\n",
       "      <td>-0.066197</td>\n",
       "      <td>-0.042020</td>\n",
       "      <td>-0.040084</td>\n",
       "      <td>-0.030768</td>\n",
       "      <td>-0.027957</td>\n",
       "      <td>-0.028068</td>\n",
       "      <td>0.181748</td>\n",
       "      <td>0.167714</td>\n",
       "      <td>0.186198</td>\n",
       "      <td>0.181675</td>\n",
       "      <td>0.164450</td>\n",
       "      <td>0.109684</td>\n",
       "      <td>0.136875</td>\n",
       "      <td>0.149983</td>\n",
       "      <td>0.173138</td>\n",
       "      <td>0.137783</td>\n",
       "      <td>0.150200</td>\n",
       "      <td>1.000000</td>\n",
       "    </tr>\n",
       "  </tbody>\n",
       "</table>\n",
       "</div>"
      ],
      "text/plain": [
       "           limit       age    ps-sep    ps-aug    ps-jul    ps-jun    ps-may  \\\n",
       "limit   1.000000  0.088969 -0.272013 -0.296985 -0.284455 -0.266059 -0.248085   \n",
       "age     0.088969  1.000000 -0.027054 -0.032769 -0.036024 -0.021548 -0.020607   \n",
       "ps-sep -0.272013 -0.027054  1.000000  0.663077  0.569910  0.538579  0.506934   \n",
       "ps-aug -0.296985 -0.032769  0.663077  1.000000  0.766696  0.656102  0.619256   \n",
       "ps-jul -0.284455 -0.036024  0.569910  0.766696  1.000000  0.779373  0.692359   \n",
       "ps-jun -0.266059 -0.021548  0.538579  0.656102  0.779373  1.000000  0.828237   \n",
       "ps-may -0.248085 -0.020607  0.506934  0.619256  0.692359  0.828237  1.000000   \n",
       "ps-apr -0.232110 -0.020194  0.473628  0.573571  0.640763  0.729308  0.821477   \n",
       "ba-sep  0.295531  0.048580  0.174900  0.226859  0.205430  0.198152  0.193311   \n",
       "ba-aug  0.286821  0.048349  0.177987  0.226721  0.235607  0.224280  0.216565   \n",
       "ba-jul  0.296212  0.052346  0.169518  0.216263  0.226074  0.244757  0.236447   \n",
       "ba-jun  0.303736  0.051416  0.167550  0.212535  0.223225  0.242653  0.260683   \n",
       "ba-may  0.303133  0.048247  0.169614  0.211267  0.221644  0.239421  0.257782   \n",
       "ba-apr  0.295468  0.043793  0.163721  0.209504  0.218770  0.235274  0.251191   \n",
       "pa-sep  0.208763  0.023318 -0.092473 -0.091863 -0.005720 -0.012491 -0.008235   \n",
       "pa-aug  0.192396  0.021721 -0.071442 -0.061063 -0.064760  0.005099  0.005587   \n",
       "pa-jul  0.225850  0.025286 -0.085453 -0.068086 -0.055509 -0.071072  0.011029   \n",
       "pa-jun  0.213702  0.020937 -0.070746 -0.061594 -0.054553 -0.051212 -0.068143   \n",
       "pa-may  0.226242  0.012551 -0.058181 -0.043835 -0.032471 -0.032647 -0.030639   \n",
       "pa-apr  0.217154  0.011559 -0.066197 -0.042020 -0.040084 -0.030768 -0.027957   \n",
       "\n",
       "          ps-apr    ba-sep    ba-aug    ba-jul    ba-jun    ba-may    ba-apr  \\\n",
       "limit  -0.232110  0.295531  0.286821  0.296212  0.303736  0.303133  0.295468   \n",
       "age    -0.020194  0.048580  0.048349  0.052346  0.051416  0.048247  0.043793   \n",
       "ps-sep  0.473628  0.174900  0.177987  0.169518  0.167550  0.169614  0.163721   \n",
       "ps-aug  0.573571  0.226859  0.226721  0.216263  0.212535  0.211267  0.209504   \n",
       "ps-jul  0.640763  0.205430  0.235607  0.226074  0.223225  0.221644  0.218770   \n",
       "ps-jun  0.729308  0.198152  0.224280  0.244757  0.242653  0.239421  0.235274   \n",
       "ps-may  0.821477  0.193311  0.216565  0.236447  0.260683  0.257782  0.251191   \n",
       "ps-apr  1.000000  0.200355  0.224104  0.238955  0.259385  0.283551  0.278972   \n",
       "ba-sep  0.200355  1.000000  0.950307  0.901664  0.857684  0.828271  0.802802   \n",
       "ba-aug  0.224104  0.950307  1.000000  0.938532  0.892050  0.862062  0.834672   \n",
       "ba-jul  0.238955  0.901664  0.938532  1.000000  0.937995  0.899174  0.860036   \n",
       "ba-jun  0.259385  0.857684  0.892050  0.937995  1.000000  0.941807  0.901090   \n",
       "ba-may  0.283551  0.828271  0.862062  0.899174  0.941807  1.000000  0.946188   \n",
       "ba-apr  0.278972  0.802802  0.834672  0.860036  0.901090  0.946188  1.000000   \n",
       "pa-sep  0.001159  0.139612  0.279951  0.259663  0.249243  0.229966  0.215169   \n",
       "pa-aug -0.002343  0.117288  0.127276  0.297892  0.234050  0.202792  0.162291   \n",
       "pa-jul  0.004737  0.145548  0.141495  0.144238  0.308071  0.237065  0.213956   \n",
       "pa-jun  0.018484  0.163476  0.152835  0.136809  0.128996  0.292707  0.261312   \n",
       "pa-may -0.041612  0.170634  0.162596  0.174681  0.180457  0.155322  0.313244   \n",
       "pa-apr -0.028068  0.181748  0.167714  0.186198  0.181675  0.164450  0.109684   \n",
       "\n",
       "          pa-sep    pa-aug    pa-jul    pa-jun    pa-may    pa-apr  \n",
       "limit   0.208763  0.192396  0.225850  0.213702  0.226242  0.217154  \n",
       "age     0.023318  0.021721  0.025286  0.020937  0.012551  0.011559  \n",
       "ps-sep -0.092473 -0.071442 -0.085453 -0.070746 -0.058181 -0.066197  \n",
       "ps-aug -0.091863 -0.061063 -0.068086 -0.061594 -0.043835 -0.042020  \n",
       "ps-jul -0.005720 -0.064760 -0.055509 -0.054553 -0.032471 -0.040084  \n",
       "ps-jun -0.012491  0.005099 -0.071072 -0.051212 -0.032647 -0.030768  \n",
       "ps-may -0.008235  0.005587  0.011029 -0.068143 -0.030639 -0.027957  \n",
       "ps-apr  0.001159 -0.002343  0.004737  0.018484 -0.041612 -0.028068  \n",
       "ba-sep  0.139612  0.117288  0.145548  0.163476  0.170634  0.181748  \n",
       "ba-aug  0.279951  0.127276  0.141495  0.152835  0.162596  0.167714  \n",
       "ba-jul  0.259663  0.297892  0.144238  0.136809  0.174681  0.186198  \n",
       "ba-jun  0.249243  0.234050  0.308071  0.128996  0.180457  0.181675  \n",
       "ba-may  0.229966  0.202792  0.237065  0.292707  0.155322  0.164450  \n",
       "ba-apr  0.215169  0.162291  0.213956  0.261312  0.313244  0.109684  \n",
       "pa-sep  1.000000  0.330093  0.252074  0.156476  0.211457  0.136875  \n",
       "pa-aug  0.330093  1.000000  0.209693  0.099374  0.139907  0.149983  \n",
       "pa-jul  0.252074  0.209693  1.000000  0.192414  0.182097  0.173138  \n",
       "pa-jun  0.156476  0.099374  0.192414  1.000000  0.173510  0.137783  \n",
       "pa-may  0.211457  0.139907  0.182097  0.173510  1.000000  0.150200  \n",
       "pa-apr  0.136875  0.149983  0.173138  0.137783  0.150200  1.000000  "
      ]
     },
     "execution_count": 24,
     "metadata": {},
     "output_type": "execute_result"
    }
   ],
   "source": [
    "data.corr()"
   ]
  },
  {
   "cell_type": "code",
   "execution_count": 26,
   "metadata": {},
   "outputs": [
    {
     "data": {
      "text/plain": [
       "{'whiskers': [<matplotlib.lines.Line2D at 0x24842d0a160>,\n",
       "  <matplotlib.lines.Line2D at 0x24842d0a5f8>],\n",
       " 'caps': [<matplotlib.lines.Line2D at 0x24842d0aa20>,\n",
       "  <matplotlib.lines.Line2D at 0x24842d0ae48>],\n",
       " 'boxes': [<matplotlib.lines.Line2D at 0x24842cfdfd0>],\n",
       " 'medians': [<matplotlib.lines.Line2D at 0x24842d142b0>],\n",
       " 'fliers': [<matplotlib.lines.Line2D at 0x24842d146d8>],\n",
       " 'means': []}"
      ]
     },
     "execution_count": 26,
     "metadata": {},
     "output_type": "execute_result"
    },
    {
     "data": {
      "image/png": "[encoded data removed]",
      "text/plain": [
       "<Figure size 432x288 with 1 Axes>"
      ]
     },
     "metadata": {},
     "output_type": "display_data"
    }
   ],
   "source": [
    "plt.boxplot(data['age'])"
   ]
  },
  {
   "cell_type": "code",
   "execution_count": 27,
   "metadata": {},
   "outputs": [
    {
     "data": {
      "text/plain": [
       "{'whiskers': [<matplotlib.lines.Line2D at 0x24842d696a0>,\n",
       "  <matplotlib.lines.Line2D at 0x24842d69b38>],\n",
       " 'caps': [<matplotlib.lines.Line2D at 0x24842d69f60>,\n",
       "  <matplotlib.lines.Line2D at 0x24842d743c8>],\n",
       " 'boxes': [<matplotlib.lines.Line2D at 0x24842d69550>],\n",
       " 'medians': [<matplotlib.lines.Line2D at 0x24842d747f0>],\n",
       " 'fliers': [<matplotlib.lines.Line2D at 0x24842d74c18>],\n",
       " 'means': []}"
      ]
     },
     "execution_count": 27,
     "metadata": {},
     "output_type": "execute_result"
    },
    {
     "data": {
      "image/png": "[encoded data removed]",
      "text/plain": [
       "<Figure size 432x288 with 1 Axes>"
      ]
     },
     "metadata": {},
     "output_type": "display_data"
    }
   ],
   "source": [
    "plt.boxplot(data['limit'])"
   ]
  },
  {
   "cell_type": "code",
   "execution_count": 28,
   "metadata": {},
   "outputs": [
    {
     "data": {
      "text/plain": [
       "{'whiskers': [<matplotlib.lines.Line2D at 0x24842dc8eb8>,\n",
       "  <matplotlib.lines.Line2D at 0x24842dd2390>],\n",
       " 'caps': [<matplotlib.lines.Line2D at 0x24842dd27b8>,\n",
       "  <matplotlib.lines.Line2D at 0x24842dd2be0>],\n",
       " 'boxes': [<matplotlib.lines.Line2D at 0x24842dc8d68>],\n",
       " 'medians': [<matplotlib.lines.Line2D at 0x24842ddd048>],\n",
       " 'fliers': [<matplotlib.lines.Line2D at 0x24842ddd470>],\n",
       " 'means': []}"
      ]
     },
     "execution_count": 28,
     "metadata": {},
     "output_type": "execute_result"
    },
    {
     "data": {
      "image/png": "[encoded data removed]",
      "text/plain": [
       "<Figure size 432x288 with 1 Axes>"
      ]
     },
     "metadata": {},
     "output_type": "display_data"
    }
   ],
   "source": [
    "plt.boxplot(data['ps-sep'])"
   ]
  },
  {
   "cell_type": "code",
   "execution_count": 30,
   "metadata": {},
   "outputs": [
    {
     "data": {
      "text/plain": [
       "{'whiskers': [<matplotlib.lines.Line2D at 0x24842e6b6d8>,\n",
       "  <matplotlib.lines.Line2D at 0x24842e6bb70>],\n",
       " 'caps': [<matplotlib.lines.Line2D at 0x24842e6bf98>,\n",
       "  <matplotlib.lines.Line2D at 0x24842e74400>],\n",
       " 'boxes': [<matplotlib.lines.Line2D at 0x24842e6b588>],\n",
       " 'medians': [<matplotlib.lines.Line2D at 0x24842e74828>],\n",
       " 'fliers': [<matplotlib.lines.Line2D at 0x24842e74c50>],\n",
       " 'means': []}"
      ]
     },
     "execution_count": 30,
     "metadata": {},
     "output_type": "execute_result"
    },
    {
     "data": {
      "image/png": "[encoded data removed]",
      "text/plain": [
       "<Figure size 432x288 with 1 Axes>"
      ]
     },
     "metadata": {},
     "output_type": "display_data"
    }
   ],
   "source": [
    "plt.boxplot(data['ps-aug'])"
   ]
  },
  {
   "cell_type": "code",
   "execution_count": 31,
   "metadata": {},
   "outputs": [
    {
     "data": {
      "text/plain": [
       "{'whiskers': [<matplotlib.lines.Line2D at 0x24843e933c8>,\n",
       "  <matplotlib.lines.Line2D at 0x24843e93860>],\n",
       " 'caps': [<matplotlib.lines.Line2D at 0x24843e93c88>,\n",
       "  <matplotlib.lines.Line2D at 0x24843e9a0f0>],\n",
       " 'boxes': [<matplotlib.lines.Line2D at 0x24843e93278>],\n",
       " 'medians': [<matplotlib.lines.Line2D at 0x24843e9a518>],\n",
       " 'fliers': [<matplotlib.lines.Line2D at 0x24843e9a940>],\n",
       " 'means': []}"
      ]
     },
     "execution_count": 31,
     "metadata": {},
     "output_type": "execute_result"
    },
    {
     "data": {
      "image/png": "[encoded data removed]",
      "text/plain": [
       "<Figure size 432x288 with 1 Axes>"
      ]
     },
     "metadata": {},
     "output_type": "display_data"
    }
   ],
   "source": [
    "plt.boxplot(data['ps-jul'])"
   ]
  },
  {
   "cell_type": "code",
   "execution_count": 33,
   "metadata": {},
   "outputs": [
    {
     "data": {
      "text/plain": [
       "{'whiskers': [<matplotlib.lines.Line2D at 0x24844067d68>,\n",
       "  <matplotlib.lines.Line2D at 0x2484406e240>],\n",
       " 'caps': [<matplotlib.lines.Line2D at 0x2484406e668>,\n",
       "  <matplotlib.lines.Line2D at 0x2484406ea90>],\n",
       " 'boxes': [<matplotlib.lines.Line2D at 0x24844067c18>],\n",
       " 'medians': [<matplotlib.lines.Line2D at 0x2484406eeb8>],\n",
       " 'fliers': [<matplotlib.lines.Line2D at 0x24844078320>],\n",
       " 'means': []}"
      ]
     },
     "execution_count": 33,
     "metadata": {},
     "output_type": "execute_result"
    },
    {
     "data": {
      "image/png": "[encoded data removed]",
      "text/plain": [
       "<Figure size 432x288 with 1 Axes>"
      ]
     },
     "metadata": {},
     "output_type": "display_data"
    }
   ],
   "source": [
    "plt.boxplot(data['ps-jun'])"
   ]
  },
  {
   "cell_type": "code",
   "execution_count": null,
   "metadata": {},
   "outputs": [],
   "source": [
    "plt.boxplot(data['ps-sep'])"
   ]
  }
 ],
 "metadata": {
  "kernelspec": {
   "display_name": "Python 3",
   "language": "python",
   "name": "python3"
  },
  "language_info": {
   "codemirror_mode": {
    "name": "ipython",
    "version": 3
   },
   "file_extension": ".py",
   "mimetype": "text/x-python",
   "name": "python",
   "nbconvert_exporter": "python",
   "pygments_lexer": "ipython3",
   "version": "3.6.5"
  }
 },
 "nbformat": 4,
 "nbformat_minor": 2
}
