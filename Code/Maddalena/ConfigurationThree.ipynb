{
 "cells": [
  {
   "cell_type": "code",
   "execution_count": 1,
   "metadata": {},
   "outputs": [],
   "source": [
    "import numpy as np\n",
    "import pandas as pd\n",
    "import matplotlib.pyplot as plt\n",
    "\n",
    "data=pd.read_csv(\"credit_default_train.csv\")"
   ]
  },
  {
   "cell_type": "code",
   "execution_count": 2,
   "metadata": {},
   "outputs": [],
   "source": [
    "nc=data.drop(['sex', 'education', 'status', 'age'], axis=1)"
   ]
  },
  {
   "cell_type": "code",
   "execution_count": 3,
   "metadata": {},
   "outputs": [
    {
     "name": "stdout",
     "output_type": "stream",
     "text": [
      "count  6329\n",
      "Rows:  3498\n"
     ]
    }
   ],
   "source": [
    "#FORMULA 1\n",
    "count=0\n",
    "rows=set()\n",
    "for i in range(0, len(data)):\n",
    "    for j in range(12, 17):\n",
    "        ba=data.iat[i, j]\n",
    "        if(ba!=0):\n",
    "            pa=data.iat[i, j+5]\n",
    "            if((ba-pa)<=0):\n",
    "                ps=data.iat[i, j-5]\n",
    "                if(ps!=-1):\n",
    "                    count+=1\n",
    "                    rows.add(i)\n",
    "print(\"count \", count)\n",
    "print('Rows: ', len(rows))"
   ]
  },
  {
   "cell_type": "code",
   "execution_count": 4,
   "metadata": {},
   "outputs": [
    {
     "name": "stdout",
     "output_type": "stream",
     "text": [
      "Different from -2:  1062\n",
      "Equals to -2:  4448\n",
      "Rows:  946\n",
      "Minus Two:  1658\n"
     ]
    }
   ],
   "source": [
    "#Se BA==0 non è detto che PS debba essere -2. \n",
    "#Perchè il BA==0 può essere conseguenza di un precedente BA<0 che è stato conpensato da una nuova spesa (portandolo a -2)\n",
    "#FORMULA 2\n",
    "count=0\n",
    "mtwo=0\n",
    "trows=set()\n",
    "rows=set()\n",
    "for i in range(0, len(data)):\n",
    "    for j in range(11,16):\n",
    "        ba=data.iat[i,j]\n",
    "        precBa=data.iat[i,j+1]\n",
    "        pa=data.iat[i,j+6]\n",
    "        ps=data.iat[i,j-5]\n",
    "        if(ba<=0):\n",
    "            if(ba==(precBa-pa)):\n",
    "                if(ps!=-2):\n",
    "                    count+=1\n",
    "                    rows.add(i)\n",
    "                else:\n",
    "                    mtwo+=1\n",
    "                    trows.add(i)\n",
    "print('Different from -2: ', count)\n",
    "print('Equals to -2: ', mtwo)\n",
    "print('Rows: ', len(rows))\n",
    "print('Minus Two: ', len(trows))"
   ]
  },
  {
   "cell_type": "code",
   "execution_count": 11,
   "metadata": {},
   "outputs": [
    {
     "data": {
      "text/html": [
       "<div>\n",
       "<style scoped>\n",
       "    .dataframe tbody tr th:only-of-type {\n",
       "        vertical-align: middle;\n",
       "    }\n",
       "\n",
       "    .dataframe tbody tr th {\n",
       "        vertical-align: top;\n",
       "    }\n",
       "\n",
       "    .dataframe thead th {\n",
       "        text-align: right;\n",
       "    }\n",
       "</style>\n",
       "<table border=\"1\" class=\"dataframe\">\n",
       "  <thead>\n",
       "    <tr style=\"text-align: right;\">\n",
       "      <th></th>\n",
       "      <th>limit</th>\n",
       "      <th>ps-sep</th>\n",
       "      <th>ps-aug</th>\n",
       "      <th>ps-jul</th>\n",
       "      <th>ps-jun</th>\n",
       "      <th>ps-may</th>\n",
       "      <th>ps-apr</th>\n",
       "      <th>ba-sep</th>\n",
       "      <th>ba-aug</th>\n",
       "      <th>ba-jul</th>\n",
       "      <th>ba-jun</th>\n",
       "      <th>ba-may</th>\n",
       "      <th>ba-apr</th>\n",
       "      <th>pa-sep</th>\n",
       "      <th>pa-aug</th>\n",
       "      <th>pa-jul</th>\n",
       "      <th>pa-jun</th>\n",
       "      <th>pa-may</th>\n",
       "      <th>pa-apr</th>\n",
       "      <th>credit_default</th>\n",
       "    </tr>\n",
       "  </thead>\n",
       "  <tbody>\n",
       "    <tr>\n",
       "      <th>0</th>\n",
       "      <td>50000</td>\n",
       "      <td>2</td>\n",
       "      <td>0</td>\n",
       "      <td>0</td>\n",
       "      <td>0</td>\n",
       "      <td>0</td>\n",
       "      <td>0</td>\n",
       "      <td>48966</td>\n",
       "      <td>49985</td>\n",
       "      <td>50760</td>\n",
       "      <td>49535</td>\n",
       "      <td>30358</td>\n",
       "      <td>30302</td>\n",
       "      <td>2130</td>\n",
       "      <td>1905</td>\n",
       "      <td>1811</td>\n",
       "      <td>1100</td>\n",
       "      <td>1100</td>\n",
       "      <td>1200</td>\n",
       "      <td>no</td>\n",
       "    </tr>\n",
       "  </tbody>\n",
       "</table>\n",
       "</div>"
      ],
      "text/plain": [
       "   limit  ps-sep  ps-aug  ps-jul  ps-jun  ps-may  ps-apr  ba-sep  ba-aug  \\\n",
       "0  50000       2       0       0       0       0       0   48966   49985   \n",
       "\n",
       "   ba-jul  ba-jun  ba-may  ba-apr  pa-sep  pa-aug  pa-jul  pa-jun  pa-may  \\\n",
       "0   50760   49535   30358   30302    2130    1905    1811    1100    1100   \n",
       "\n",
       "   pa-apr credit_default  \n",
       "0    1200             no  "
      ]
     },
     "execution_count": 11,
     "metadata": {},
     "output_type": "execute_result"
    }
   ],
   "source": [
    "nc.head(1)"
   ]
  },
  {
   "cell_type": "code",
   "execution_count": 5,
   "metadata": {},
   "outputs": [
    {
     "name": "stdout",
     "output_type": "stream",
     "text": [
      "Count:  6\n",
      "Rows:  6\n"
     ]
    }
   ],
   "source": [
    "#FORMULA 5\n",
    "count=0\n",
    "mtwo=0\n",
    "trows=set()\n",
    "rows=set()\n",
    "for i in range(0, len(data)):\n",
    "    for j in range(11,16):\n",
    "        ba=data.iat[i,j]\n",
    "        ps=data.iat[i,j-5]\n",
    "        if(ps==0):\n",
    "            if(ba<=0):\n",
    "                count+=1\n",
    "                rows.add(i)\n",
    "print('Count: ', count)\n",
    "print('Rows: ', len(rows))"
   ]
  },
  {
   "cell_type": "code",
   "execution_count": null,
   "metadata": {},
   "outputs": [],
   "source": []
  }
 ],
 "metadata": {
  "kernelspec": {
   "display_name": "Python 3",
   "language": "python",
   "name": "python3"
  },
  "language_info": {
   "codemirror_mode": {
    "name": "ipython",
    "version": 3
   },
   "file_extension": ".py",
   "mimetype": "text/x-python",
   "name": "python",
   "nbconvert_exporter": "python",
   "pygments_lexer": "ipython3",
   "version": "3.6.5"
  }
 },
 "nbformat": 4,
 "nbformat_minor": 2
}
