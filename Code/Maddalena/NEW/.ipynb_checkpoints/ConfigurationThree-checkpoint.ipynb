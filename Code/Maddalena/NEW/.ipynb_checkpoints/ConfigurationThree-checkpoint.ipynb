{
 "cells": [
  {
   "cell_type": "code",
   "execution_count": 1,
   "metadata": {},
   "outputs": [],
   "source": [
    "import numpy as np\n",
    "import pandas as pd\n",
    "import matplotlib.pyplot as plt\n",
    "\n",
    "data=pd.read_csv(\"../../../Dataset/credit_default_train.csv\")"
   ]
  },
  {
   "cell_type": "code",
   "execution_count": 6,
   "metadata": {},
   "outputs": [
    {
     "name": "stdout",
     "output_type": "stream",
     "text": [
      "count  3383\n",
      "Rows:  3383\n",
      "Tot:  8768\n",
      "Percentage of error:  38.58348540145985\n"
     ]
    }
   ],
   "source": [
    "#FORMULA 1\n",
    "count=0\n",
    "rows=set()\n",
    "tot=0\n",
    "for i in range(0, len(data)):\n",
    "    for j in range(12, 16):\n",
    "        ba=data.iat[i, j]\n",
    "        if(ba>0):\n",
    "            pa=data.iat[i, j+5]\n",
    "            if((ba-pa)<=0):\n",
    "                ps=data.iat[i, j-5]\n",
    "                tot+=1\n",
    "                if(ps!=-1):\n",
    "                    count+=1\n",
    "                    rows.add((i,j))\n",
    "print(\"Total number of cells: \", tot)\n",
    "print(\"Total number of errors: \", count)\n",
    "print('Rows involved: ', len(rows))\n",
    "perc=(count*100)/tot\n",
    "print(\"Percentage of error: \", perc)"
   ]
  },
  {
   "cell_type": "code",
   "execution_count": null,
   "metadata": {},
   "outputs": [],
   "source": [
    "#combinazioni controllate dalla FORMULA 1\n",
    "for j in range(12, 16):\n",
    "    print(\"ROW\")\n",
    "    print(data.columns[j])\n",
    "    print(data.columns[j+5])\n",
    "    print(data.columns[j-5])"
   ]
  },
  {
   "cell_type": "code",
   "execution_count": 167,
   "metadata": {},
   "outputs": [],
   "source": [
    "#Correzione FORMULA 1\n",
    "#Sistemo valori -1\n",
    "for i in range(0, len(data)):\n",
    "    for j in range(12, 16):\n",
    "        ba=data.iat[i, j]\n",
    "        if(ba>0):\n",
    "            pa=data.iat[i, j+5]\n",
    "            if((ba-pa)<=0):\n",
    "                ps=data.iat[i, j-5]\n",
    "                if(ps!=-1):\n",
    "                    data.iloc[i,j-5]=-1"
   ]
  },
  {
   "cell_type": "code",
   "execution_count": 7,
   "metadata": {},
   "outputs": [
    {
     "name": "stdout",
     "output_type": "stream",
     "text": [
      "Different from -2:  1062\n",
      "Rows:  1062\n",
      "Tot:  5510\n",
      "Percentage of error:  19.27404718693285\n"
     ]
    }
   ],
   "source": [
    "#FORMULA 2\n",
    "#Se BA==0 non è detto che PS debba essere -2. \n",
    "#Perchè il BA==0 può essere conseguenza di un precedente BA<0 che è stato conpensato da una nuova spesa (portandolo a -2)\n",
    "tot=0\n",
    "count=0\n",
    "rows=set()\n",
    "for i in range(0, len(data)):\n",
    "    for j in range(11,16):\n",
    "        ba=data.iat[i,j]\n",
    "        precBa=data.iat[i,j+1]\n",
    "        pa=data.iat[i,j+6]\n",
    "        ps=data.iat[i,j-5]\n",
    "        if(ba<=0):\n",
    "            if(ba==(precBa-pa)):\n",
    "                tot+=1\n",
    "                if(ps!=-2):\n",
    "                    count+=1\n",
    "                    rows.add((i,j))\n",
    "print(\"Total number of cells: \", tot)\n",
    "print(\"Total number of errors: \", count)\n",
    "print('Rows involved: ', len(rows))\n",
    "perc=(count*100)/tot\n",
    "print(\"Percentage of error: \", perc)"
   ]
  },
  {
   "cell_type": "code",
   "execution_count": 141,
   "metadata": {
    "collapsed": true
   },
   "outputs": [
    {
     "name": "stdout",
     "output_type": "stream",
     "text": [
      "ROW\n",
      "ba-sep\n",
      "ba-aug\n",
      "pa-sep\n",
      "ps-aug\n",
      "ROW\n",
      "ba-aug\n",
      "ba-jul\n",
      "pa-aug\n",
      "ps-jul\n",
      "ROW\n",
      "ba-jul\n",
      "ba-jun\n",
      "pa-jul\n",
      "ps-jun\n",
      "ROW\n",
      "ba-jun\n",
      "ba-may\n",
      "pa-jun\n",
      "ps-may\n",
      "ROW\n",
      "ba-may\n",
      "ba-apr\n",
      "pa-may\n",
      "ps-apr\n"
     ]
    }
   ],
   "source": [
    "#combinazioni controllate dalla FORMULA 2\n",
    "for j in range(11,16):\n",
    "    print('ROW')\n",
    "    print(data.columns[j])\n",
    "    print(data.columns[j+1])\n",
    "    print(data.columns[j+6])\n",
    "    print(data.columns[j-5])"
   ]
  },
  {
   "cell_type": "code",
   "execution_count": 169,
   "metadata": {},
   "outputs": [],
   "source": [
    "#Correzione FORMULA 2\n",
    "#sistemo valori -2\n",
    "for i in range(0, len(data)):\n",
    "    for j in range(11,16):\n",
    "        ba=data.iat[i,j]\n",
    "        precBa=data.iat[i,j+1]\n",
    "        pa=data.iat[i,j+6]\n",
    "        ps=data.iat[i,j-5]\n",
    "        if(ba<=0):\n",
    "            if(ba==(precBa-pa)):\n",
    "                if(ps!=-2):\n",
    "                    data.iloc[i,j-5]=-2"
   ]
  },
  {
   "cell_type": "code",
   "execution_count": 8,
   "metadata": {},
   "outputs": [
    {
     "name": "stdout",
     "output_type": "stream",
     "text": [
      "Count 1350\n",
      "Rows 1232\n",
      "Tot:  21853\n",
      "Percentage of error:  6.177641513750973\n"
     ]
    }
   ],
   "source": [
    "#FORMULA 3\n",
    "#se ps==0 e ba>0 allora pa>0\n",
    "#non verificabile perchè non si sa qual è il credito minimo da pagare\n",
    "rows=set()\n",
    "count=0\n",
    "tot=0\n",
    "for i in range(0,len(data)):\n",
    "    for j in range(7,11):\n",
    "        ps=data.iat[i,j]\n",
    "        ba=data.iat[i,j+5]\n",
    "        if((ps==0) & (ba>0)):\n",
    "            ps=data.iat[i,j+5+5]\n",
    "            tot+=1\n",
    "            if(ps<=0):\n",
    "                count+=1\n",
    "                rows.add(i)\n",
    "print(\"Total number of cells: \", tot)\n",
    "print(\"Total number of errors: \", count)\n",
    "print('Rows involved: ', len(rows))\n",
    "perc=(count*100)/tot\n",
    "print(\"Percentage of error: \", perc)"
   ]
  },
  {
   "cell_type": "code",
   "execution_count": null,
   "metadata": {},
   "outputs": [],
   "source": [
    "#combinazioni controllate dalla FORMULA 3\n",
    "for j in range(7,11):\n",
    "    print(\"ROW\")\n",
    "    print(data.columns[j])\n",
    "    print(data.columns[j+5])\n",
    "    print(data.columns[j+5+5])"
   ]
  },
  {
   "cell_type": "code",
   "execution_count": 9,
   "metadata": {},
   "outputs": [
    {
     "name": "stdout",
     "output_type": "stream",
     "text": [
      "Count 779\n",
      "Rows 525\n",
      "Tot:  26349\n",
      "Percentage of error:  2.9564689362025125\n"
     ]
    }
   ],
   "source": [
    "#FORMULA 4\n",
    "#se ps>=0 e ba>0 allora il successivo ba deve essere maggiore ba-pa precedenti\n",
    "rows=set()\n",
    "count=0\n",
    "tot=0\n",
    "for i in range(0,len(data)):\n",
    "    for j in range(7,11):\n",
    "        ps=data.iat[i,j]\n",
    "        ba=data.iat[i,j+5]\n",
    "        if((ps>=0) & (ba>0)):\n",
    "            baPrec=data.iat[i,j+5+1]\n",
    "            paPrec=data.iat[i,j+5+1+5]\n",
    "            dif=baPrec-paPrec\n",
    "            tot+=1\n",
    "            if(ba<=dif):\n",
    "                count+=1\n",
    "                rows.add(i)\n",
    "print(\"Total number of cells: \", tot)\n",
    "print(\"Total number of errors: \", count)\n",
    "print('Rows involved: ', len(rows))\n",
    "perc=(count*100)/tot\n",
    "print(\"Percentage of error: \", perc)"
   ]
  },
  {
   "cell_type": "code",
   "execution_count": 158,
   "metadata": {
    "collapsed": true
   },
   "outputs": [
    {
     "name": "stdout",
     "output_type": "stream",
     "text": [
      "ROW\n",
      "ps-jul\n",
      "ba-aug\n",
      "ba-jul\n",
      "pa-aug\n",
      "ROW\n",
      "ps-jun\n",
      "ba-jul\n",
      "ba-jun\n",
      "pa-jul\n",
      "ROW\n",
      "ps-may\n",
      "ba-jun\n",
      "ba-may\n",
      "pa-jun\n",
      "ROW\n",
      "ps-apr\n",
      "ba-may\n",
      "ba-apr\n",
      "pa-may\n"
     ]
    }
   ],
   "source": [
    "#combinazioni controllate dalla FORMULA 4\n",
    "for j in range(7,11):\n",
    "    print(\"ROW\")\n",
    "    print(data.columns[j])\n",
    "    print(data.columns[j+5])\n",
    "    print(data.columns[j+5+1])\n",
    "    print(data.columns[j+5+1+5])"
   ]
  },
  {
   "cell_type": "code",
   "execution_count": 172,
   "metadata": {},
   "outputs": [
    {
     "name": "stdout",
     "output_type": "stream",
     "text": [
      "Count 0\n",
      "Rows 0\n"
     ]
    }
   ],
   "source": [
    "#FORMULA 5\n",
    "#se ho un ba<0 allora deve essere >= della differenza ra ba e pa precedenti\n",
    "count=0\n",
    "rows=set()\n",
    "for i in range(0, len(data)):\n",
    "    for j in range(11,16):\n",
    "        ba=data.iat[i,j]\n",
    "        if(ba<0):\n",
    "            precBa=data.iat[i,j+1]\n",
    "            pa=data.iat[i,j+1+5]\n",
    "            diff=ba-pa\n",
    "            if(ba<diff):\n",
    "                count+=1\n",
    "                rows.add(i)\n",
    "print(\"Count\",count)\n",
    "print(\"Rows\", len(rows))"
   ]
  },
  {
   "cell_type": "code",
   "execution_count": null,
   "metadata": {},
   "outputs": [],
   "source": []
  }
 ],
 "metadata": {
  "kernelspec": {
   "display_name": "Python 3",
   "language": "python",
   "name": "python3"
  },
  "language_info": {
   "codemirror_mode": {
    "name": "ipython",
    "version": 3
   },
   "file_extension": ".py",
   "mimetype": "text/x-python",
   "name": "python",
   "nbconvert_exporter": "python",
   "pygments_lexer": "ipython3",
   "version": "3.6.5"
  }
 },
 "nbformat": 4,
 "nbformat_minor": 2
}
