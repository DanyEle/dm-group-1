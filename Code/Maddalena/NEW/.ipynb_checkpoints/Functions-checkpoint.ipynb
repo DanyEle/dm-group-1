{
 "cells": [
  {
   "cell_type": "code",
   "execution_count": 5,
   "metadata": {},
   "outputs": [
    {
     "name": "stdout",
     "output_type": "stream",
     "text": [
      "Total number of cells:  10913\n",
      "Total number of errors:  2488\n",
      "Rows involved:  841\n",
      "Percentage of error:  22.798497205168147\n",
      "Different from -2:  1814\n",
      "Rows:  1585\n",
      "Tot:  5510\n",
      "Percentage of error:  32.92196007259528\n"
     ]
    }
   ],
   "source": [
    "import numpy as np\n",
    "import pandas as pd\n",
    "import matplotlib.pyplot as plt\n",
    "\n",
    "data=pd.read_csv(\"../../../Dataset/credit_default_train.csv\")\n",
    "\n",
    "def findMinusOne(data):\n",
    "    count=0\n",
    "    rows=set()\n",
    "    tot=0\n",
    "    for i in range(0, len(data)):\n",
    "        for j in range(12, 17):\n",
    "            ba=data.iat[i, j]\n",
    "            if(ba>0):\n",
    "                pa=data.iat[i, j+5]\n",
    "                if((ba-pa)<=0):\n",
    "                    ps=data.iat[i, j-6]\n",
    "                    tot+=1\n",
    "                    if(ps!=-1):\n",
    "                        count+=1\n",
    "                        rows.add(i)\n",
    "    print(\"Total number of cells: \", tot)\n",
    "    print(\"Total number of errors: \", count)\n",
    "    print('Rows involved: ', len(rows))\n",
    "    perc=(count*100)/tot\n",
    "    print(\"Percentage of error: \", perc)\n",
    "    return rows\n",
    "\n",
    "def correctMinusOne(data):\n",
    "    for i in range(0, len(data)):\n",
    "        for j in range(12, 17):\n",
    "            ba=data.iat[i, j]\n",
    "            if(ba>0):\n",
    "                pa=data.iat[i, j+5]\n",
    "                if((ba-pa)<=0):\n",
    "                    ps=data.iat[i, j-6]\n",
    "                    if(ps!=-1):\n",
    "                        data.iloc[i,j-6]=-1\n",
    "    return data\n",
    "\n",
    "def findMinusTwo(data):\n",
    "    tot=0\n",
    "    count=0\n",
    "    rows=set()\n",
    "    for i in range(0, len(data)):\n",
    "        for j in range(11,16):\n",
    "            ba=data.iat[i,j]\n",
    "            precBa=data.iat[i,j+1]\n",
    "            pa=data.iat[i,j+6]\n",
    "            ps=data.iat[i,j-6]\n",
    "            if(ba<=0):\n",
    "                if(ba==(precBa-pa)):\n",
    "                    tot+=1\n",
    "                    if(ps!=-2):\n",
    "                        count+=1\n",
    "                        rows.add(i)\n",
    "    print(\"Total number of cells: \", tot)\n",
    "    print(\"Total number of errors: \", count)\n",
    "    print('Rows involved: ', len(rows))\n",
    "    perc=(count*100)/tot\n",
    "    print(\"Percentage of error: \", perc)\n",
    "    return rows\n",
    "\n",
    "def correctMinusTwo(data):\n",
    "    for i in range(0, len(data)):\n",
    "        for j in range(11,16):\n",
    "            ba=data.iat[i,j]\n",
    "            precBa=data.iat[i,j+1]\n",
    "            pa=data.iat[i,j+6]\n",
    "            ps=data.iat[i,j-6]\n",
    "            if(ba<=0):\n",
    "                if(ba==(precBa-pa)):\n",
    "                    if(ps!=-2):\n",
    "                        data.iloc[i,j-6]=-2\n",
    "    return data\n",
    "\n",
    "findMinusOne(data)\n",
    "data=correctMinusOne(data)\n",
    "\n",
    "findMinusTwo(data)\n",
    "data=correctMinusTwo(data)"
   ]
  },
  {
   "cell_type": "code",
   "execution_count": 6,
   "metadata": {},
   "outputs": [
    {
     "name": "stdout",
     "output_type": "stream",
     "text": [
      "Total number of cells:  10913\n",
      "Total number of errors:  0\n",
      "Rows involved:  0\n",
      "Percentage of error:  0.0\n",
      "Different from -2:  0\n",
      "Rows:  0\n",
      "Tot:  5510\n",
      "Percentage of error:  0.0\n"
     ]
    },
    {
     "data": {
      "text/plain": [
       "set()"
      ]
     },
     "execution_count": 6,
     "metadata": {},
     "output_type": "execute_result"
    }
   ],
   "source": [
    "findMinusOne(data)\n",
    "findMinusTwo(data)"
   ]
  },
  {
   "cell_type": "code",
   "execution_count": null,
   "metadata": {},
   "outputs": [],
   "source": []
  }
 ],
 "metadata": {
  "kernelspec": {
   "display_name": "Python 3",
   "language": "python",
   "name": "python3"
  },
  "language_info": {
   "codemirror_mode": {
    "name": "ipython",
    "version": 3
   },
   "file_extension": ".py",
   "mimetype": "text/x-python",
   "name": "python",
   "nbconvert_exporter": "python",
   "pygments_lexer": "ipython3",
   "version": "3.6.5"
  }
 },
 "nbformat": 4,
 "nbformat_minor": 2
}
