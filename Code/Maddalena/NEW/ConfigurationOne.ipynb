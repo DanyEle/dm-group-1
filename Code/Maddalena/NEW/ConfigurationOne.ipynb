{
 "cells": [
  {
   "cell_type": "code",
   "execution_count": 7,
   "metadata": {},
   "outputs": [],
   "source": [
    "import numpy as np\n",
    "import pandas as pd\n",
    "import matplotlib.pyplot as plt\n",
    "\n",
    "data=pd.read_csv(\"../../../Dataset/credit_default_train.csv\")"
   ]
  },
  {
   "cell_type": "code",
   "execution_count": 12,
   "metadata": {},
   "outputs": [
    {
     "name": "stdout",
     "output_type": "stream",
     "text": [
      "count  2488\n",
      "Rows:  841\n",
      "Tot:  10913\n",
      "Percentage of error:  22.798497205168147\n"
     ]
    }
   ],
   "source": [
    "#FORMULA 1\n",
    "#Se pa è maggiore di ba allora ps deve essere -1 (tutto pagato)\n",
    "count=0\n",
    "rows=set()\n",
    "tot=0\n",
    "for i in range(0, len(data)):\n",
    "    for j in range(12, 17):\n",
    "        ba=data.iat[i, j]\n",
    "        if(ba>0):\n",
    "            pa=data.iat[i, j+5]\n",
    "            if((ba-pa)<=0):\n",
    "                ps=data.iat[i, j-6]\n",
    "                tot+=1\n",
    "                if(ps!=-1):\n",
    "                    count+=1\n",
    "                    rows.add(i)\n",
    "print(\"Total number of cells: \", tot)\n",
    "print(\"Total number of errors: \", count)\n",
    "print('Rows involved: ', len(rows))\n",
    "perc=(count*100)/tot\n",
    "print(\"Percentage of error: \", perc)"
   ]
  },
  {
   "cell_type": "code",
   "execution_count": 124,
   "metadata": {
    "collapsed": true
   },
   "outputs": [
    {
     "name": "stdout",
     "output_type": "stream",
     "text": [
      "ROW\n",
      "ba-aug\n",
      "pa-sep\n",
      "ps-aug\n",
      "ROW\n",
      "ba-jul\n",
      "pa-aug\n",
      "ps-jul\n",
      "ROW\n",
      "ba-jun\n",
      "pa-jul\n",
      "ps-jun\n",
      "ROW\n",
      "ba-may\n",
      "pa-jun\n",
      "ps-may\n",
      "ROW\n",
      "ba-apr\n",
      "pa-may\n",
      "ps-apr\n"
     ]
    }
   ],
   "source": [
    "#combinazioni controllate dalla FORMULA 1\n",
    "for j in range(12, 17):\n",
    "    print(\"ROW\")\n",
    "    print(data.columns[j])\n",
    "    print(data.columns[j+5])\n",
    "    print(data.columns[j-6])"
   ]
  },
  {
   "cell_type": "code",
   "execution_count": 132,
   "metadata": {},
   "outputs": [],
   "source": [
    "#Correzione FORMULA 1\n",
    "#Sistemo valori -1\n",
    "for i in range(0, len(data)):\n",
    "    for j in range(12, 17):\n",
    "        ba=data.iat[i, j]\n",
    "        if(ba>0):\n",
    "            pa=data.iat[i, j+5]\n",
    "            if((ba-pa)<=0):\n",
    "                ps=data.iat[i, j-6]\n",
    "                if(ps!=-1):\n",
    "                    data.iloc[i,j-6]=-1"
   ]
  },
  {
   "cell_type": "code",
   "execution_count": 13,
   "metadata": {},
   "outputs": [
    {
     "name": "stdout",
     "output_type": "stream",
     "text": [
      "Different from -2:  1814\n",
      "Rows:  1585\n",
      "Tot:  5510\n",
      "Percentage of error:  32.92196007259528\n"
     ]
    }
   ],
   "source": [
    "#FORMULA 2\n",
    "#Se BA==0 non è detto che PS debba essere -2. \n",
    "#Perchè il BA==0 può essere conseguenza di un precedente BA<0 che è stato conpensato da una nuova spesa (portandolo a -2)\n",
    "tot=0\n",
    "count=0\n",
    "rows=set()\n",
    "for i in range(0, len(data)):\n",
    "    for j in range(11,16):\n",
    "        ba=data.iat[i,j]\n",
    "        precBa=data.iat[i,j+1]\n",
    "        pa=data.iat[i,j+6]\n",
    "        ps=data.iat[i,j-6]\n",
    "        if(ba<=0):\n",
    "            if(ba==(precBa-pa)):\n",
    "                tot+=1\n",
    "                if(ps!=-2):\n",
    "                    count+=1\n",
    "                    rows.add(i)\n",
    "print(\"Total number of cells: \", tot)\n",
    "print(\"Total number of errors: \", count)\n",
    "print('Rows involved: ', len(rows))\n",
    "perc=(count*100)/tot\n",
    "print(\"Percentage of error: \", perc)"
   ]
  },
  {
   "cell_type": "code",
   "execution_count": null,
   "metadata": {},
   "outputs": [],
   "source": [
    "#combinazioni controllate dalla FORMULA 2\n",
    "for j in range(11,16):\n",
    "    print(\"ROW\")\n",
    "    print(data.columns[j])\n",
    "    print(data.columns[j+1])\n",
    "    print(data.columns[j+6])\n",
    "    print(data.columns[j-6])"
   ]
  },
  {
   "cell_type": "code",
   "execution_count": 134,
   "metadata": {},
   "outputs": [],
   "source": [
    "#Correzione FORMULA 2\n",
    "#sistemo valori -2\n",
    "for i in range(0, len(data)):\n",
    "    for j in range(11,16):\n",
    "        ba=data.iat[i,j]\n",
    "        precBa=data.iat[i,j+1]\n",
    "        pa=data.iat[i,j+6]\n",
    "        ps=data.iat[i,j-6]\n",
    "        if(ba<=0):\n",
    "            if(ba==(precBa-pa)):\n",
    "                if(ps!=-2):\n",
    "                    data.iloc[i,j-6]=-2"
   ]
  },
  {
   "cell_type": "code",
   "execution_count": 14,
   "metadata": {},
   "outputs": [
    {
     "name": "stdout",
     "output_type": "stream",
     "text": [
      "Count 655\n",
      "Rows 545\n",
      "Tot:  26410\n",
      "Percentage of error:  2.4801211662249147\n"
     ]
    }
   ],
   "source": [
    "#FORMULA 3\n",
    "#se ps==0 e ba>0 allora pa>0\n",
    "#non verificabile perchè non si sa qual è il credito minimo da pagare\n",
    "rows=set()\n",
    "count=0\n",
    "tot=0\n",
    "for i in range(0,len(data)):\n",
    "    for j in range(6,11):\n",
    "        ps=data.iat[i,j]\n",
    "        ba=data.iat[i,j+6]\n",
    "        if((ps==0) & (ba>0)):\n",
    "            pa=data.iat[i,j+6+5]\n",
    "            tot+=1\n",
    "            if(pa<=0):\n",
    "                count+=1\n",
    "                rows.add(i)\n",
    "print(\"Total number of cells: \", tot)\n",
    "print(\"Total number of errors: \", count)\n",
    "print('Rows involved: ', len(rows))\n",
    "perc=(count*100)/tot\n",
    "print(\"Percentage of error: \", perc)"
   ]
  },
  {
   "cell_type": "code",
   "execution_count": null,
   "metadata": {},
   "outputs": [],
   "source": [
    "#combinazioni controllate dalla FORMULA 3\n",
    "for j in range(6,11):\n",
    "    print(\"ROW\")\n",
    "    print(data.columns[j])\n",
    "    print(data.columns[j+6])\n",
    "    print(data.columns[j+6+5])"
   ]
  },
  {
   "cell_type": "code",
   "execution_count": 15,
   "metadata": {},
   "outputs": [
    {
     "name": "stdout",
     "output_type": "stream",
     "text": [
      "Count 738\n",
      "Rows 431\n",
      "Tot:  32670\n",
      "Percentage of error:  2.2589531680440773\n"
     ]
    }
   ],
   "source": [
    "#FORMULA 4\n",
    "#se ps>=0 e ba>0 allora il successivo ba deve essere maggiore di (ba-pa) precedenti\n",
    "rows=set()\n",
    "count=0\n",
    "tot=0\n",
    "for i in range(0,len(data)):\n",
    "    for j in range(5,10):\n",
    "        ps=data.iat[i,j]\n",
    "        ba=data.iat[i,j+6]\n",
    "        if((ps>=0) & (ba>0)):\n",
    "            baPrec=data.iat[i,j+6+1]\n",
    "            paPrec=data.iat[i,j+6+1+5]\n",
    "            dif=baPrec-paPrec\n",
    "            tot+=1\n",
    "            if(ba<=dif):\n",
    "                count+=1\n",
    "                rows.add(i)\n",
    "print(\"Total number of cells: \", tot)\n",
    "print(\"Total number of errors: \", count)\n",
    "print('Rows involved: ', len(rows))\n",
    "perc=(count*100)/tot\n",
    "print(\"Percentage of error: \", perc)"
   ]
  },
  {
   "cell_type": "code",
   "execution_count": 89,
   "metadata": {
    "collapsed": true
   },
   "outputs": [
    {
     "name": "stdout",
     "output_type": "stream",
     "text": [
      "ROW\n",
      "ps-sep\n",
      "ba-sep\n",
      "ba-aug\n",
      "pa-sep\n",
      "ROW\n",
      "ps-aug\n",
      "ba-aug\n",
      "ba-jul\n",
      "pa-aug\n",
      "ROW\n",
      "ps-jul\n",
      "ba-jul\n",
      "ba-jun\n",
      "pa-jul\n",
      "ROW\n",
      "ps-jun\n",
      "ba-jun\n",
      "ba-may\n",
      "pa-jun\n",
      "ROW\n",
      "ps-may\n",
      "ba-may\n",
      "ba-apr\n",
      "pa-may\n"
     ]
    }
   ],
   "source": [
    "#combinazioni controllate dalla FORMULA 4\n",
    "for j in range(5,10):\n",
    "    print(\"ROW\")\n",
    "    print(data.columns[j])\n",
    "    print(data.columns[j+6])\n",
    "    print(data.columns[j+6+1])\n",
    "    print(data.columns[j+6+1+5])"
   ]
  },
  {
   "cell_type": "code",
   "execution_count": 137,
   "metadata": {},
   "outputs": [
    {
     "name": "stdout",
     "output_type": "stream",
     "text": [
      "Count 0\n",
      "Rows 0\n"
     ]
    }
   ],
   "source": [
    "#FORMULA 5\n",
    "#se ho un ba<0 allora deve essere >= della differenza tra ba e pa precedenti\n",
    "count=0\n",
    "rows=set()\n",
    "for i in range(0, len(data)):\n",
    "    for j in range(11,16):\n",
    "        ba=data.iat[i,j]\n",
    "        if(ba<0):\n",
    "            precBa=data.iat[i,j+1]\n",
    "            pa=data.iat[i,j+6]\n",
    "            diff=ba-pa\n",
    "            if(ba<diff):\n",
    "                count+=1\n",
    "                rows.add(i)\n",
    "print(\"Count\",count)\n",
    "print(\"Rows\", len(rows))"
   ]
  },
  {
   "cell_type": "code",
   "execution_count": null,
   "metadata": {},
   "outputs": [],
   "source": []
  }
 ],
 "metadata": {
  "kernelspec": {
   "display_name": "Python 3",
   "language": "python",
   "name": "python3"
  },
  "language_info": {
   "codemirror_mode": {
    "name": "ipython",
    "version": 3
   },
   "file_extension": ".py",
   "mimetype": "text/x-python",
   "name": "python",
   "nbconvert_exporter": "python",
   "pygments_lexer": "ipython3",
   "version": "3.6.5"
  }
 },
 "nbformat": 4,
 "nbformat_minor": 2
}
